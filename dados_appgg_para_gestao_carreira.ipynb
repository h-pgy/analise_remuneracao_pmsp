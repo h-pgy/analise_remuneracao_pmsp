{
 "cells": [
  {
   "cell_type": "code",
   "execution_count": 1,
   "id": "816083cf-535f-4b11-9907-f506dd9059ff",
   "metadata": {},
   "outputs": [],
   "source": [
    "import pandas as pd"
   ]
  },
  {
   "cell_type": "code",
   "execution_count": 2,
   "id": "6b6e9388-0d1c-43b5-ab7a-fe1848d1642b",
   "metadata": {},
   "outputs": [],
   "source": [
    "df = pd.read_csv('project_data/remuneracao_quadros_tecnicos_limpo.csv')"
   ]
  },
  {
   "cell_type": "code",
   "execution_count": 12,
   "id": "75a4a3b2-b409-4dcb-80e3-db9fc19a9673",
   "metadata": {},
   "outputs": [
    {
     "data": {
      "text/plain": [
       "Index(['registro_funcional', 'num_vinculo', 'dc_cargo_base',\n",
       "       'grupo_cargo_base', 'nivel_cargo_base', 'segmento_cargo_base',\n",
       "       'referencia_cargo_comissao', 'relacao_juridica',\n",
       "       'qt_hora_jornada_semanal', 'dc_orgao', 'qtd_servidores_orgao',\n",
       "       'ano_nascimento', 'sexo', 'raca', 'pessoa_com_deficiencia',\n",
       "       'vl_remuneracao_base_mensal', 'vl_outro_elemento_remuneracao',\n",
       "       'vl_remuneracao_total_bruta', 'cedido', 'tempo_exercicio_dias'],\n",
       "      dtype='object')"
      ]
     },
     "execution_count": 12,
     "metadata": {},
     "output_type": "execute_result"
    }
   ],
   "source": [
    "df.keys()"
   ]
  },
  {
   "cell_type": "code",
   "execution_count": 20,
   "id": "35c0f732-13d9-49c2-98c1-435fd89f18a2",
   "metadata": {},
   "outputs": [
    {
     "data": {
      "text/plain": [
       "array(['ANALISTA DE INFORMACOES CULTURA E DESPORTO',\n",
       "       'PROFISSIONAL ENG, ARQ, AGRONOMIA,GEOLOGIA',\n",
       "       'ANALISTA DE ORDENAMENTO TERRITORIAL',\n",
       "       'ESP DESENVOLVIMENTO URBANO', 'ANALISTA',\n",
       "       'ANALISTA ASSISTENCIA DESENVOLVIMENTO SOCIAL',\n",
       "       'ANALISTA PLANEJAMENTO DESENV ORGANIZACIONAL',\n",
       "       'ANALISTA DE MEIO AMBIENTE', 'ECONOMISTA', 'HISTORIADOR',\n",
       "       'ESPECIALISTA', 'AUDITOR FISCAL TRIBUTARIO MUNICIPAL', 'CONTADOR',\n",
       "       'ESP ADM ORÇAMENTO E FINANÇAS PÚBLICAS', 'ENGENHEIRO', 'ARQUITETO',\n",
       "       'ESP ASSISTÊNCIA E DESENVOLVIMENTO SOCIAL',\n",
       "       'ANALISTA ASSIST DESENV SOCIAL EQUIP SOCIAL',\n",
       "       'AUDITOR MUNICIPAL DE CONTROLE INTERNO',\n",
       "       'ANALISTA POLITICAS PUBLICAS GESTAO GOVERNAMENTAL'], dtype=object)"
      ]
     },
     "execution_count": 20,
     "metadata": {},
     "output_type": "execute_result"
    }
   ],
   "source": [
    "df['dc_cargo_base'].unique()"
   ]
  },
  {
   "cell_type": "code",
   "execution_count": 21,
   "id": "24f66ee7-acbd-4e8c-ae6e-882396062f98",
   "metadata": {},
   "outputs": [],
   "source": [
    "desc_appgg = 'ANALISTA POLITICAS PUBLICAS GESTAO GOVERNAMENTAL'"
   ]
  },
  {
   "cell_type": "code",
   "execution_count": 22,
   "id": "45d0f1c2-1569-484f-bc8a-a29b148ff922",
   "metadata": {},
   "outputs": [],
   "source": [
    "appggs = df[df['dc_cargo_base']==desc_appgg]"
   ]
  },
  {
   "cell_type": "code",
   "execution_count": 23,
   "id": "8c2470d4-85e6-46d6-98a0-b5de5e7b7cd5",
   "metadata": {},
   "outputs": [
    {
     "data": {
      "text/plain": [
       "64"
      ]
     },
     "execution_count": 23,
     "metadata": {},
     "output_type": "execute_result"
    }
   ],
   "source": [
    "len(appggs)"
   ]
  },
  {
   "cell_type": "code",
   "execution_count": 4,
   "id": "ac40b774-c06c-4ee6-805d-16f90f0636a0",
   "metadata": {},
   "outputs": [],
   "source": [
    "if \"Unnamed: 0\" in df:\n",
    "    df.drop('Unnamed: 0', axis = 1, inplace=True)"
   ]
  },
  {
   "cell_type": "code",
   "execution_count": 16,
   "id": "3a03eecb-6bc4-4872-a891-f7e4ae7908a9",
   "metadata": {},
   "outputs": [],
   "source": [
    "dados_cadastrais = pd.read_csv('original_data/aggregated/cadastro_servidores_ativos_jul_2021.csv',\n",
    "                              sep=';')"
   ]
  },
  {
   "cell_type": "code",
   "execution_count": 17,
   "id": "291eb823-a064-4097-a3b8-617e356bdd7f",
   "metadata": {},
   "outputs": [
    {
     "data": {
      "text/plain": [
       "Index(['REGISTRO', 'VINCULO', 'NOME', 'CARGO_BASICO', 'REF_CARGO_BAS',\n",
       "       'SEGMENTO', 'GRUPO', 'SUBGRUPO', 'ESCOL_CARGO_BASICO', 'CARGO_COMISSAO',\n",
       "       'REF_CARGO_COM', 'ESCOL_CARGO_COMISSAO', 'DATA_INICIO_EXERC',\n",
       "       'REL_JUR_ADM', 'SECRET_SUBPREF', 'SETOR', 'ORGAO_EXT', 'SEXO',\n",
       "       'ANO_NASCIMENTO', 'RACA', 'DEFICIENTE'],\n",
       "      dtype='object')"
      ]
     },
     "execution_count": 17,
     "metadata": {},
     "output_type": "execute_result"
    }
   ],
   "source": [
    "dados_cadastrais.keys()"
   ]
  },
  {
   "cell_type": "code",
   "execution_count": 18,
   "id": "404813b0-ad8c-4958-b424-fcf9b5d51774",
   "metadata": {},
   "outputs": [],
   "source": [
    "dados_cadastrais = dados_cadastrais[['REGISTRO', 'NOME', 'CARGO_COMISSAO', 'ESCOL_CARGO_COMISSAO', 'SETOR', 'ORGAO_EXT']]"
   ]
  },
  {
   "cell_type": "code",
   "execution_count": 25,
   "id": "30e62268-a502-45c7-8ebb-94659e5d4eb0",
   "metadata": {},
   "outputs": [],
   "source": [
    "df = pd.merge(appggs, dados_cadastrais, how='left', \n",
    "         left_on='registro_funcional', right_on='REGISTRO')"
   ]
  },
  {
   "cell_type": "code",
   "execution_count": 27,
   "id": "599b2cfd-f3ff-4fbb-bed0-d3b8605dbfeb",
   "metadata": {},
   "outputs": [
    {
     "data": {
      "text/plain": [
       "array([nan], dtype=object)"
      ]
     },
     "execution_count": 27,
     "metadata": {},
     "output_type": "execute_result"
    }
   ],
   "source": [
    "df['segmento_cargo_base'].unique()"
   ]
  },
  {
   "cell_type": "code",
   "execution_count": 28,
   "id": "8b278dff-2ae4-45f0-b6f2-e49e54a30810",
   "metadata": {},
   "outputs": [],
   "source": [
    "df.drop('segmento_cargo_base',axis=1, inplace=True)"
   ]
  },
  {
   "cell_type": "code",
   "execution_count": 29,
   "id": "4130015b-d549-4f50-8437-14093adcc3bf",
   "metadata": {},
   "outputs": [
    {
     "data": {
      "text/html": [
       "<div>\n",
       "<style scoped>\n",
       "    .dataframe tbody tr th:only-of-type {\n",
       "        vertical-align: middle;\n",
       "    }\n",
       "\n",
       "    .dataframe tbody tr th {\n",
       "        vertical-align: top;\n",
       "    }\n",
       "\n",
       "    .dataframe thead th {\n",
       "        text-align: right;\n",
       "    }\n",
       "</style>\n",
       "<table border=\"1\" class=\"dataframe\">\n",
       "  <thead>\n",
       "    <tr style=\"text-align: right;\">\n",
       "      <th></th>\n",
       "      <th>registro_funcional</th>\n",
       "      <th>num_vinculo</th>\n",
       "      <th>dc_cargo_base</th>\n",
       "      <th>grupo_cargo_base</th>\n",
       "      <th>nivel_cargo_base</th>\n",
       "      <th>referencia_cargo_comissao</th>\n",
       "      <th>relacao_juridica</th>\n",
       "      <th>qt_hora_jornada_semanal</th>\n",
       "      <th>dc_orgao</th>\n",
       "      <th>qtd_servidores_orgao</th>\n",
       "      <th>...</th>\n",
       "      <th>vl_outro_elemento_remuneracao</th>\n",
       "      <th>vl_remuneracao_total_bruta</th>\n",
       "      <th>cedido</th>\n",
       "      <th>tempo_exercicio_dias</th>\n",
       "      <th>REGISTRO</th>\n",
       "      <th>NOME</th>\n",
       "      <th>CARGO_COMISSAO</th>\n",
       "      <th>ESCOL_CARGO_COMISSAO</th>\n",
       "      <th>SETOR</th>\n",
       "      <th>ORGAO_EXT</th>\n",
       "    </tr>\n",
       "  </thead>\n",
       "  <tbody>\n",
       "    <tr>\n",
       "      <th>0</th>\n",
       "      <td>7809948</td>\n",
       "      <td>3</td>\n",
       "      <td>ANALISTA POLITICAS PUBLICAS GESTAO GOVERNAMENTAL</td>\n",
       "      <td>QPGG</td>\n",
       "      <td>I</td>\n",
       "      <td>NaN</td>\n",
       "      <td>EFETIVO</td>\n",
       "      <td>40</td>\n",
       "      <td>SECRETARIA MUNICIPAL DA PESSOA COM DEFICIENCIA</td>\n",
       "      <td>51.0</td>\n",
       "      <td>...</td>\n",
       "      <td>412.23</td>\n",
       "      <td>9414.93</td>\n",
       "      <td>False</td>\n",
       "      <td>1865</td>\n",
       "      <td>7809948</td>\n",
       "      <td>LUIZ CARLOS LOPES</td>\n",
       "      <td>NaN</td>\n",
       "      <td>NaN</td>\n",
       "      <td>SECRETARIA MUNICIPAL DA PESSOA COM DEFICIENCIA</td>\n",
       "      <td>NaN</td>\n",
       "    </tr>\n",
       "    <tr>\n",
       "      <th>1</th>\n",
       "      <td>7840501</td>\n",
       "      <td>2</td>\n",
       "      <td>ANALISTA POLITICAS PUBLICAS GESTAO GOVERNAMENTAL</td>\n",
       "      <td>QPGG</td>\n",
       "      <td>I</td>\n",
       "      <td>NaN</td>\n",
       "      <td>EFETIVO</td>\n",
       "      <td>40</td>\n",
       "      <td>SECRETARIA MUNICIPAL DA PESSOA COM DEFICIENCIA</td>\n",
       "      <td>51.0</td>\n",
       "      <td>...</td>\n",
       "      <td>412.23</td>\n",
       "      <td>10495.23</td>\n",
       "      <td>False</td>\n",
       "      <td>1359</td>\n",
       "      <td>7840501</td>\n",
       "      <td>THAIS ROBERTO DA SILVA</td>\n",
       "      <td>NaN</td>\n",
       "      <td>NaN</td>\n",
       "      <td>SECRETARIA MUNICIPAL DA PESSOA COM DEFICIENCIA</td>\n",
       "      <td>NaN</td>\n",
       "    </tr>\n",
       "    <tr>\n",
       "      <th>2</th>\n",
       "      <td>8111618</td>\n",
       "      <td>2</td>\n",
       "      <td>ANALISTA POLITICAS PUBLICAS GESTAO GOVERNAMENTAL</td>\n",
       "      <td>QPGG</td>\n",
       "      <td>I</td>\n",
       "      <td>NaN</td>\n",
       "      <td>EFETIVO</td>\n",
       "      <td>40</td>\n",
       "      <td>GABINETE DO PREFEITO</td>\n",
       "      <td>865.0</td>\n",
       "      <td>...</td>\n",
       "      <td>412.23</td>\n",
       "      <td>11100.21</td>\n",
       "      <td>False</td>\n",
       "      <td>1886</td>\n",
       "      <td>8111618</td>\n",
       "      <td>VINICIUS PEDRON MACARIO</td>\n",
       "      <td>NaN</td>\n",
       "      <td>NaN</td>\n",
       "      <td>GABINETE DO PREFEITO</td>\n",
       "      <td>NaN</td>\n",
       "    </tr>\n",
       "    <tr>\n",
       "      <th>3</th>\n",
       "      <td>8113645</td>\n",
       "      <td>2</td>\n",
       "      <td>ANALISTA POLITICAS PUBLICAS GESTAO GOVERNAMENTAL</td>\n",
       "      <td>QPGG</td>\n",
       "      <td>I</td>\n",
       "      <td>NaN</td>\n",
       "      <td>EFETIVO</td>\n",
       "      <td>40</td>\n",
       "      <td>SECRETARIA MUNICIPAL DE SEGURANCA URBANA</td>\n",
       "      <td>6156.0</td>\n",
       "      <td>...</td>\n",
       "      <td>412.23</td>\n",
       "      <td>11100.21</td>\n",
       "      <td>False</td>\n",
       "      <td>1884</td>\n",
       "      <td>8113645</td>\n",
       "      <td>VINICIUS FELIX DA SILVA</td>\n",
       "      <td>NaN</td>\n",
       "      <td>NaN</td>\n",
       "      <td>SECRETARIA MUNICIPAL DE SEGURANCA URBANA</td>\n",
       "      <td>NaN</td>\n",
       "    </tr>\n",
       "    <tr>\n",
       "      <th>4</th>\n",
       "      <td>8147299</td>\n",
       "      <td>2</td>\n",
       "      <td>ANALISTA POLITICAS PUBLICAS GESTAO GOVERNAMENTAL</td>\n",
       "      <td>QPGG</td>\n",
       "      <td>I</td>\n",
       "      <td>NaN</td>\n",
       "      <td>EFETIVO</td>\n",
       "      <td>40</td>\n",
       "      <td>SECRETARIA MUNICIPAL DE DIREITOS HUMANOS E CID...</td>\n",
       "      <td>285.0</td>\n",
       "      <td>...</td>\n",
       "      <td>412.23</td>\n",
       "      <td>10495.23</td>\n",
       "      <td>False</td>\n",
       "      <td>1540</td>\n",
       "      <td>8147299</td>\n",
       "      <td>AMANDA THEODORO DE SOUZA</td>\n",
       "      <td>NaN</td>\n",
       "      <td>NaN</td>\n",
       "      <td>SECRETARIA MUNICIPAL DE DIREITOS HUMANOS E CID...</td>\n",
       "      <td>NaN</td>\n",
       "    </tr>\n",
       "  </tbody>\n",
       "</table>\n",
       "<p>5 rows × 25 columns</p>\n",
       "</div>"
      ],
      "text/plain": [
       "   registro_funcional  num_vinculo  \\\n",
       "0             7809948            3   \n",
       "1             7840501            2   \n",
       "2             8111618            2   \n",
       "3             8113645            2   \n",
       "4             8147299            2   \n",
       "\n",
       "                                      dc_cargo_base grupo_cargo_base  \\\n",
       "0  ANALISTA POLITICAS PUBLICAS GESTAO GOVERNAMENTAL             QPGG   \n",
       "1  ANALISTA POLITICAS PUBLICAS GESTAO GOVERNAMENTAL             QPGG   \n",
       "2  ANALISTA POLITICAS PUBLICAS GESTAO GOVERNAMENTAL             QPGG   \n",
       "3  ANALISTA POLITICAS PUBLICAS GESTAO GOVERNAMENTAL             QPGG   \n",
       "4  ANALISTA POLITICAS PUBLICAS GESTAO GOVERNAMENTAL             QPGG   \n",
       "\n",
       "  nivel_cargo_base referencia_cargo_comissao relacao_juridica  \\\n",
       "0                I                       NaN          EFETIVO   \n",
       "1                I                       NaN          EFETIVO   \n",
       "2                I                       NaN          EFETIVO   \n",
       "3                I                       NaN          EFETIVO   \n",
       "4                I                       NaN          EFETIVO   \n",
       "\n",
       "   qt_hora_jornada_semanal                                           dc_orgao  \\\n",
       "0                       40     SECRETARIA MUNICIPAL DA PESSOA COM DEFICIENCIA   \n",
       "1                       40     SECRETARIA MUNICIPAL DA PESSOA COM DEFICIENCIA   \n",
       "2                       40                               GABINETE DO PREFEITO   \n",
       "3                       40           SECRETARIA MUNICIPAL DE SEGURANCA URBANA   \n",
       "4                       40  SECRETARIA MUNICIPAL DE DIREITOS HUMANOS E CID...   \n",
       "\n",
       "   qtd_servidores_orgao  ...  vl_outro_elemento_remuneracao  \\\n",
       "0                  51.0  ...                         412.23   \n",
       "1                  51.0  ...                         412.23   \n",
       "2                 865.0  ...                         412.23   \n",
       "3                6156.0  ...                         412.23   \n",
       "4                 285.0  ...                         412.23   \n",
       "\n",
       "  vl_remuneracao_total_bruta cedido tempo_exercicio_dias  REGISTRO  \\\n",
       "0                    9414.93  False                 1865   7809948   \n",
       "1                   10495.23  False                 1359   7840501   \n",
       "2                   11100.21  False                 1886   8111618   \n",
       "3                   11100.21  False                 1884   8113645   \n",
       "4                   10495.23  False                 1540   8147299   \n",
       "\n",
       "                       NOME  CARGO_COMISSAO  ESCOL_CARGO_COMISSAO  \\\n",
       "0         LUIZ CARLOS LOPES             NaN                   NaN   \n",
       "1    THAIS ROBERTO DA SILVA             NaN                   NaN   \n",
       "2   VINICIUS PEDRON MACARIO             NaN                   NaN   \n",
       "3   VINICIUS FELIX DA SILVA             NaN                   NaN   \n",
       "4  AMANDA THEODORO DE SOUZA             NaN                   NaN   \n",
       "\n",
       "                                               SETOR  ORGAO_EXT  \n",
       "0     SECRETARIA MUNICIPAL DA PESSOA COM DEFICIENCIA        NaN  \n",
       "1     SECRETARIA MUNICIPAL DA PESSOA COM DEFICIENCIA        NaN  \n",
       "2                               GABINETE DO PREFEITO        NaN  \n",
       "3           SECRETARIA MUNICIPAL DE SEGURANCA URBANA        NaN  \n",
       "4  SECRETARIA MUNICIPAL DE DIREITOS HUMANOS E CID...        NaN  \n",
       "\n",
       "[5 rows x 25 columns]"
      ]
     },
     "execution_count": 29,
     "metadata": {},
     "output_type": "execute_result"
    }
   ],
   "source": [
    "df.head()"
   ]
  },
  {
   "cell_type": "code",
   "execution_count": 30,
   "id": "b095e4d1-5347-4118-bca3-5097535bc40b",
   "metadata": {},
   "outputs": [
    {
     "data": {
      "text/plain": [
       "Index(['registro_funcional', 'num_vinculo', 'dc_cargo_base',\n",
       "       'grupo_cargo_base', 'nivel_cargo_base', 'referencia_cargo_comissao',\n",
       "       'relacao_juridica', 'qt_hora_jornada_semanal', 'dc_orgao',\n",
       "       'qtd_servidores_orgao', 'ano_nascimento', 'sexo', 'raca',\n",
       "       'pessoa_com_deficiencia', 'vl_remuneracao_base_mensal',\n",
       "       'vl_outro_elemento_remuneracao', 'vl_remuneracao_total_bruta', 'cedido',\n",
       "       'tempo_exercicio_dias', 'REGISTRO', 'NOME', 'CARGO_COMISSAO',\n",
       "       'ESCOL_CARGO_COMISSAO', 'SETOR', 'ORGAO_EXT'],\n",
       "      dtype='object')"
      ]
     },
     "execution_count": 30,
     "metadata": {},
     "output_type": "execute_result"
    }
   ],
   "source": [
    "df.keys()"
   ]
  },
  {
   "cell_type": "code",
   "execution_count": 32,
   "id": "0dbc798c-52b5-49f9-be40-1b7d682a8ea0",
   "metadata": {},
   "outputs": [],
   "source": [
    "renomear = {\n",
    "    'NOME' : 'nome',\n",
    "    'CARGO_COMISSAO' : 'dc_cargo_comissao',\n",
    "    'ESCOL_CARGO_COMISSAO' : 'escolaridade_cargo_comissao',\n",
    "    'SETOR' : 'setor_de_atuacao',\n",
    "    'ORGAO_EXT' : 'dc_orgao_externo'\n",
    "}"
   ]
  },
  {
   "cell_type": "code",
   "execution_count": 33,
   "id": "bffe604e-8518-449a-81d2-dbe5080f3991",
   "metadata": {},
   "outputs": [],
   "source": [
    "df.rename(renomear, axis=1, inplace=True)"
   ]
  },
  {
   "cell_type": "code",
   "execution_count": 36,
   "id": "503fa232-3489-408b-b5e6-76767272490f",
   "metadata": {},
   "outputs": [],
   "source": [
    "df.drop(\"REGISTRO\", axis=1,inplace=True)"
   ]
  },
  {
   "cell_type": "code",
   "execution_count": 39,
   "id": "c9522a1b-da38-4ac2-bdac-3a3d6d42dde0",
   "metadata": {},
   "outputs": [
    {
     "data": {
      "text/plain": [
       "Index(['registro_funcional', 'num_vinculo', 'dc_cargo_base',\n",
       "       'grupo_cargo_base', 'nivel_cargo_base', 'referencia_cargo_comissao',\n",
       "       'relacao_juridica', 'qt_hora_jornada_semanal', 'dc_orgao',\n",
       "       'qtd_servidores_orgao', 'ano_nascimento', 'sexo', 'raca',\n",
       "       'pessoa_com_deficiencia', 'vl_remuneracao_base_mensal',\n",
       "       'vl_outro_elemento_remuneracao', 'vl_remuneracao_total_bruta', 'cedido',\n",
       "       'tempo_exercicio_dias', 'nome', 'dc_cargo_comissao',\n",
       "       'escolaridade_cargo_comissao', 'setor_de_atuacao', 'dc_orgao_externo'],\n",
       "      dtype='object')"
      ]
     },
     "execution_count": 39,
     "metadata": {},
     "output_type": "execute_result"
    }
   ],
   "source": [
    "df.keys()"
   ]
  },
  {
   "cell_type": "code",
   "execution_count": 41,
   "id": "82b1ca73-bdf1-4cd2-be91-5362e6d927fa",
   "metadata": {},
   "outputs": [],
   "source": [
    "ordem_colunas = [\n",
    "    'registro_funcional',\n",
    "    'nome',\n",
    "    'num_vinculo',\n",
    "    'dc_cargo_base',\n",
    "    'grupo_cargo_base', \n",
    "    'nivel_cargo_base',\n",
    "    'dc_cargo_comissao',\n",
    "    'referencia_cargo_comissao',\n",
    "    'relacao_juridica',\n",
    "    'qt_hora_jornada_semanal',\n",
    "    'dc_orgao',\n",
    "    'qtd_servidores_orgao',\n",
    "    'setor_de_atuacao',\n",
    "    'cedido',\n",
    "    'dc_orgao_externo',\n",
    "    'ano_nascimento', \n",
    "    'sexo', \n",
    "    'raca',\n",
    "    'pessoa_com_deficiencia',\n",
    "    'vl_remuneracao_base_mensal',\n",
    "    'vl_outro_elemento_remuneracao', \n",
    "    'vl_remuneracao_total_bruta',\n",
    "    'tempo_exercicio_dias'\n",
    "]"
   ]
  },
  {
   "cell_type": "code",
   "execution_count": 42,
   "id": "37472230-734e-41cd-8641-49aba8be55e0",
   "metadata": {},
   "outputs": [],
   "source": [
    "df = df[ordem_colunas]"
   ]
  },
  {
   "cell_type": "code",
   "execution_count": 43,
   "id": "d1d7614c-c034-430b-8a39-de5a28cd5b26",
   "metadata": {},
   "outputs": [],
   "source": [
    "df.to_csv('original_data/dados_appggs_gestao_carreira.csv', sep=';', index=False,encoding='utf-8')"
   ]
  },
  {
   "cell_type": "code",
   "execution_count": null,
   "id": "9267a610-325a-479d-ba68-8815aabac60d",
   "metadata": {},
   "outputs": [],
   "source": []
  }
 ],
 "metadata": {
  "kernelspec": {
   "display_name": "Python 3",
   "language": "python",
   "name": "python3"
  },
  "language_info": {
   "codemirror_mode": {
    "name": "ipython",
    "version": 3
   },
   "file_extension": ".py",
   "mimetype": "text/x-python",
   "name": "python",
   "nbconvert_exporter": "python",
   "pygments_lexer": "ipython3",
   "version": "3.8.8"
  }
 },
 "nbformat": 4,
 "nbformat_minor": 5
}
