{
 "cells": [
  {
   "cell_type": "code",
   "execution_count": 1,
   "id": "15245123-f2fb-4f7d-9cde-797f27e3b588",
   "metadata": {},
   "outputs": [],
   "source": [
    "import pandas as pd"
   ]
  },
  {
   "cell_type": "code",
   "execution_count": 2,
   "id": "6dc18f16-db91-4389-a62a-5a5f6a5621e5",
   "metadata": {},
   "outputs": [],
   "source": [
    "df = pd.read_csv('project_data/remuneracao_quadros_tecnicos_raw.csv', sep=';')"
   ]
  },
  {
   "cell_type": "code",
   "execution_count": 3,
   "id": "d77e3806-4cb9-4ca1-ac68-64ca52c8bf93",
   "metadata": {},
   "outputs": [
    {
     "data": {
      "text/html": [
       "<div>\n",
       "<style scoped>\n",
       "    .dataframe tbody tr th:only-of-type {\n",
       "        vertical-align: middle;\n",
       "    }\n",
       "\n",
       "    .dataframe tbody tr th {\n",
       "        vertical-align: top;\n",
       "    }\n",
       "\n",
       "    .dataframe thead th {\n",
       "        text-align: right;\n",
       "    }\n",
       "</style>\n",
       "<table border=\"1\" class=\"dataframe\">\n",
       "  <thead>\n",
       "    <tr style=\"text-align: right;\">\n",
       "      <th></th>\n",
       "      <th>Unnamed: 0</th>\n",
       "      <th>REGISTRO</th>\n",
       "      <th>VINCULO</th>\n",
       "      <th>NOME</th>\n",
       "      <th>CARGO_BASICO</th>\n",
       "      <th>REF_CARGO_BAS</th>\n",
       "      <th>SEGMENTO</th>\n",
       "      <th>GRUPO</th>\n",
       "      <th>SUBGRUPO</th>\n",
       "      <th>ESCOL_CARGO_BASICO</th>\n",
       "      <th>...</th>\n",
       "      <th>dc_cargo_comissionado</th>\n",
       "      <th>vl_remuneracao_mensal</th>\n",
       "      <th>vl_outro_elemento_remuneracao</th>\n",
       "      <th>vl_remuneracao_total_bruta</th>\n",
       "      <th>cd_caso_especial</th>\n",
       "      <th>dc_tipo_logradouro_servidor</th>\n",
       "      <th>nm_logradouro_servidor</th>\n",
       "      <th>nr_logradouro_servidor</th>\n",
       "      <th>tx_complemento_logradouro_servidor</th>\n",
       "      <th>qt_hora_jornada_semanal</th>\n",
       "    </tr>\n",
       "  </thead>\n",
       "  <tbody>\n",
       "    <tr>\n",
       "      <th>1043</th>\n",
       "      <td>1107</td>\n",
       "      <td>7266634</td>\n",
       "      <td>5</td>\n",
       "      <td>ROSIMEIRE LOBATO</td>\n",
       "      <td>ANALISTA DE MEIO AMBIENTE NIVEL II</td>\n",
       "      <td>Q6</td>\n",
       "      <td>MEIO AMBIENTE</td>\n",
       "      <td>QAA</td>\n",
       "      <td>SUPERIOR</td>\n",
       "      <td>SUPERIOR COMPLETO</td>\n",
       "      <td>...</td>\n",
       "      <td>COORDENADOR DE PROJETOS</td>\n",
       "      <td>R$ 8.077,17</td>\n",
       "      <td>R$ 412,23</td>\n",
       "      <td>R$ 8.489,40</td>\n",
       "      <td>NaN</td>\n",
       "      <td>Rua</td>\n",
       "      <td>DO PARAISO</td>\n",
       "      <td>387.0</td>\n",
       "      <td>NaN</td>\n",
       "      <td>40 H</td>\n",
       "    </tr>\n",
       "    <tr>\n",
       "      <th>2209</th>\n",
       "      <td>2350</td>\n",
       "      <td>7902719</td>\n",
       "      <td>1</td>\n",
       "      <td>VANDA APARECIDA FERREIRA</td>\n",
       "      <td>ANALISTA ASSISTENCIA DESENVOLVIMENTO SOCIAL NI...</td>\n",
       "      <td>Q5</td>\n",
       "      <td>SERVICO SOCIAL</td>\n",
       "      <td>QAA</td>\n",
       "      <td>SUPERIOR</td>\n",
       "      <td>SUPERIOR COMPLETO</td>\n",
       "      <td>...</td>\n",
       "      <td>NaN</td>\n",
       "      <td>R$ 7.215,11</td>\n",
       "      <td>R$ 353,34</td>\n",
       "      <td>R$ 7.568,45</td>\n",
       "      <td>NaN</td>\n",
       "      <td>Rua</td>\n",
       "      <td>BANDEIRANTES</td>\n",
       "      <td>55.0</td>\n",
       "      <td>NaN</td>\n",
       "      <td>30 H ESP ASST SOC</td>\n",
       "    </tr>\n",
       "    <tr>\n",
       "      <th>3367</th>\n",
       "      <td>3557</td>\n",
       "      <td>8593787</td>\n",
       "      <td>1</td>\n",
       "      <td>CARLOS AILTON DOS SANTOS JUNIOR</td>\n",
       "      <td>ANALISTA ASSISTENCIA DESENVOLVIMENTO SOCIAL NI...</td>\n",
       "      <td>Q1</td>\n",
       "      <td>SERVICO SOCIAL</td>\n",
       "      <td>QAA</td>\n",
       "      <td>SUPERIOR</td>\n",
       "      <td>SUPERIOR COMPLETO</td>\n",
       "      <td>...</td>\n",
       "      <td>COORDENADOR I</td>\n",
       "      <td>R$ 6.753,31</td>\n",
       "      <td>R$ 1.058,85</td>\n",
       "      <td>R$ 7.812,16</td>\n",
       "      <td>NaN</td>\n",
       "      <td>Rua</td>\n",
       "      <td>SOLDADO JOSE ANTONIO MOREIRA</td>\n",
       "      <td>546.0</td>\n",
       "      <td>NaN</td>\n",
       "      <td>40 H</td>\n",
       "    </tr>\n",
       "    <tr>\n",
       "      <th>901</th>\n",
       "      <td>958</td>\n",
       "      <td>6878997</td>\n",
       "      <td>1</td>\n",
       "      <td>VANDO FRANCISCO DE JESUS</td>\n",
       "      <td>AUDITOR FISCAL TRIBUTARIO MUNICIPAL NII</td>\n",
       "      <td>QPAT-8</td>\n",
       "      <td>NaN</td>\n",
       "      <td>QPAT</td>\n",
       "      <td>SUPERIOR</td>\n",
       "      <td>SUPERIOR COMPLETO</td>\n",
       "      <td>...</td>\n",
       "      <td>NaN</td>\n",
       "      <td>R$ 24.175,55</td>\n",
       "      <td>R$ 8.505,39</td>\n",
       "      <td>R$ 32.680,94</td>\n",
       "      <td>NaN</td>\n",
       "      <td>Rua</td>\n",
       "      <td>LIBERO BADARO</td>\n",
       "      <td>190.0</td>\n",
       "      <td>9Âº ANDAR</td>\n",
       "      <td>44 H</td>\n",
       "    </tr>\n",
       "    <tr>\n",
       "      <th>1282</th>\n",
       "      <td>1383</td>\n",
       "      <td>7536135</td>\n",
       "      <td>1</td>\n",
       "      <td>PATRICIA BONACIN SANCHEZ</td>\n",
       "      <td>PROFISSIONAL ENG, ARQ, AGRONOMIA,GEOLOGIA NIVE...</td>\n",
       "      <td>QEAG7</td>\n",
       "      <td>ENGENHARIA</td>\n",
       "      <td>QEAG</td>\n",
       "      <td>SUPERIOR</td>\n",
       "      <td>SUPERIOR COMPLETO</td>\n",
       "      <td>...</td>\n",
       "      <td>NaN</td>\n",
       "      <td>R$ 9.290,79</td>\n",
       "      <td>R$ 412,23</td>\n",
       "      <td>R$ 9.703,02</td>\n",
       "      <td>NaN</td>\n",
       "      <td>Rua</td>\n",
       "      <td>DO PARAISO</td>\n",
       "      <td>387.0</td>\n",
       "      <td>2Âº ANDAR</td>\n",
       "      <td>40 H</td>\n",
       "    </tr>\n",
       "  </tbody>\n",
       "</table>\n",
       "<p>5 rows × 42 columns</p>\n",
       "</div>"
      ],
      "text/plain": [
       "      Unnamed: 0  REGISTRO  VINCULO                             NOME  \\\n",
       "1043        1107   7266634        5                 ROSIMEIRE LOBATO   \n",
       "2209        2350   7902719        1         VANDA APARECIDA FERREIRA   \n",
       "3367        3557   8593787        1  CARLOS AILTON DOS SANTOS JUNIOR   \n",
       "901          958   6878997        1         VANDO FRANCISCO DE JESUS   \n",
       "1282        1383   7536135        1         PATRICIA BONACIN SANCHEZ   \n",
       "\n",
       "                                           CARGO_BASICO REF_CARGO_BAS  \\\n",
       "1043                 ANALISTA DE MEIO AMBIENTE NIVEL II            Q6   \n",
       "2209  ANALISTA ASSISTENCIA DESENVOLVIMENTO SOCIAL NI...            Q5   \n",
       "3367  ANALISTA ASSISTENCIA DESENVOLVIMENTO SOCIAL NI...            Q1   \n",
       "901             AUDITOR FISCAL TRIBUTARIO MUNICIPAL NII        QPAT-8   \n",
       "1282  PROFISSIONAL ENG, ARQ, AGRONOMIA,GEOLOGIA NIVE...         QEAG7   \n",
       "\n",
       "            SEGMENTO GRUPO  SUBGRUPO ESCOL_CARGO_BASICO  ...  \\\n",
       "1043   MEIO AMBIENTE   QAA  SUPERIOR  SUPERIOR COMPLETO  ...   \n",
       "2209  SERVICO SOCIAL   QAA  SUPERIOR  SUPERIOR COMPLETO  ...   \n",
       "3367  SERVICO SOCIAL   QAA  SUPERIOR  SUPERIOR COMPLETO  ...   \n",
       "901              NaN  QPAT  SUPERIOR  SUPERIOR COMPLETO  ...   \n",
       "1282      ENGENHARIA  QEAG  SUPERIOR  SUPERIOR COMPLETO  ...   \n",
       "\n",
       "        dc_cargo_comissionado vl_remuneracao_mensal  \\\n",
       "1043  COORDENADOR DE PROJETOS           R$ 8.077,17   \n",
       "2209                      NaN           R$ 7.215,11   \n",
       "3367            COORDENADOR I           R$ 6.753,31   \n",
       "901                       NaN          R$ 24.175,55   \n",
       "1282                      NaN           R$ 9.290,79   \n",
       "\n",
       "     vl_outro_elemento_remuneracao vl_remuneracao_total_bruta  \\\n",
       "1043                     R$ 412,23                R$ 8.489,40   \n",
       "2209                     R$ 353,34                R$ 7.568,45   \n",
       "3367                   R$ 1.058,85                R$ 7.812,16   \n",
       "901                    R$ 8.505,39               R$ 32.680,94   \n",
       "1282                     R$ 412,23                R$ 9.703,02   \n",
       "\n",
       "     cd_caso_especial dc_tipo_logradouro_servidor  \\\n",
       "1043              NaN                         Rua   \n",
       "2209              NaN                         Rua   \n",
       "3367              NaN                         Rua   \n",
       "901               NaN                         Rua   \n",
       "1282              NaN                         Rua   \n",
       "\n",
       "            nm_logradouro_servidor nr_logradouro_servidor  \\\n",
       "1043                    DO PARAISO                  387.0   \n",
       "2209                  BANDEIRANTES                   55.0   \n",
       "3367  SOLDADO JOSE ANTONIO MOREIRA                  546.0   \n",
       "901                  LIBERO BADARO                  190.0   \n",
       "1282                    DO PARAISO                  387.0   \n",
       "\n",
       "     tx_complemento_logradouro_servidor  qt_hora_jornada_semanal  \n",
       "1043                                NaN                     40 H  \n",
       "2209                                NaN        30 H ESP ASST SOC  \n",
       "3367                                NaN                     40 H  \n",
       "901                           9Âº ANDAR                     44 H  \n",
       "1282                          2Âº ANDAR                     40 H  \n",
       "\n",
       "[5 rows x 42 columns]"
      ]
     },
     "execution_count": 3,
     "metadata": {},
     "output_type": "execute_result"
    }
   ],
   "source": [
    "df.sample(5)"
   ]
  },
  {
   "cell_type": "code",
   "execution_count": 4,
   "id": "e9871205-7dec-4015-915b-99d26112c030",
   "metadata": {},
   "outputs": [],
   "source": [
    "df.drop('Unnamed: 0', axis = 1, inplace=True)"
   ]
  },
  {
   "cell_type": "markdown",
   "id": "c6324a7f-426a-4a90-a0b3-153a7d9be0e7",
   "metadata": {},
   "source": [
    "O cargo base da planilha de remuneração está com problemas de encoding. Por isso, não dá para comparar com ==, mas o tamanho é o mesmo"
   ]
  },
  {
   "cell_type": "code",
   "execution_count": 5,
   "id": "ddb11a9b-ac88-46f5-9b6f-2cd9054240fd",
   "metadata": {},
   "outputs": [
    {
     "data": {
      "text/plain": [
       "True"
      ]
     },
     "execution_count": 5,
     "metadata": {},
     "output_type": "execute_result"
    }
   ],
   "source": [
    "len(df['dc_cargo_base'].unique()) == len(df['CARGO_BASICO'].unique())"
   ]
  },
  {
   "cell_type": "markdown",
   "id": "eb92a53e-a32a-4f64-b4e7-7067469c3289",
   "metadata": {},
   "source": [
    "No entanto, apesar de serem as mesmas categorias, caso as cruzemos percebemos que há alguns servidores no qual o nível mudou de uma base para outra (foram promovidos).\n",
    "\n",
    "O código abaixo checa isso."
   ]
  },
  {
   "cell_type": "code",
   "execution_count": 6,
   "id": "6cd6711e-4a15-4522-837a-2f5149cb0d55",
   "metadata": {},
   "outputs": [],
   "source": [
    "def cruzar_descricao_cargos(df, mostrar_apenas_mais_de_um = True):\n",
    "    \n",
    "    cross_tabs = pd.crosstab(df['dc_cargo_base'], df['CARGO_BASICO'])\n",
    "    for col in cross_tabs:\n",
    "        cross_tabs[col] = cross_tabs[col].apply(lambda x: True if x else False)\n",
    "    if mostrar_apenas_mais_de_um:\n",
    "        mais_de_um = cross_tabs[cross_tabs.apply(lambda row: row.sum()>1, axis=1).values]\n",
    "        cols = []\n",
    "        for col in mais_de_um:\n",
    "            if mais_de_um[col].sum()>0:\n",
    "                cols.append(col)\n",
    "\n",
    "        mais_de_um = mais_de_um[cols]\n",
    "        return mais_de_um.T\n",
    "    return cross_tabs"
   ]
  },
  {
   "cell_type": "code",
   "execution_count": 7,
   "id": "538bba5b-6684-4fe0-adf3-d105f0a2dad0",
   "metadata": {},
   "outputs": [
    {
     "data": {
      "text/html": [
       "<div>\n",
       "<style scoped>\n",
       "    .dataframe tbody tr th:only-of-type {\n",
       "        vertical-align: middle;\n",
       "    }\n",
       "\n",
       "    .dataframe tbody tr th {\n",
       "        vertical-align: top;\n",
       "    }\n",
       "\n",
       "    .dataframe thead th {\n",
       "        text-align: right;\n",
       "    }\n",
       "</style>\n",
       "<table border=\"1\" class=\"dataframe\">\n",
       "  <thead>\n",
       "    <tr style=\"text-align: right;\">\n",
       "      <th>dc_cargo_base</th>\n",
       "      <th>ANALISTA DE INFORMACOES CULTURA E DESPORTO NIVEL I</th>\n",
       "      <th>ANALISTA DE MEIO AMBIENTE NIVEL I</th>\n",
       "    </tr>\n",
       "    <tr>\n",
       "      <th>CARGO_BASICO</th>\n",
       "      <th></th>\n",
       "      <th></th>\n",
       "    </tr>\n",
       "  </thead>\n",
       "  <tbody>\n",
       "    <tr>\n",
       "      <th>ANALISTA DE INFORMACOES CULTURA E DESPORTO NIVEL I</th>\n",
       "      <td>True</td>\n",
       "      <td>False</td>\n",
       "    </tr>\n",
       "    <tr>\n",
       "      <th>ANALISTA DE INFORMACOES CULTURA E DESPORTO NIVEL II</th>\n",
       "      <td>True</td>\n",
       "      <td>False</td>\n",
       "    </tr>\n",
       "    <tr>\n",
       "      <th>ANALISTA DE MEIO AMBIENTE NIVEL I</th>\n",
       "      <td>False</td>\n",
       "      <td>True</td>\n",
       "    </tr>\n",
       "    <tr>\n",
       "      <th>ANALISTA DE MEIO AMBIENTE NIVEL II</th>\n",
       "      <td>False</td>\n",
       "      <td>True</td>\n",
       "    </tr>\n",
       "  </tbody>\n",
       "</table>\n",
       "</div>"
      ],
      "text/plain": [
       "dc_cargo_base                                       ANALISTA DE INFORMACOES CULTURA E DESPORTO NIVEL I  \\\n",
       "CARGO_BASICO                                                                                             \n",
       "ANALISTA DE INFORMACOES CULTURA E DESPORTO NIVEL I                                               True    \n",
       "ANALISTA DE INFORMACOES CULTURA E DESPORTO NIVE...                                               True    \n",
       "ANALISTA DE MEIO AMBIENTE NIVEL I                                                               False    \n",
       "ANALISTA DE MEIO AMBIENTE NIVEL II                                                              False    \n",
       "\n",
       "dc_cargo_base                                       ANALISTA DE MEIO AMBIENTE NIVEL I  \n",
       "CARGO_BASICO                                                                           \n",
       "ANALISTA DE INFORMACOES CULTURA E DESPORTO NIVEL I                              False  \n",
       "ANALISTA DE INFORMACOES CULTURA E DESPORTO NIVE...                              False  \n",
       "ANALISTA DE MEIO AMBIENTE NIVEL I                                                True  \n",
       "ANALISTA DE MEIO AMBIENTE NIVEL II                                               True  "
      ]
     },
     "execution_count": 7,
     "metadata": {},
     "output_type": "execute_result"
    }
   ],
   "source": [
    "cruzar_descricao_cargos(df)"
   ]
  },
  {
   "cell_type": "markdown",
   "id": "cf691b8b-8009-460c-a2f9-0576544b67af",
   "metadata": {},
   "source": [
    "Precisamos arrumar isso, pois caso contrário a variável de nível pode ficar defasada e não performar corretamente no modelo."
   ]
  },
  {
   "cell_type": "code",
   "execution_count": 8,
   "id": "74f58468-0e3b-451e-8d7e-cf7a5a782262",
   "metadata": {},
   "outputs": [],
   "source": [
    "for i, row in df.iterrows():\n",
    "    \n",
    "    if row['CARGO_BASICO']=='ANALISTA DE INFORMACOES CULTURA E DESPORTO NIVEL II' and \\\n",
    "    row['dc_cargo_base']=='ANALISTA DE INFORMACOES CULTURA E DESPORTO NIVEL I':\n",
    "        df.loc[i, 'CARGO_BASICO'] = 'ANALISTA DE INFORMACOES CULTURA E DESPORTO NIVEL I'\n",
    "        df.loc[i, 'nivel_limpo'] = 'I'"
   ]
  },
  {
   "cell_type": "code",
   "execution_count": 9,
   "id": "e99a6c63-46d2-4459-b70c-bdd2614ddb9e",
   "metadata": {},
   "outputs": [],
   "source": [
    "for i, row in df.iterrows():\n",
    "    \n",
    "    if row['CARGO_BASICO']=='ANALISTA DE MEIO AMBIENTE NIVEL II' and \\\n",
    "    row['dc_cargo_base']=='ANALISTA DE MEIO AMBIENTE NIVEL I':\n",
    "        df.loc[i, 'CARGO_BASICO'] = 'ANALISTA DE MEIO AMBIENTE NIVEL I'\n",
    "        df.loc[i, 'nivel_limpo'] = 'I'"
   ]
  },
  {
   "cell_type": "code",
   "execution_count": 10,
   "id": "968704a5-90aa-4124-9e93-902dcfd47137",
   "metadata": {},
   "outputs": [
    {
     "data": {
      "text/html": [
       "<div>\n",
       "<style scoped>\n",
       "    .dataframe tbody tr th:only-of-type {\n",
       "        vertical-align: middle;\n",
       "    }\n",
       "\n",
       "    .dataframe tbody tr th {\n",
       "        vertical-align: top;\n",
       "    }\n",
       "\n",
       "    .dataframe thead th {\n",
       "        text-align: right;\n",
       "    }\n",
       "</style>\n",
       "<table border=\"1\" class=\"dataframe\">\n",
       "  <thead>\n",
       "    <tr style=\"text-align: right;\">\n",
       "      <th></th>\n",
       "      <th>CARGO_BASICO</th>\n",
       "      <th>dc_cargo_base</th>\n",
       "      <th>nivel_limpo</th>\n",
       "    </tr>\n",
       "  </thead>\n",
       "  <tbody>\n",
       "  </tbody>\n",
       "</table>\n",
       "</div>"
      ],
      "text/plain": [
       "Empty DataFrame\n",
       "Columns: [CARGO_BASICO, dc_cargo_base, nivel_limpo]\n",
       "Index: []"
      ]
     },
     "execution_count": 10,
     "metadata": {},
     "output_type": "execute_result"
    }
   ],
   "source": [
    "df[(df['CARGO_BASICO']=='ANALISTA DE INFORMACOES CULTURA E DESPORTO NIVEL II')&\n",
    "    (df['dc_cargo_base']=='ANALISTA DE INFORMACOES CULTURA E DESPORTO NIVEL I')][['CARGO_BASICO','dc_cargo_base', 'nivel_limpo']]"
   ]
  },
  {
   "cell_type": "code",
   "execution_count": 11,
   "id": "0d5f20d0-0cc6-4bcc-afa0-544094441d64",
   "metadata": {},
   "outputs": [
    {
     "data": {
      "text/plain": [
       "True"
      ]
     },
     "execution_count": 11,
     "metadata": {},
     "output_type": "execute_result"
    }
   ],
   "source": [
    "#a base de remuneração tem duas colunas iguais também\n",
    "(df['dc_cargo']==df['dc_cargo_base']).all()"
   ]
  },
  {
   "cell_type": "markdown",
   "id": "b933db91-f761-4bf8-a381-67ebc05551bf",
   "metadata": {},
   "source": [
    "Como a divergência era apenas no \"nível\" do cargo, poderemos manter a coluna de cargo limpo que geramos anteriormente.\n",
    "\n",
    "Com isso, podemos remover ambas as colunas de cargo, mantendo apenas o \"cargo_limpo\" e o \"nivel\""
   ]
  },
  {
   "cell_type": "code",
   "execution_count": 12,
   "id": "5a8fc313-9c1d-4cf6-875c-476d148deae4",
   "metadata": {},
   "outputs": [],
   "source": [
    "df.drop(['dc_cargo_base', 'dc_cargo', 'CARGO_BASICO'], axis = 1, inplace=True)"
   ]
  },
  {
   "cell_type": "markdown",
   "id": "f8486639-c5d2-4bf9-9033-e493af1bc636",
   "metadata": {},
   "source": [
    "Como podemos ver abaixo, há mais pessoas com cargo em comissão na base cadastral do que na base de remuneração. Isso pode acontecer pelas mesmas razões da mudança de nível acima: hoje a pessoa está com cargo em comissão, mas há um mês, quando fechou o salário dela, ela não tinha. Por isso o correto é manter o cargo em comissão da base de remuneração."
   ]
  },
  {
   "cell_type": "code",
   "execution_count": 13,
   "id": "0009dfa3-ae38-4eb9-92de-978b5fb60f17",
   "metadata": {},
   "outputs": [
    {
     "data": {
      "text/plain": [
       "True"
      ]
     },
     "execution_count": 13,
     "metadata": {},
     "output_type": "execute_result"
    }
   ],
   "source": [
    "df['dc_cargo_comissionado'].isnull().sum()> df['CARGO_COMISSAO'].isnull().sum()"
   ]
  },
  {
   "cell_type": "code",
   "execution_count": 14,
   "id": "9e2a9501-2e84-487c-a0de-c1e3bc866169",
   "metadata": {},
   "outputs": [
    {
     "data": {
      "text/html": [
       "<div>\n",
       "<style scoped>\n",
       "    .dataframe tbody tr th:only-of-type {\n",
       "        vertical-align: middle;\n",
       "    }\n",
       "\n",
       "    .dataframe tbody tr th {\n",
       "        vertical-align: top;\n",
       "    }\n",
       "\n",
       "    .dataframe thead th {\n",
       "        text-align: right;\n",
       "    }\n",
       "</style>\n",
       "<table border=\"1\" class=\"dataframe\">\n",
       "  <thead>\n",
       "    <tr style=\"text-align: right;\">\n",
       "      <th></th>\n",
       "      <th>CARGO_COMISSAO</th>\n",
       "      <th>dc_cargo_comissionado</th>\n",
       "    </tr>\n",
       "  </thead>\n",
       "  <tbody>\n",
       "    <tr>\n",
       "      <th>224</th>\n",
       "      <td>COORDENADOR V</td>\n",
       "      <td>NaN</td>\n",
       "    </tr>\n",
       "    <tr>\n",
       "      <th>846</th>\n",
       "      <td>ASSESSOR TECNICO I</td>\n",
       "      <td>NaN</td>\n",
       "    </tr>\n",
       "    <tr>\n",
       "      <th>849</th>\n",
       "      <td>COORDENADOR</td>\n",
       "      <td>NaN</td>\n",
       "    </tr>\n",
       "    <tr>\n",
       "      <th>862</th>\n",
       "      <td>CONSELHEIRO JULGADOR</td>\n",
       "      <td>NaN</td>\n",
       "    </tr>\n",
       "    <tr>\n",
       "      <th>869</th>\n",
       "      <td>COORDENADOR</td>\n",
       "      <td>NaN</td>\n",
       "    </tr>\n",
       "    <tr>\n",
       "      <th>...</th>\n",
       "      <td>...</td>\n",
       "      <td>...</td>\n",
       "    </tr>\n",
       "    <tr>\n",
       "      <th>2922</th>\n",
       "      <td>ASSESSOR TECNICO I</td>\n",
       "      <td>NaN</td>\n",
       "    </tr>\n",
       "    <tr>\n",
       "      <th>2924</th>\n",
       "      <td>COORDENADOR</td>\n",
       "      <td>NaN</td>\n",
       "    </tr>\n",
       "    <tr>\n",
       "      <th>2925</th>\n",
       "      <td>ASSESSOR TECNICO I</td>\n",
       "      <td>NaN</td>\n",
       "    </tr>\n",
       "    <tr>\n",
       "      <th>2926</th>\n",
       "      <td>ASSESSOR TECNICO I</td>\n",
       "      <td>NaN</td>\n",
       "    </tr>\n",
       "    <tr>\n",
       "      <th>2944</th>\n",
       "      <td>COORDENADOR II</td>\n",
       "      <td>NaN</td>\n",
       "    </tr>\n",
       "  </tbody>\n",
       "</table>\n",
       "<p>106 rows × 2 columns</p>\n",
       "</div>"
      ],
      "text/plain": [
       "            CARGO_COMISSAO dc_cargo_comissionado\n",
       "224          COORDENADOR V                   NaN\n",
       "846     ASSESSOR TECNICO I                   NaN\n",
       "849            COORDENADOR                   NaN\n",
       "862   CONSELHEIRO JULGADOR                   NaN\n",
       "869            COORDENADOR                   NaN\n",
       "...                    ...                   ...\n",
       "2922    ASSESSOR TECNICO I                   NaN\n",
       "2924           COORDENADOR                   NaN\n",
       "2925    ASSESSOR TECNICO I                   NaN\n",
       "2926    ASSESSOR TECNICO I                   NaN\n",
       "2944        COORDENADOR II                   NaN\n",
       "\n",
       "[106 rows x 2 columns]"
      ]
     },
     "execution_count": 14,
     "metadata": {},
     "output_type": "execute_result"
    }
   ],
   "source": [
    "#XOR para quando o valor é nulo - ou seja quando um é nulo e o outro não\n",
    "df[(df['CARGO_COMISSAO'].isnull()^df['dc_cargo_comissionado'].isnull())][['CARGO_COMISSAO', 'dc_cargo_comissionado']]"
   ]
  },
  {
   "cell_type": "markdown",
   "id": "e792725f-6354-4ef2-84de-dc76de9e2de4",
   "metadata": {},
   "source": [
    "Temos também algumas colunas repetidas entre as bases, que vale a pena remover"
   ]
  },
  {
   "cell_type": "code",
   "execution_count": 15,
   "id": "fd85d984-dbba-4bcf-badd-f4f65ea90a0f",
   "metadata": {},
   "outputs": [],
   "source": [
    "df.drop('CARGO_COMISSAO', axis=1, inplace=True)"
   ]
  },
  {
   "cell_type": "code",
   "execution_count": 16,
   "id": "1c995dbe-d416-42e8-a002-b07ead9b85a3",
   "metadata": {},
   "outputs": [
    {
     "data": {
      "text/plain": [
       "True"
      ]
     },
     "execution_count": 16,
     "metadata": {},
     "output_type": "execute_result"
    }
   ],
   "source": [
    "(df['REGISTRO']==df['cd_registro_funcional']).all()"
   ]
  },
  {
   "cell_type": "code",
   "execution_count": 17,
   "id": "85596e17-20c2-4299-ba80-c73d1df7127b",
   "metadata": {},
   "outputs": [],
   "source": [
    "df.drop('cd_registro_funcional', axis = 1, inplace=True)"
   ]
  },
  {
   "cell_type": "code",
   "execution_count": 18,
   "id": "ad6fb4d5-27f1-47fc-a0f4-33c4dabf8f99",
   "metadata": {},
   "outputs": [
    {
     "data": {
      "text/plain": [
       "True"
      ]
     },
     "execution_count": 18,
     "metadata": {},
     "output_type": "execute_result"
    }
   ],
   "source": [
    "(df['VINCULO']==df['cd_tipo_vinculo']).all()"
   ]
  },
  {
   "cell_type": "code",
   "execution_count": 19,
   "id": "bb6ed820-fe13-46b6-9ca5-07515ec0eebe",
   "metadata": {},
   "outputs": [],
   "source": [
    "df.drop('cd_tipo_vinculo', axis=1, inplace=True)"
   ]
  },
  {
   "cell_type": "code",
   "execution_count": 20,
   "id": "c3961edd-b755-40bc-b864-a126853aca8c",
   "metadata": {},
   "outputs": [
    {
     "data": {
      "text/plain": [
       "False"
      ]
     },
     "execution_count": 20,
     "metadata": {},
     "output_type": "execute_result"
    }
   ],
   "source": [
    "(df['NOME']==df['nm_servidor']).all()"
   ]
  },
  {
   "cell_type": "markdown",
   "id": "b65d01bd-1605-49a3-95c3-80be54ce992f",
   "metadata": {},
   "source": [
    "No caso dos nomes, alguns estão mascarados na base de remuneração.\n",
    "\n",
    "Vamos manter o nome da base cadastral."
   ]
  },
  {
   "cell_type": "code",
   "execution_count": 21,
   "id": "0444efce-d940-4e05-aa9f-956a6d2564b2",
   "metadata": {},
   "outputs": [
    {
     "data": {
      "text/html": [
       "<div>\n",
       "<style scoped>\n",
       "    .dataframe tbody tr th:only-of-type {\n",
       "        vertical-align: middle;\n",
       "    }\n",
       "\n",
       "    .dataframe tbody tr th {\n",
       "        vertical-align: top;\n",
       "    }\n",
       "\n",
       "    .dataframe thead th {\n",
       "        text-align: right;\n",
       "    }\n",
       "</style>\n",
       "<table border=\"1\" class=\"dataframe\">\n",
       "  <thead>\n",
       "    <tr style=\"text-align: right;\">\n",
       "      <th></th>\n",
       "      <th>NOME</th>\n",
       "      <th>nm_servidor</th>\n",
       "    </tr>\n",
       "  </thead>\n",
       "  <tbody>\n",
       "    <tr>\n",
       "      <th>17</th>\n",
       "      <td>JOSE MAURO RODRIGUES</td>\n",
       "      <td>SERVIDOR PUBLICO MUNICIPAL</td>\n",
       "    </tr>\n",
       "    <tr>\n",
       "      <th>216</th>\n",
       "      <td>CASSIO VIEIRA PEREIRA DOS SANTOS</td>\n",
       "      <td>REGISTRO FUNCIONAL=5516943</td>\n",
       "    </tr>\n",
       "    <tr>\n",
       "      <th>851</th>\n",
       "      <td>PATRICIA GANDRACHAO BENOTTI</td>\n",
       "      <td>REGISTRO FUNCIONAL=6869645</td>\n",
       "    </tr>\n",
       "    <tr>\n",
       "      <th>872</th>\n",
       "      <td>CLARICE KEIKO AOKI</td>\n",
       "      <td>REGISTRO FUNCIONAL=6873642</td>\n",
       "    </tr>\n",
       "    <tr>\n",
       "      <th>901</th>\n",
       "      <td>VANDO FRANCISCO DE JESUS</td>\n",
       "      <td>REGISTRO FUNCIONAL=6878997</td>\n",
       "    </tr>\n",
       "    <tr>\n",
       "      <th>908</th>\n",
       "      <td>SHEILA CRISTINA TAMBARA</td>\n",
       "      <td>REGISTRO FUNCIONAL=6883036</td>\n",
       "    </tr>\n",
       "    <tr>\n",
       "      <th>955</th>\n",
       "      <td>LUCIANA SALZANI</td>\n",
       "      <td>REGISTRO FUNCIONAL=6935192</td>\n",
       "    </tr>\n",
       "    <tr>\n",
       "      <th>1027</th>\n",
       "      <td>ANTONIO BASTOS TORRES LIMA</td>\n",
       "      <td>SERVIDOR PUBLICO MUNICIPAL</td>\n",
       "    </tr>\n",
       "    <tr>\n",
       "      <th>1199</th>\n",
       "      <td>LUIZ CARLOS PIRES</td>\n",
       "      <td>SERVIDOR PUBLICO MUNICIPAL</td>\n",
       "    </tr>\n",
       "    <tr>\n",
       "      <th>1201</th>\n",
       "      <td>JOSE FERNANDO PIRES DOS SANTOS</td>\n",
       "      <td>SERVIDOR PUBLICO MUNICIPAL</td>\n",
       "    </tr>\n",
       "    <tr>\n",
       "      <th>1203</th>\n",
       "      <td>SIMONE DA SILVA</td>\n",
       "      <td>SERVIDOR PUBLICO MUNICIPAL</td>\n",
       "    </tr>\n",
       "    <tr>\n",
       "      <th>1359</th>\n",
       "      <td>SYLVIO CELSO TARTARI FILHO</td>\n",
       "      <td>REGISTRO FUNCIONAL=7559305</td>\n",
       "    </tr>\n",
       "    <tr>\n",
       "      <th>2655</th>\n",
       "      <td>VINICIUS FELIX DA SILVA</td>\n",
       "      <td>SERVIDOR PUBLICO MUNICIPAL</td>\n",
       "    </tr>\n",
       "    <tr>\n",
       "      <th>3366</th>\n",
       "      <td>LUCIANE REGINA DOS SANTOS</td>\n",
       "      <td>LUCIANE REGINA DOS SANTOS VIANA</td>\n",
       "    </tr>\n",
       "    <tr>\n",
       "      <th>3369</th>\n",
       "      <td>ODIRNEY BENEDITO DA SILVA</td>\n",
       "      <td>SERVIDOR PUBLICO MUNICIPAL</td>\n",
       "    </tr>\n",
       "    <tr>\n",
       "      <th>3398</th>\n",
       "      <td>GLAUCIA SILVA BARRETO</td>\n",
       "      <td>SERVIDOR PUBLICO MUNICIPAL</td>\n",
       "    </tr>\n",
       "  </tbody>\n",
       "</table>\n",
       "</div>"
      ],
      "text/plain": [
       "                                  NOME                      nm_servidor\n",
       "17                JOSE MAURO RODRIGUES       SERVIDOR PUBLICO MUNICIPAL\n",
       "216   CASSIO VIEIRA PEREIRA DOS SANTOS       REGISTRO FUNCIONAL=5516943\n",
       "851        PATRICIA GANDRACHAO BENOTTI       REGISTRO FUNCIONAL=6869645\n",
       "872                 CLARICE KEIKO AOKI       REGISTRO FUNCIONAL=6873642\n",
       "901           VANDO FRANCISCO DE JESUS       REGISTRO FUNCIONAL=6878997\n",
       "908            SHEILA CRISTINA TAMBARA       REGISTRO FUNCIONAL=6883036\n",
       "955                    LUCIANA SALZANI       REGISTRO FUNCIONAL=6935192\n",
       "1027        ANTONIO BASTOS TORRES LIMA       SERVIDOR PUBLICO MUNICIPAL\n",
       "1199                 LUIZ CARLOS PIRES       SERVIDOR PUBLICO MUNICIPAL\n",
       "1201    JOSE FERNANDO PIRES DOS SANTOS       SERVIDOR PUBLICO MUNICIPAL\n",
       "1203                   SIMONE DA SILVA       SERVIDOR PUBLICO MUNICIPAL\n",
       "1359        SYLVIO CELSO TARTARI FILHO       REGISTRO FUNCIONAL=7559305\n",
       "2655           VINICIUS FELIX DA SILVA       SERVIDOR PUBLICO MUNICIPAL\n",
       "3366         LUCIANE REGINA DOS SANTOS  LUCIANE REGINA DOS SANTOS VIANA\n",
       "3369         ODIRNEY BENEDITO DA SILVA       SERVIDOR PUBLICO MUNICIPAL\n",
       "3398             GLAUCIA SILVA BARRETO       SERVIDOR PUBLICO MUNICIPAL"
      ]
     },
     "execution_count": 21,
     "metadata": {},
     "output_type": "execute_result"
    }
   ],
   "source": [
    "df[df['NOME']!=df['nm_servidor']][['NOME', 'nm_servidor']]"
   ]
  },
  {
   "cell_type": "code",
   "execution_count": 22,
   "id": "966f44f3-2e33-45ac-a404-71f29c22b44c",
   "metadata": {},
   "outputs": [],
   "source": [
    "df.drop('nm_servidor', axis = 1, inplace=True)"
   ]
  },
  {
   "cell_type": "markdown",
   "id": "d87450de-1c2d-45ea-aa93-5f841147d60f",
   "metadata": {},
   "source": [
    "No caso das secretarias, temos dois problemas: \n",
    "* a pessoa pode ter sido transferida após o fechamento da folha de pagamento;\n",
    "* algumas secretarias a Unidade Orçamentária possui outro nome: por exemplo a Secretaria de Governo está vinculada ao Gabinete do Prefeito"
   ]
  },
  {
   "cell_type": "code",
   "execution_count": 23,
   "id": "f4ffa512-0763-444e-adf2-30c4c2e12ac2",
   "metadata": {},
   "outputs": [
    {
     "data": {
      "text/plain": [
       "False"
      ]
     },
     "execution_count": 23,
     "metadata": {},
     "output_type": "execute_result"
    }
   ],
   "source": [
    "(df['SECRET_SUBPREF']==df['dc_secretaria']).all()"
   ]
  },
  {
   "cell_type": "code",
   "execution_count": 24,
   "id": "5f03957c-05d7-413e-b1b2-bc14441be936",
   "metadata": {},
   "outputs": [
    {
     "data": {
      "text/plain": [
       "['SECRETARIA DE GOVERNO MUNICIPAL', 'CASA CIVIL', nan]"
      ]
     },
     "execution_count": 24,
     "metadata": {},
     "output_type": "execute_result"
    }
   ],
   "source": [
    "#apenas a secretaria de governo e a casa civil não estão na base de remuneração\n",
    "[item for item in df['SECRET_SUBPREF'].unique() if item not in df['dc_secretaria'].unique()]"
   ]
  },
  {
   "cell_type": "code",
   "execution_count": 25,
   "id": "0ccd3a57-e491-4fc8-929c-d54d3cb8e9f9",
   "metadata": {},
   "outputs": [
    {
     "data": {
      "text/plain": [
       "3"
      ]
     },
     "execution_count": 25,
     "metadata": {},
     "output_type": "execute_result"
    }
   ],
   "source": [
    "len(df['SECRET_SUBPREF'].unique()) - len(df['dc_secretaria'].unique())"
   ]
  },
  {
   "cell_type": "code",
   "execution_count": 26,
   "id": "8aeae5f4-171c-4608-992e-f8052f86f4a5",
   "metadata": {},
   "outputs": [
    {
     "data": {
      "text/plain": [
       "0"
      ]
     },
     "execution_count": 26,
     "metadata": {},
     "output_type": "execute_result"
    }
   ],
   "source": [
    "df['dc_secretaria'].isnull().sum()"
   ]
  },
  {
   "cell_type": "code",
   "execution_count": 27,
   "id": "21562ed9-4db9-4596-867c-9507c6130ec1",
   "metadata": {},
   "outputs": [
    {
     "data": {
      "text/plain": [
       "1"
      ]
     },
     "execution_count": 27,
     "metadata": {},
     "output_type": "execute_result"
    }
   ],
   "source": [
    "df['SECRET_SUBPREF'].isnull().sum() #há um nulo aqui também"
   ]
  },
  {
   "cell_type": "code",
   "execution_count": 28,
   "id": "0d3a3a28-9d72-4379-8f07-2e7a487b84ea",
   "metadata": {},
   "outputs": [
    {
     "data": {
      "text/html": [
       "<div>\n",
       "<style scoped>\n",
       "    .dataframe tbody tr th:only-of-type {\n",
       "        vertical-align: middle;\n",
       "    }\n",
       "\n",
       "    .dataframe tbody tr th {\n",
       "        vertical-align: top;\n",
       "    }\n",
       "\n",
       "    .dataframe thead th {\n",
       "        text-align: right;\n",
       "    }\n",
       "</style>\n",
       "<table border=\"1\" class=\"dataframe\">\n",
       "  <thead>\n",
       "    <tr style=\"text-align: right;\">\n",
       "      <th></th>\n",
       "      <th>SECRET_SUBPREF</th>\n",
       "      <th>dc_secretaria</th>\n",
       "    </tr>\n",
       "  </thead>\n",
       "  <tbody>\n",
       "    <tr>\n",
       "      <th>18</th>\n",
       "      <td>SECRETARIA DE GOVERNO MUNICIPAL</td>\n",
       "      <td>GABINETE DO PREFEITO</td>\n",
       "    </tr>\n",
       "    <tr>\n",
       "      <th>330</th>\n",
       "      <td>CASA CIVIL</td>\n",
       "      <td>GABINETE DO PREFEITO</td>\n",
       "    </tr>\n",
       "    <tr>\n",
       "      <th>2656</th>\n",
       "      <td>SUBPREFEITURA IPIRANGA</td>\n",
       "      <td>SUBPREFEITURA LAPA</td>\n",
       "    </tr>\n",
       "    <tr>\n",
       "      <th>2807</th>\n",
       "      <td>NaN</td>\n",
       "      <td>SECRETARIA MUNICIPAL DE ASSIST E DESENV SOCIAL</td>\n",
       "    </tr>\n",
       "  </tbody>\n",
       "</table>\n",
       "</div>"
      ],
      "text/plain": [
       "                       SECRET_SUBPREF  \\\n",
       "18    SECRETARIA DE GOVERNO MUNICIPAL   \n",
       "330                        CASA CIVIL   \n",
       "2656           SUBPREFEITURA IPIRANGA   \n",
       "2807                              NaN   \n",
       "\n",
       "                                       dc_secretaria  \n",
       "18                              GABINETE DO PREFEITO  \n",
       "330                             GABINETE DO PREFEITO  \n",
       "2656                              SUBPREFEITURA LAPA  \n",
       "2807  SECRETARIA MUNICIPAL DE ASSIST E DESENV SOCIAL  "
      ]
     },
     "execution_count": 28,
     "metadata": {},
     "output_type": "execute_result"
    }
   ],
   "source": [
    "diferentes = df[df['SECRET_SUBPREF']!=df['dc_secretaria']][['SECRET_SUBPREF', 'dc_secretaria']]\n",
    "diferentes[~diferentes.duplicated()]"
   ]
  },
  {
   "cell_type": "markdown",
   "id": "453ed824-e19c-461e-b19d-6a929db0efa9",
   "metadata": {},
   "source": [
    "Por isso, vamos manter a secretaria da base de remuneração"
   ]
  },
  {
   "cell_type": "code",
   "execution_count": 29,
   "id": "56e848a6-b40e-4029-9fb4-dce150f71ca7",
   "metadata": {},
   "outputs": [],
   "source": [
    "df.drop('SECRET_SUBPREF', axis =1, inplace=True)"
   ]
  },
  {
   "cell_type": "markdown",
   "id": "271ddf1f-a2b2-4120-9e39-c39f282dd551",
   "metadata": {},
   "source": [
    "Escolher essa coluna também é positivo, pois podemos manter o endereço da base de remuneração, que bate com a descrição da secretaria dessa base mesma base (caso usássemos o nome da secretaria de cadastro poderia haver divergências, como no caso do servidor que mudou da subprefeitura da Lapa para a Ipiranga)."
   ]
  },
  {
   "cell_type": "code",
   "execution_count": 30,
   "id": "4bcd0369-1c27-4ada-a4e1-ab227b368303",
   "metadata": {},
   "outputs": [
    {
     "data": {
      "text/plain": [
       "array(['ATIVOS'], dtype=object)"
      ]
     },
     "execution_count": 30,
     "metadata": {},
     "output_type": "execute_result"
    }
   ],
   "source": [
    "df['tp_servidor'].unique()"
   ]
  },
  {
   "cell_type": "markdown",
   "id": "a11b2fe1-0e6f-4210-96d2-816dd7e7c1cf",
   "metadata": {},
   "source": [
    "Todos os servidores são do quadro de servidores ativos, então podemos remover essa coluna."
   ]
  },
  {
   "cell_type": "code",
   "execution_count": 31,
   "id": "b6d917a0-9c4a-493e-b783-3ba91200f769",
   "metadata": {},
   "outputs": [],
   "source": [
    "df.drop('tp_servidor', axis =1, inplace=True)"
   ]
  },
  {
   "cell_type": "code",
   "execution_count": 32,
   "id": "c8176f4f-da81-4439-9164-b668dbfcff7f",
   "metadata": {},
   "outputs": [
    {
     "data": {
      "text/plain": [
       "array(['SUPERIOR'], dtype=object)"
      ]
     },
     "execution_count": 32,
     "metadata": {},
     "output_type": "execute_result"
    }
   ],
   "source": [
    "df['SUBGRUPO'].unique()"
   ]
  },
  {
   "cell_type": "markdown",
   "id": "077356fb-90c6-4f92-a39f-e898b2c5f74b",
   "metadata": {},
   "source": [
    "O mesmo vale para o subgrupo do cargo base, pois se trata apenas de servidores de nível superior, como visto no outro notebook. "
   ]
  },
  {
   "cell_type": "code",
   "execution_count": 33,
   "id": "e3980108-9a43-4ff0-8f59-11c014aff7b1",
   "metadata": {},
   "outputs": [],
   "source": [
    "df.drop('SUBGRUPO',axis=1, inplace=True)"
   ]
  },
  {
   "cell_type": "code",
   "execution_count": 34,
   "id": "976a180d-9a86-45c7-b315-fe5f7c118733",
   "metadata": {},
   "outputs": [
    {
     "data": {
      "text/plain": [
       "array(['SUPERIOR COMPLETO'], dtype=object)"
      ]
     },
     "execution_count": 34,
     "metadata": {},
     "output_type": "execute_result"
    }
   ],
   "source": [
    "df['ESCOL_CARGO_BASICO'].unique()"
   ]
  },
  {
   "cell_type": "markdown",
   "id": "0049f69e-78a3-4059-8197-a450579155d0",
   "metadata": {},
   "source": [
    "E, logicamente, também para a escolaridade do cargo básico."
   ]
  },
  {
   "cell_type": "code",
   "execution_count": 35,
   "id": "2555bc2a-81bd-40df-8e0d-72644d00c5d0",
   "metadata": {},
   "outputs": [],
   "source": [
    "df.drop('ESCOL_CARGO_BASICO', axis=1, inplace=True)"
   ]
  },
  {
   "cell_type": "code",
   "execution_count": 36,
   "id": "672f92fa-107e-49e6-88d4-98173de94ae7",
   "metadata": {},
   "outputs": [
    {
     "data": {
      "text/plain": [
       "array([nan,  5.])"
      ]
     },
     "execution_count": 36,
     "metadata": {},
     "output_type": "execute_result"
    }
   ],
   "source": [
    "df['cd_caso_especial'].unique()"
   ]
  },
  {
   "cell_type": "markdown",
   "id": "f5cd3df0-6d03-4943-948d-4e8d1a5f4726",
   "metadata": {},
   "source": [
    "Temos apenas um servidor marcado como \"caso especial\", que entrou na Prefeitura em 1986 e que hoje ganha acima do teto.\n",
    "\n",
    "Como a própria base o registra como um caso especial, achamos melhor retirá-lo da base para não enviesar o modelo."
   ]
  },
  {
   "cell_type": "code",
   "execution_count": 37,
   "id": "8f749561-e167-415f-8c86-bc8a42a83666",
   "metadata": {},
   "outputs": [
    {
     "data": {
      "text/html": [
       "<div>\n",
       "<style scoped>\n",
       "    .dataframe tbody tr th:only-of-type {\n",
       "        vertical-align: middle;\n",
       "    }\n",
       "\n",
       "    .dataframe tbody tr th {\n",
       "        vertical-align: top;\n",
       "    }\n",
       "\n",
       "    .dataframe thead th {\n",
       "        text-align: right;\n",
       "    }\n",
       "</style>\n",
       "<table border=\"1\" class=\"dataframe\">\n",
       "  <thead>\n",
       "    <tr style=\"text-align: right;\">\n",
       "      <th></th>\n",
       "      <th>REGISTRO</th>\n",
       "      <th>VINCULO</th>\n",
       "      <th>NOME</th>\n",
       "      <th>REF_CARGO_BAS</th>\n",
       "      <th>SEGMENTO</th>\n",
       "      <th>GRUPO</th>\n",
       "      <th>REF_CARGO_COM</th>\n",
       "      <th>ESCOL_CARGO_COMISSAO</th>\n",
       "      <th>DATA_INICIO_EXERC</th>\n",
       "      <th>REL_JUR_ADM</th>\n",
       "      <th>...</th>\n",
       "      <th>dc_cargo_comissionado</th>\n",
       "      <th>vl_remuneracao_mensal</th>\n",
       "      <th>vl_outro_elemento_remuneracao</th>\n",
       "      <th>vl_remuneracao_total_bruta</th>\n",
       "      <th>cd_caso_especial</th>\n",
       "      <th>dc_tipo_logradouro_servidor</th>\n",
       "      <th>nm_logradouro_servidor</th>\n",
       "      <th>nr_logradouro_servidor</th>\n",
       "      <th>tx_complemento_logradouro_servidor</th>\n",
       "      <th>qt_hora_jornada_semanal</th>\n",
       "    </tr>\n",
       "  </thead>\n",
       "  <tbody>\n",
       "    <tr>\n",
       "      <th>284</th>\n",
       "      <td>5681138</td>\n",
       "      <td>1</td>\n",
       "      <td>GERALDO REA RABELLO SAMPAIO</td>\n",
       "      <td>QPAT-9</td>\n",
       "      <td>NaN</td>\n",
       "      <td>QPAT</td>\n",
       "      <td>NaN</td>\n",
       "      <td>NaN</td>\n",
       "      <td>17/01/1986</td>\n",
       "      <td>EFETIVO</td>\n",
       "      <td>...</td>\n",
       "      <td>NaN</td>\n",
       "      <td>R$ 28.285,10</td>\n",
       "      <td>R$ 14.083,92</td>\n",
       "      <td>R$ 42.369,02</td>\n",
       "      <td>5.0</td>\n",
       "      <td>Rua</td>\n",
       "      <td>LIBERO BADARO</td>\n",
       "      <td>190.0</td>\n",
       "      <td>8Âº ANDAR</td>\n",
       "      <td>44 H</td>\n",
       "    </tr>\n",
       "  </tbody>\n",
       "</table>\n",
       "<p>1 rows × 30 columns</p>\n",
       "</div>"
      ],
      "text/plain": [
       "     REGISTRO  VINCULO                         NOME REF_CARGO_BAS SEGMENTO  \\\n",
       "284   5681138        1  GERALDO REA RABELLO SAMPAIO        QPAT-9      NaN   \n",
       "\n",
       "    GRUPO REF_CARGO_COM ESCOL_CARGO_COMISSAO DATA_INICIO_EXERC REL_JUR_ADM  \\\n",
       "284  QPAT           NaN                  NaN        17/01/1986     EFETIVO   \n",
       "\n",
       "     ... dc_cargo_comissionado vl_remuneracao_mensal  \\\n",
       "284  ...                   NaN          R$ 28.285,10   \n",
       "\n",
       "    vl_outro_elemento_remuneracao  vl_remuneracao_total_bruta  \\\n",
       "284                  R$ 14.083,92                R$ 42.369,02   \n",
       "\n",
       "    cd_caso_especial dc_tipo_logradouro_servidor nm_logradouro_servidor  \\\n",
       "284              5.0                         Rua          LIBERO BADARO   \n",
       "\n",
       "    nr_logradouro_servidor  tx_complemento_logradouro_servidor  \\\n",
       "284                  190.0                           8Âº ANDAR   \n",
       "\n",
       "    qt_hora_jornada_semanal  \n",
       "284                    44 H  \n",
       "\n",
       "[1 rows x 30 columns]"
      ]
     },
     "execution_count": 37,
     "metadata": {},
     "output_type": "execute_result"
    }
   ],
   "source": [
    "df[df['cd_caso_especial']==5]"
   ]
  },
  {
   "cell_type": "code",
   "execution_count": 38,
   "id": "aca50a08-0b22-4982-8fe4-0fb901bc95f9",
   "metadata": {},
   "outputs": [],
   "source": [
    "caso_especial = df[df['cd_caso_especial']==5].index"
   ]
  },
  {
   "cell_type": "code",
   "execution_count": 39,
   "id": "4bc079e7-d638-4889-a79a-c4a7b1e464c6",
   "metadata": {},
   "outputs": [],
   "source": [
    "df.drop(caso_especial, inplace=True)"
   ]
  },
  {
   "cell_type": "code",
   "execution_count": null,
   "id": "06fff758-21ff-4fee-9585-61c642e6268f",
   "metadata": {},
   "outputs": [],
   "source": [
    "df['cd_caso_especial'].unique()"
   ]
  },
  {
   "cell_type": "code",
   "execution_count": null,
   "id": "e13d0253-545c-4a98-ba5e-6f840d7cc32a",
   "metadata": {},
   "outputs": [],
   "source": [
    "df.drop('cd_caso_especial', axis=1, inplace=True)"
   ]
  },
  {
   "cell_type": "code",
   "execution_count": null,
   "id": "2ab45b0c-bcc0-4373-9b79-0b42c324f9cb",
   "metadata": {},
   "outputs": [],
   "source": [
    "df.keys()"
   ]
  },
  {
   "cell_type": "code",
   "execution_count": null,
   "id": "f938ae3a-e621-46d5-a6db-a8c09e8dab81",
   "metadata": {},
   "outputs": [],
   "source": [
    "from collections import OrderedDict"
   ]
  },
  {
   "cell_type": "code",
   "execution_count": null,
   "id": "96d917a6-ac66-4b5f-8f1e-1b83fa7045e0",
   "metadata": {},
   "outputs": [],
   "source": [
    "renomear = OrderedDict(\n",
    "    REGISTRO = 'registro_funcional',\n",
    "    VINCULO = 'num_vinculo', #pessoa pode ter sido contratado pela prefeitura mais de uma vez\n",
    "    NOME = 'nome_servidor',\n",
    "    cargo_limpo = 'dc_cargo_base',\n",
    "    GRUPO = 'grupo_cargo_base',\n",
    "    nivel_limpo = 'nivel_cargo_base',\n",
    "    REF_CARGO_BAS = 'referencia_cargo_base',\n",
    "    SEGMENTO = 'segmento_cargo_base',\n",
    "    dc_cargo_comissionado = 'dc_cargo_comissao',\n",
    "    REF_CARGO_COM = 'referencia_cargo_comissao',\n",
    "    ESCOL_CARGO_COMISSAO = 'escol_cargo_comissao',\n",
    "    REL_JUR_ADM = 'relacao_juridica',\n",
    "    qt_hora_jornada_semanal = 'qt_hora_jornada_semanal',\n",
    "    dc_secretaria = 'dc_orgao',\n",
    "    SETOR = 'dc_setor',\n",
    "    ORGAO_EXT = 'dc_orgao_externo',\n",
    "    qtd_servidores_orgao = 'qtd_servidores_orgao',\n",
    "    dc_tipo_logradouro_servidor = 'dc_tipo_logradouro_orgao',\n",
    "    nm_logradouro_servidor = 'nm_logradouro_orgao',\n",
    "    nr_logradouro_servidor = 'nr_logradouro_orgao',\n",
    "    tx_complemento_logradouro_servidor = 'tx_complemento_logradouro_orgao',\n",
    "    DATA_INICIO_EXERC = 'dt_inicio_exercicio',\n",
    "    ANO_NASCIMENTO = 'ano_nascimento',\n",
    "    SEXO = 'sexo',\n",
    "    RACA = 'raca',\n",
    "    DEFICIENTE = 'pessoa_com_deficiencia',\n",
    "    vl_remuneracao_mensal = 'vl_remuneracao_base_mensal',\n",
    "    vl_outro_elemento_remuneracao = 'vl_outro_elemento_remuneracao',\n",
    "    vl_remuneracao_total_bruta = 'vl_remuneracao_total_bruta',\n",
    ")"
   ]
  },
  {
   "cell_type": "code",
   "execution_count": null,
   "id": "3857bab5-321e-4746-9f9f-9e0962e68c1a",
   "metadata": {},
   "outputs": [],
   "source": [
    "df.rename(renomear, axis = 1, inplace=True)"
   ]
  },
  {
   "cell_type": "code",
   "execution_count": null,
   "id": "4dc6e83e-436d-4e22-aaae-cfc5bffc2b1c",
   "metadata": {},
   "outputs": [],
   "source": [
    "df = df[renomear.values()].copy()"
   ]
  },
  {
   "cell_type": "code",
   "execution_count": null,
   "id": "f598b331-a9c2-48b2-8734-4074c51c6d17",
   "metadata": {},
   "outputs": [],
   "source": [
    "df.to_csv('project_data/remuneracao_quadros_tecnicos.csv', sep=';', encoding='UTF-*')"
   ]
  },
  {
   "cell_type": "code",
   "execution_count": null,
   "id": "8d016873-d2c1-427a-b340-cb4de66773ff",
   "metadata": {},
   "outputs": [],
   "source": []
  }
 ],
 "metadata": {
  "kernelspec": {
   "display_name": "Python 3",
   "language": "python",
   "name": "python3"
  },
  "language_info": {
   "codemirror_mode": {
    "name": "ipython",
    "version": 3
   },
   "file_extension": ".py",
   "mimetype": "text/x-python",
   "name": "python",
   "nbconvert_exporter": "python",
   "pygments_lexer": "ipython3",
   "version": "3.8.8"
  }
 },
 "nbformat": 4,
 "nbformat_minor": 5
}
