{
 "cells": [
  {
   "cell_type": "code",
   "execution_count": 39,
   "id": "3e1ccc79-02b7-43e3-96ac-b701628c78a1",
   "metadata": {},
   "outputs": [],
   "source": [
    "import pandas as pd\n",
    "import matplotlib.pyplot as plt\n",
    "import seaborn as sns\n",
    "from scipy import stats"
   ]
  },
  {
   "cell_type": "code",
   "execution_count": 2,
   "id": "9f2e08bd-5423-4077-843b-f5ce74f9b3a4",
   "metadata": {},
   "outputs": [],
   "source": [
    "sns.set()\n",
    "a4_dims = (11.7, 8.27)"
   ]
  },
  {
   "cell_type": "code",
   "execution_count": 3,
   "id": "5c800e89-606c-49f8-b87a-b00eb05e3a7d",
   "metadata": {},
   "outputs": [],
   "source": [
    "df = pd.read_csv('project_data/remuneracao_quadros_tecnicos_modelagem.csv', sep = ';')"
   ]
  },
  {
   "cell_type": "code",
   "execution_count": 4,
   "id": "d86f735d-d3e7-4501-beed-557008786ae1",
   "metadata": {},
   "outputs": [
    {
     "data": {
      "text/plain": [
       "registro_funcional                    int64\n",
       "num_vinculo                           int64\n",
       "dc_cargo_base                        object\n",
       "grupo_cargo_base                     object\n",
       "nivel_cargo_base                     object\n",
       "segmento_cargo_base                  object\n",
       "referencia_cargo_comissao            object\n",
       "relacao_juridica                     object\n",
       "qt_hora_jornada_semanal               int64\n",
       "dc_orgao                             object\n",
       "qtd_servidores_orgao                float64\n",
       "ano_nascimento                        int64\n",
       "sexo                                 object\n",
       "raca                                 object\n",
       "pessoa_com_deficiencia               object\n",
       "vl_remuneracao_base_mensal          float64\n",
       "vl_outro_elemento_remuneracao       float64\n",
       "vl_remuneracao_total_bruta          float64\n",
       "cedido                                 bool\n",
       "tempo_exercicio_dias                  int64\n",
       "tempo_exercicio_dias_padro          float64\n",
       "vl_remuneracao_total_bruta_padro    float64\n",
       "k_means4                              int64\n",
       "dtype: object"
      ]
     },
     "execution_count": 4,
     "metadata": {},
     "output_type": "execute_result"
    }
   ],
   "source": [
    "df.dtypes"
   ]
  },
  {
   "cell_type": "code",
   "execution_count": 5,
   "id": "47be195d-8626-40f8-9349-0c0b776bdf1d",
   "metadata": {},
   "outputs": [
    {
     "name": "stdout",
     "output_type": "stream",
     "text": [
      "registro_funcional : 0 missings\n",
      "num_vinculo : 0 missings\n",
      "dc_cargo_base : 0 missings\n",
      "grupo_cargo_base : 0 missings\n",
      "nivel_cargo_base : 0 missings\n",
      "segmento_cargo_base : 65 missings\n",
      "referencia_cargo_comissao : 2243 missings\n",
      "relacao_juridica : 0 missings\n",
      "qt_hora_jornada_semanal : 0 missings\n",
      "dc_orgao : 0 missings\n",
      "qtd_servidores_orgao : 0 missings\n",
      "ano_nascimento : 0 missings\n",
      "sexo : 0 missings\n",
      "raca : 0 missings\n",
      "pessoa_com_deficiencia : 0 missings\n",
      "vl_remuneracao_base_mensal : 22 missings\n",
      "vl_outro_elemento_remuneracao : 84 missings\n",
      "vl_remuneracao_total_bruta : 0 missings\n",
      "cedido : 0 missings\n",
      "tempo_exercicio_dias : 0 missings\n",
      "tempo_exercicio_dias_padro : 0 missings\n",
      "vl_remuneracao_total_bruta_padro : 0 missings\n",
      "k_means4 : 0 missings\n"
     ]
    }
   ],
   "source": [
    "for col in df.columns:\n",
    "    print(f'{col} : {df[col].isnull().sum()} missings')"
   ]
  },
  {
   "cell_type": "code",
   "execution_count": 6,
   "id": "5970c2bb-4e00-4bf6-9b11-e0da284c00c8",
   "metadata": {},
   "outputs": [],
   "source": [
    "df['referencia_cargo_comissao'] = df['referencia_cargo_comissao'].apply(lambda x: x if x else 'nenhum')"
   ]
  },
  {
   "cell_type": "markdown",
   "id": "f08379ff-0d45-41f4-9eea-c6e7f4a51d0c",
   "metadata": {},
   "source": [
    "Vamos ver agora questão dos missings na remuneração. Como que pode não ter remuneração base e ter remuneração bruta?"
   ]
  },
  {
   "cell_type": "code",
   "execution_count": 7,
   "id": "a3a9d9a7-76a6-443e-aa96-067c39ad79b0",
   "metadata": {},
   "outputs": [
    {
     "data": {
      "text/html": [
       "<div>\n",
       "<style scoped>\n",
       "    .dataframe tbody tr th:only-of-type {\n",
       "        vertical-align: middle;\n",
       "    }\n",
       "\n",
       "    .dataframe tbody tr th {\n",
       "        vertical-align: top;\n",
       "    }\n",
       "\n",
       "    .dataframe thead th {\n",
       "        text-align: right;\n",
       "    }\n",
       "</style>\n",
       "<table border=\"1\" class=\"dataframe\">\n",
       "  <thead>\n",
       "    <tr style=\"text-align: right;\">\n",
       "      <th></th>\n",
       "      <th>dc_cargo_base</th>\n",
       "      <th>vl_remuneracao_base_mensal</th>\n",
       "      <th>vl_outro_elemento_remuneracao</th>\n",
       "      <th>vl_remuneracao_total_bruta</th>\n",
       "    </tr>\n",
       "  </thead>\n",
       "  <tbody>\n",
       "    <tr>\n",
       "      <th>17</th>\n",
       "      <td>PROFISSIONAL ENG, ARQ, AGRONOMIA,GEOLOGIA</td>\n",
       "      <td>NaN</td>\n",
       "      <td>NaN</td>\n",
       "      <td>0.0</td>\n",
       "    </tr>\n",
       "    <tr>\n",
       "      <th>49</th>\n",
       "      <td>PROFISSIONAL ENG, ARQ, AGRONOMIA,GEOLOGIA</td>\n",
       "      <td>NaN</td>\n",
       "      <td>NaN</td>\n",
       "      <td>0.0</td>\n",
       "    </tr>\n",
       "    <tr>\n",
       "      <th>77</th>\n",
       "      <td>ANALISTA PLANEJAMENTO DESENV ORGANIZACIONAL</td>\n",
       "      <td>NaN</td>\n",
       "      <td>NaN</td>\n",
       "      <td>0.0</td>\n",
       "    </tr>\n",
       "    <tr>\n",
       "      <th>83</th>\n",
       "      <td>ANALISTA PLANEJAMENTO DESENV ORGANIZACIONAL</td>\n",
       "      <td>NaN</td>\n",
       "      <td>NaN</td>\n",
       "      <td>0.0</td>\n",
       "    </tr>\n",
       "    <tr>\n",
       "      <th>101</th>\n",
       "      <td>PROFISSIONAL ENG, ARQ, AGRONOMIA,GEOLOGIA</td>\n",
       "      <td>NaN</td>\n",
       "      <td>NaN</td>\n",
       "      <td>0.0</td>\n",
       "    </tr>\n",
       "    <tr>\n",
       "      <th>138</th>\n",
       "      <td>PROFISSIONAL ENG, ARQ, AGRONOMIA,GEOLOGIA</td>\n",
       "      <td>NaN</td>\n",
       "      <td>NaN</td>\n",
       "      <td>0.0</td>\n",
       "    </tr>\n",
       "    <tr>\n",
       "      <th>256</th>\n",
       "      <td>PROFISSIONAL ENG, ARQ, AGRONOMIA,GEOLOGIA</td>\n",
       "      <td>NaN</td>\n",
       "      <td>NaN</td>\n",
       "      <td>0.0</td>\n",
       "    </tr>\n",
       "    <tr>\n",
       "      <th>265</th>\n",
       "      <td>PROFISSIONAL ENG, ARQ, AGRONOMIA,GEOLOGIA</td>\n",
       "      <td>NaN</td>\n",
       "      <td>NaN</td>\n",
       "      <td>0.0</td>\n",
       "    </tr>\n",
       "    <tr>\n",
       "      <th>330</th>\n",
       "      <td>ANALISTA DE ORDENAMENTO TERRITORIAL</td>\n",
       "      <td>NaN</td>\n",
       "      <td>NaN</td>\n",
       "      <td>0.0</td>\n",
       "    </tr>\n",
       "    <tr>\n",
       "      <th>470</th>\n",
       "      <td>ANALISTA DE INFORMACOES CULTURA E DESPORTO</td>\n",
       "      <td>NaN</td>\n",
       "      <td>NaN</td>\n",
       "      <td>0.0</td>\n",
       "    </tr>\n",
       "    <tr>\n",
       "      <th>637</th>\n",
       "      <td>PROFISSIONAL ENG, ARQ, AGRONOMIA,GEOLOGIA</td>\n",
       "      <td>NaN</td>\n",
       "      <td>NaN</td>\n",
       "      <td>0.0</td>\n",
       "    </tr>\n",
       "    <tr>\n",
       "      <th>662</th>\n",
       "      <td>ANALISTA PLANEJAMENTO DESENV ORGANIZACIONAL</td>\n",
       "      <td>NaN</td>\n",
       "      <td>NaN</td>\n",
       "      <td>0.0</td>\n",
       "    </tr>\n",
       "    <tr>\n",
       "      <th>674</th>\n",
       "      <td>PROFISSIONAL ENG, ARQ, AGRONOMIA,GEOLOGIA</td>\n",
       "      <td>NaN</td>\n",
       "      <td>NaN</td>\n",
       "      <td>0.0</td>\n",
       "    </tr>\n",
       "    <tr>\n",
       "      <th>695</th>\n",
       "      <td>PROFISSIONAL ENG, ARQ, AGRONOMIA,GEOLOGIA</td>\n",
       "      <td>NaN</td>\n",
       "      <td>NaN</td>\n",
       "      <td>0.0</td>\n",
       "    </tr>\n",
       "    <tr>\n",
       "      <th>707</th>\n",
       "      <td>PROFISSIONAL ENG, ARQ, AGRONOMIA,GEOLOGIA</td>\n",
       "      <td>NaN</td>\n",
       "      <td>NaN</td>\n",
       "      <td>0.0</td>\n",
       "    </tr>\n",
       "    <tr>\n",
       "      <th>827</th>\n",
       "      <td>PROFISSIONAL ENG, ARQ, AGRONOMIA,GEOLOGIA</td>\n",
       "      <td>NaN</td>\n",
       "      <td>NaN</td>\n",
       "      <td>0.0</td>\n",
       "    </tr>\n",
       "    <tr>\n",
       "      <th>849</th>\n",
       "      <td>ANALISTA DE INFORMACOES CULTURA E DESPORTO</td>\n",
       "      <td>NaN</td>\n",
       "      <td>NaN</td>\n",
       "      <td>0.0</td>\n",
       "    </tr>\n",
       "    <tr>\n",
       "      <th>859</th>\n",
       "      <td>ANALISTA DE INFORMACOES CULTURA E DESPORTO</td>\n",
       "      <td>NaN</td>\n",
       "      <td>NaN</td>\n",
       "      <td>0.0</td>\n",
       "    </tr>\n",
       "    <tr>\n",
       "      <th>886</th>\n",
       "      <td>PROFISSIONAL ENG, ARQ, AGRONOMIA,GEOLOGIA</td>\n",
       "      <td>NaN</td>\n",
       "      <td>NaN</td>\n",
       "      <td>0.0</td>\n",
       "    </tr>\n",
       "    <tr>\n",
       "      <th>899</th>\n",
       "      <td>ANALISTA PLANEJAMENTO DESENV ORGANIZACIONAL</td>\n",
       "      <td>NaN</td>\n",
       "      <td>NaN</td>\n",
       "      <td>0.0</td>\n",
       "    </tr>\n",
       "    <tr>\n",
       "      <th>1066</th>\n",
       "      <td>PROFISSIONAL ENG, ARQ, AGRONOMIA,GEOLOGIA</td>\n",
       "      <td>NaN</td>\n",
       "      <td>NaN</td>\n",
       "      <td>0.0</td>\n",
       "    </tr>\n",
       "    <tr>\n",
       "      <th>1072</th>\n",
       "      <td>PROFISSIONAL ENG, ARQ, AGRONOMIA,GEOLOGIA</td>\n",
       "      <td>NaN</td>\n",
       "      <td>NaN</td>\n",
       "      <td>0.0</td>\n",
       "    </tr>\n",
       "  </tbody>\n",
       "</table>\n",
       "</div>"
      ],
      "text/plain": [
       "                                    dc_cargo_base  vl_remuneracao_base_mensal  \\\n",
       "17      PROFISSIONAL ENG, ARQ, AGRONOMIA,GEOLOGIA                         NaN   \n",
       "49      PROFISSIONAL ENG, ARQ, AGRONOMIA,GEOLOGIA                         NaN   \n",
       "77    ANALISTA PLANEJAMENTO DESENV ORGANIZACIONAL                         NaN   \n",
       "83    ANALISTA PLANEJAMENTO DESENV ORGANIZACIONAL                         NaN   \n",
       "101     PROFISSIONAL ENG, ARQ, AGRONOMIA,GEOLOGIA                         NaN   \n",
       "138     PROFISSIONAL ENG, ARQ, AGRONOMIA,GEOLOGIA                         NaN   \n",
       "256     PROFISSIONAL ENG, ARQ, AGRONOMIA,GEOLOGIA                         NaN   \n",
       "265     PROFISSIONAL ENG, ARQ, AGRONOMIA,GEOLOGIA                         NaN   \n",
       "330           ANALISTA DE ORDENAMENTO TERRITORIAL                         NaN   \n",
       "470    ANALISTA DE INFORMACOES CULTURA E DESPORTO                         NaN   \n",
       "637     PROFISSIONAL ENG, ARQ, AGRONOMIA,GEOLOGIA                         NaN   \n",
       "662   ANALISTA PLANEJAMENTO DESENV ORGANIZACIONAL                         NaN   \n",
       "674     PROFISSIONAL ENG, ARQ, AGRONOMIA,GEOLOGIA                         NaN   \n",
       "695     PROFISSIONAL ENG, ARQ, AGRONOMIA,GEOLOGIA                         NaN   \n",
       "707     PROFISSIONAL ENG, ARQ, AGRONOMIA,GEOLOGIA                         NaN   \n",
       "827     PROFISSIONAL ENG, ARQ, AGRONOMIA,GEOLOGIA                         NaN   \n",
       "849    ANALISTA DE INFORMACOES CULTURA E DESPORTO                         NaN   \n",
       "859    ANALISTA DE INFORMACOES CULTURA E DESPORTO                         NaN   \n",
       "886     PROFISSIONAL ENG, ARQ, AGRONOMIA,GEOLOGIA                         NaN   \n",
       "899   ANALISTA PLANEJAMENTO DESENV ORGANIZACIONAL                         NaN   \n",
       "1066    PROFISSIONAL ENG, ARQ, AGRONOMIA,GEOLOGIA                         NaN   \n",
       "1072    PROFISSIONAL ENG, ARQ, AGRONOMIA,GEOLOGIA                         NaN   \n",
       "\n",
       "      vl_outro_elemento_remuneracao  vl_remuneracao_total_bruta  \n",
       "17                              NaN                         0.0  \n",
       "49                              NaN                         0.0  \n",
       "77                              NaN                         0.0  \n",
       "83                              NaN                         0.0  \n",
       "101                             NaN                         0.0  \n",
       "138                             NaN                         0.0  \n",
       "256                             NaN                         0.0  \n",
       "265                             NaN                         0.0  \n",
       "330                             NaN                         0.0  \n",
       "470                             NaN                         0.0  \n",
       "637                             NaN                         0.0  \n",
       "662                             NaN                         0.0  \n",
       "674                             NaN                         0.0  \n",
       "695                             NaN                         0.0  \n",
       "707                             NaN                         0.0  \n",
       "827                             NaN                         0.0  \n",
       "849                             NaN                         0.0  \n",
       "859                             NaN                         0.0  \n",
       "886                             NaN                         0.0  \n",
       "899                             NaN                         0.0  \n",
       "1066                            NaN                         0.0  \n",
       "1072                            NaN                         0.0  "
      ]
     },
     "execution_count": 7,
     "metadata": {},
     "output_type": "execute_result"
    }
   ],
   "source": [
    "df[df['vl_remuneracao_base_mensal'].isnull()][['dc_cargo_base', \n",
    "                                               'vl_remuneracao_base_mensal', \n",
    "                                               'vl_outro_elemento_remuneracao',\n",
    "                                              'vl_remuneracao_total_bruta']]"
   ]
  },
  {
   "cell_type": "markdown",
   "id": "45a714be-35ef-4daa-ba68-6c4d8a19fb1f",
   "metadata": {},
   "source": [
    "Devem ser servidores afastados ou em licença sem vencimentos. Vamos removê-los."
   ]
  },
  {
   "cell_type": "code",
   "execution_count": 8,
   "id": "bca3d325-064d-427d-86dd-59bff796824c",
   "metadata": {},
   "outputs": [],
   "source": [
    "df = df[df['vl_remuneracao_base_mensal'].notnull()].copy().reset_index(drop=True)"
   ]
  },
  {
   "cell_type": "markdown",
   "id": "08dbcf9c-6e18-448f-91ce-ae0184dacd41",
   "metadata": {},
   "source": [
    "No caso dos servidores cujo \"outro elemento da remuneração\" é vazio, parece estar tudo certo, basta preencher com 0."
   ]
  },
  {
   "cell_type": "code",
   "execution_count": 9,
   "id": "c5d759d5-dd72-4004-a60e-bd940cca0155",
   "metadata": {},
   "outputs": [
    {
     "data": {
      "text/html": [
       "<div>\n",
       "<style scoped>\n",
       "    .dataframe tbody tr th:only-of-type {\n",
       "        vertical-align: middle;\n",
       "    }\n",
       "\n",
       "    .dataframe tbody tr th {\n",
       "        vertical-align: top;\n",
       "    }\n",
       "\n",
       "    .dataframe thead th {\n",
       "        text-align: right;\n",
       "    }\n",
       "</style>\n",
       "<table border=\"1\" class=\"dataframe\">\n",
       "  <thead>\n",
       "    <tr style=\"text-align: right;\">\n",
       "      <th></th>\n",
       "      <th>dc_cargo_base</th>\n",
       "      <th>vl_remuneracao_base_mensal</th>\n",
       "      <th>vl_outro_elemento_remuneracao</th>\n",
       "      <th>vl_remuneracao_total_bruta</th>\n",
       "    </tr>\n",
       "  </thead>\n",
       "  <tbody>\n",
       "    <tr>\n",
       "      <th>69</th>\n",
       "      <td>ANALISTA</td>\n",
       "      <td>7215.11</td>\n",
       "      <td>NaN</td>\n",
       "      <td>7215.11</td>\n",
       "    </tr>\n",
       "    <tr>\n",
       "      <th>237</th>\n",
       "      <td>CONTADOR</td>\n",
       "      <td>16071.59</td>\n",
       "      <td>NaN</td>\n",
       "      <td>16071.59</td>\n",
       "    </tr>\n",
       "    <tr>\n",
       "      <th>280</th>\n",
       "      <td>ANALISTA</td>\n",
       "      <td>7215.11</td>\n",
       "      <td>NaN</td>\n",
       "      <td>7215.11</td>\n",
       "    </tr>\n",
       "    <tr>\n",
       "      <th>418</th>\n",
       "      <td>ANALISTA DE INFORMACOES CULTURA E DESPORTO</td>\n",
       "      <td>8636.40</td>\n",
       "      <td>NaN</td>\n",
       "      <td>8636.40</td>\n",
       "    </tr>\n",
       "    <tr>\n",
       "      <th>611</th>\n",
       "      <td>PROFISSIONAL ENG, ARQ, AGRONOMIA,GEOLOGIA</td>\n",
       "      <td>8309.10</td>\n",
       "      <td>NaN</td>\n",
       "      <td>8309.10</td>\n",
       "    </tr>\n",
       "    <tr>\n",
       "      <th>...</th>\n",
       "      <td>...</td>\n",
       "      <td>...</td>\n",
       "      <td>...</td>\n",
       "      <td>...</td>\n",
       "    </tr>\n",
       "    <tr>\n",
       "      <th>2719</th>\n",
       "      <td>ANALISTA ASSISTENCIA DESENVOLVIMENTO SOCIAL</td>\n",
       "      <td>6108.77</td>\n",
       "      <td>NaN</td>\n",
       "      <td>6108.77</td>\n",
       "    </tr>\n",
       "    <tr>\n",
       "      <th>2727</th>\n",
       "      <td>ANALISTA ASSISTENCIA DESENVOLVIMENTO SOCIAL</td>\n",
       "      <td>6232.69</td>\n",
       "      <td>NaN</td>\n",
       "      <td>6232.69</td>\n",
       "    </tr>\n",
       "    <tr>\n",
       "      <th>2822</th>\n",
       "      <td>ANALISTA ASSISTENCIA DESENVOLVIMENTO SOCIAL</td>\n",
       "      <td>6183.12</td>\n",
       "      <td>NaN</td>\n",
       "      <td>6183.12</td>\n",
       "    </tr>\n",
       "    <tr>\n",
       "      <th>2829</th>\n",
       "      <td>ANALISTA ASSISTENCIA DESENVOLVIMENTO SOCIAL</td>\n",
       "      <td>6108.77</td>\n",
       "      <td>NaN</td>\n",
       "      <td>6108.77</td>\n",
       "    </tr>\n",
       "    <tr>\n",
       "      <th>2835</th>\n",
       "      <td>ANALISTA ASSISTENCIA DESENVOLVIMENTO SOCIAL</td>\n",
       "      <td>6108.77</td>\n",
       "      <td>NaN</td>\n",
       "      <td>6108.77</td>\n",
       "    </tr>\n",
       "  </tbody>\n",
       "</table>\n",
       "<p>62 rows × 4 columns</p>\n",
       "</div>"
      ],
      "text/plain": [
       "                                    dc_cargo_base  vl_remuneracao_base_mensal  \\\n",
       "69                                       ANALISTA                     7215.11   \n",
       "237                                      CONTADOR                    16071.59   \n",
       "280                                      ANALISTA                     7215.11   \n",
       "418    ANALISTA DE INFORMACOES CULTURA E DESPORTO                     8636.40   \n",
       "611     PROFISSIONAL ENG, ARQ, AGRONOMIA,GEOLOGIA                     8309.10   \n",
       "...                                           ...                         ...   \n",
       "2719  ANALISTA ASSISTENCIA DESENVOLVIMENTO SOCIAL                     6108.77   \n",
       "2727  ANALISTA ASSISTENCIA DESENVOLVIMENTO SOCIAL                     6232.69   \n",
       "2822  ANALISTA ASSISTENCIA DESENVOLVIMENTO SOCIAL                     6183.12   \n",
       "2829  ANALISTA ASSISTENCIA DESENVOLVIMENTO SOCIAL                     6108.77   \n",
       "2835  ANALISTA ASSISTENCIA DESENVOLVIMENTO SOCIAL                     6108.77   \n",
       "\n",
       "      vl_outro_elemento_remuneracao  vl_remuneracao_total_bruta  \n",
       "69                              NaN                     7215.11  \n",
       "237                             NaN                    16071.59  \n",
       "280                             NaN                     7215.11  \n",
       "418                             NaN                     8636.40  \n",
       "611                             NaN                     8309.10  \n",
       "...                             ...                         ...  \n",
       "2719                            NaN                     6108.77  \n",
       "2727                            NaN                     6232.69  \n",
       "2822                            NaN                     6183.12  \n",
       "2829                            NaN                     6108.77  \n",
       "2835                            NaN                     6108.77  \n",
       "\n",
       "[62 rows x 4 columns]"
      ]
     },
     "execution_count": 9,
     "metadata": {},
     "output_type": "execute_result"
    }
   ],
   "source": [
    "df[df['vl_outro_elemento_remuneracao'].isnull()][['dc_cargo_base', \n",
    "                                               'vl_remuneracao_base_mensal', \n",
    "                                               'vl_outro_elemento_remuneracao',\n",
    "                                              'vl_remuneracao_total_bruta']]"
   ]
  },
  {
   "cell_type": "code",
   "execution_count": 10,
   "id": "4fefb1f7-b763-462e-870b-36fff9c0322d",
   "metadata": {},
   "outputs": [],
   "source": [
    "df['vl_outro_elemento_remuneracao'] = df['vl_outro_elemento_remuneracao'].fillna(0)"
   ]
  },
  {
   "cell_type": "markdown",
   "id": "68532d69-5fa3-453c-9459-5623d26cb77b",
   "metadata": {},
   "source": [
    "Quem não tem referência do cargo em comissão é porque não ocupa cargo em comissão. Por isso vou colocar um valor padrão para essa variável."
   ]
  },
  {
   "cell_type": "code",
   "execution_count": 16,
   "id": "3b18c156-aefb-42f9-be5a-5f93eb3cf1a1",
   "metadata": {},
   "outputs": [],
   "source": [
    "df['referencia_cargo_comissao'] = df['referencia_cargo_comissao'].fillna('nenhum')"
   ]
  },
  {
   "cell_type": "code",
   "execution_count": 17,
   "id": "ec861b6f-5480-4020-ac59-e19f30f4fc5c",
   "metadata": {},
   "outputs": [
    {
     "name": "stdout",
     "output_type": "stream",
     "text": [
      "segmento_cargo_base : 65 missings\n"
     ]
    }
   ],
   "source": [
    "for col in df.columns:\n",
    "    missings = df[col].isnull().sum()\n",
    "    if missings:\n",
    "        print(f'{col} : {missings} missings')"
   ]
  },
  {
   "cell_type": "markdown",
   "id": "e4c93ca1-df95-4c8a-86f9-4c9a9a63dfef",
   "metadata": {},
   "source": [
    "Faltou só o seguimento do cargo base. Várias carreiras não possuem isso. Vamos adicionar um valor padrão"
   ]
  },
  {
   "cell_type": "code",
   "execution_count": 18,
   "id": "fa27d591-3208-4eca-b5c7-8739e7005114",
   "metadata": {},
   "outputs": [],
   "source": [
    "df['segmento_cargo_base'] = df['segmento_cargo_base'].fillna('não se aplica')"
   ]
  },
  {
   "cell_type": "markdown",
   "id": "7cf17728-5308-4614-8952-1ab07aab3acc",
   "metadata": {},
   "source": [
    "Vamos ver as distribuiçẽos das variáveis"
   ]
  },
  {
   "cell_type": "code",
   "execution_count": 30,
   "id": "54b1522b-85ac-48cb-9c87-777f1219441a",
   "metadata": {},
   "outputs": [
    {
     "data": {
      "text/plain": [
       "registro_funcional                    int64\n",
       "num_vinculo                           int64\n",
       "dc_cargo_base                        object\n",
       "grupo_cargo_base                     object\n",
       "nivel_cargo_base                     object\n",
       "segmento_cargo_base                  object\n",
       "referencia_cargo_comissao            object\n",
       "relacao_juridica                     object\n",
       "qt_hora_jornada_semanal               int64\n",
       "dc_orgao                             object\n",
       "qtd_servidores_orgao                float64\n",
       "ano_nascimento                        int64\n",
       "sexo                                 object\n",
       "raca                                 object\n",
       "pessoa_com_deficiencia               object\n",
       "vl_remuneracao_base_mensal          float64\n",
       "vl_outro_elemento_remuneracao       float64\n",
       "vl_remuneracao_total_bruta          float64\n",
       "cedido                                 bool\n",
       "tempo_exercicio_dias                  int64\n",
       "tempo_exercicio_dias_padro          float64\n",
       "vl_remuneracao_total_bruta_padro    float64\n",
       "k_means4                              int64\n",
       "dtype: object"
      ]
     },
     "execution_count": 30,
     "metadata": {},
     "output_type": "execute_result"
    }
   ],
   "source": [
    "df.dtypes"
   ]
  },
  {
   "cell_type": "code",
   "execution_count": 31,
   "id": "5c810e20-57e7-42cf-bfb8-da10f03a600a",
   "metadata": {},
   "outputs": [],
   "source": [
    "df['registro_funcional'] = df['registro_funcional'].astype(str)\n",
    "df['k_means4'] = df['k_means4'].astype(str)"
   ]
  },
  {
   "cell_type": "code",
   "execution_count": 33,
   "id": "af712976-29f6-4147-bc84-8b84f1aadb08",
   "metadata": {},
   "outputs": [],
   "source": [
    "cols_remuneracao = ['vl_remuneracao_base_mensal', 'vl_outro_elemento_remuneracao', 'vl_remuneracao_total_bruta']"
   ]
  },
  {
   "cell_type": "code",
   "execution_count": 34,
   "id": "168d3f14-1bd2-4028-8cf9-80dfa06271f5",
   "metadata": {},
   "outputs": [
    {
     "data": {
      "text/html": [
       "<div>\n",
       "<style scoped>\n",
       "    .dataframe tbody tr th:only-of-type {\n",
       "        vertical-align: middle;\n",
       "    }\n",
       "\n",
       "    .dataframe tbody tr th {\n",
       "        vertical-align: top;\n",
       "    }\n",
       "\n",
       "    .dataframe thead th {\n",
       "        text-align: right;\n",
       "    }\n",
       "</style>\n",
       "<table border=\"1\" class=\"dataframe\">\n",
       "  <thead>\n",
       "    <tr style=\"text-align: right;\">\n",
       "      <th></th>\n",
       "      <th>vl_remuneracao_base_mensal</th>\n",
       "      <th>vl_outro_elemento_remuneracao</th>\n",
       "      <th>vl_remuneracao_total_bruta</th>\n",
       "    </tr>\n",
       "  </thead>\n",
       "  <tbody>\n",
       "    <tr>\n",
       "      <th>count</th>\n",
       "      <td>2868.000000</td>\n",
       "      <td>2868.000000</td>\n",
       "      <td>2868.000000</td>\n",
       "    </tr>\n",
       "    <tr>\n",
       "      <th>mean</th>\n",
       "      <td>9803.580262</td>\n",
       "      <td>1581.009951</td>\n",
       "      <td>11384.590213</td>\n",
       "    </tr>\n",
       "    <tr>\n",
       "      <th>std</th>\n",
       "      <td>3909.235111</td>\n",
       "      <td>1585.741477</td>\n",
       "      <td>4871.454604</td>\n",
       "    </tr>\n",
       "    <tr>\n",
       "      <th>min</th>\n",
       "      <td>2211.600000</td>\n",
       "      <td>0.000000</td>\n",
       "      <td>2368.640000</td>\n",
       "    </tr>\n",
       "    <tr>\n",
       "      <th>25%</th>\n",
       "      <td>7386.882500</td>\n",
       "      <td>412.230000</td>\n",
       "      <td>8321.017500</td>\n",
       "    </tr>\n",
       "    <tr>\n",
       "      <th>50%</th>\n",
       "      <td>8268.380000</td>\n",
       "      <td>1291.215000</td>\n",
       "      <td>9393.250000</td>\n",
       "    </tr>\n",
       "    <tr>\n",
       "      <th>75%</th>\n",
       "      <td>10528.870000</td>\n",
       "      <td>2131.550000</td>\n",
       "      <td>12369.420000</td>\n",
       "    </tr>\n",
       "    <tr>\n",
       "      <th>max</th>\n",
       "      <td>24175.550000</td>\n",
       "      <td>16292.040000</td>\n",
       "      <td>36295.010000</td>\n",
       "    </tr>\n",
       "  </tbody>\n",
       "</table>\n",
       "</div>"
      ],
      "text/plain": [
       "       vl_remuneracao_base_mensal  vl_outro_elemento_remuneracao  \\\n",
       "count                 2868.000000                    2868.000000   \n",
       "mean                  9803.580262                    1581.009951   \n",
       "std                   3909.235111                    1585.741477   \n",
       "min                   2211.600000                       0.000000   \n",
       "25%                   7386.882500                     412.230000   \n",
       "50%                   8268.380000                    1291.215000   \n",
       "75%                  10528.870000                    2131.550000   \n",
       "max                  24175.550000                   16292.040000   \n",
       "\n",
       "       vl_remuneracao_total_bruta  \n",
       "count                 2868.000000  \n",
       "mean                 11384.590213  \n",
       "std                   4871.454604  \n",
       "min                   2368.640000  \n",
       "25%                   8321.017500  \n",
       "50%                   9393.250000  \n",
       "75%                  12369.420000  \n",
       "max                  36295.010000  "
      ]
     },
     "execution_count": 34,
     "metadata": {},
     "output_type": "execute_result"
    }
   ],
   "source": [
    "df[cols_remuneracao].describe()"
   ]
  },
  {
   "cell_type": "code",
   "execution_count": 21,
   "id": "04671861-fae6-47c7-955f-6c62647b9f0a",
   "metadata": {},
   "outputs": [
    {
     "data": {
      "text/plain": [
       "<AxesSubplot:ylabel='Frequency'>"
      ]
     },
     "execution_count": 21,
     "metadata": {},
     "output_type": "execute_result"
    },
    {
     "data": {
      "image/png": "[encoded data removed]",
      "text/plain": [
       "<Figure size 432x288 with 1 Axes>"
      ]
     },
     "metadata": {},
     "output_type": "display_data"
    }
   ],
   "source": [
    "df['vl_remuneracao_total_bruta'].plot.hist(bins=100)"
   ]
  },
  {
   "cell_type": "code",
   "execution_count": 36,
   "id": "3c5df241-d091-41b3-adb6-90f55cdc3e06",
   "metadata": {},
   "outputs": [
    {
     "data": {
      "text/plain": [
       "<AxesSubplot:xlabel='vl_remuneracao_total_bruta'>"
      ]
     },
     "execution_count": 36,
     "metadata": {},
     "output_type": "execute_result"
    },
    {
     "data": {
      "image/png": "[encoded data removed]",
      "text/plain": [
       "<Figure size 432x288 with 1 Axes>"
      ]
     },
     "metadata": {},
     "output_type": "display_data"
    }
   ],
   "source": [
    "sns.violinplot(x=df['vl_remuneracao_total_bruta'])"
   ]
  },
  {
   "cell_type": "code",
   "execution_count": 38,
   "id": "d98f725c-36f0-45e9-9fc3-be00ac800e01",
   "metadata": {},
   "outputs": [
    {
     "data": {
      "text/plain": [
       "<AxesSubplot:xlabel='vl_remuneracao_total_bruta'>"
      ]
     },
     "execution_count": 38,
     "metadata": {},
     "output_type": "execute_result"
    },
    {
     "data": {
      "image/png": "[encoded data removed]",
      "text/plain": [
       "<Figure size 432x288 with 1 Axes>"
      ]
     },
     "metadata": {},
     "output_type": "display_data"
    }
   ],
   "source": [
    "sns.boxplot(x= df['vl_remuneracao_total_bruta'])"
   ]
  },
  {
   "cell_type": "code",
   "execution_count": 47,
   "id": "49ab0bf0-275c-4927-9a53-6886c679fc23",
   "metadata": {},
   "outputs": [],
   "source": [
    "from scipy import stats\n",
    "import statsmodels.api as sm"
   ]
  },
  {
   "cell_type": "code",
   "execution_count": 41,
   "id": "451024bf-e11c-472c-9a77-1f694dbef457",
   "metadata": {},
   "outputs": [],
   "source": [
    "shapiro_test = stats.shapiro(df['vl_remuneracao_total_bruta'])"
   ]
  },
  {
   "cell_type": "code",
   "execution_count": 42,
   "id": "113d8a28-cbe9-4b45-88a0-e9055e2b9a8d",
   "metadata": {},
   "outputs": [
    {
     "data": {
      "text/plain": [
       "ShapiroResult(statistic=0.7981973886489868, pvalue=0.0)"
      ]
     },
     "execution_count": 42,
     "metadata": {},
     "output_type": "execute_result"
    }
   ],
   "source": [
    "shapiro_test"
   ]
  },
  {
   "cell_type": "code",
   "execution_count": 45,
   "id": "3fd4c7ce-173c-43b7-ac2d-93d1c56a9b4f",
   "metadata": {},
   "outputs": [
    {
     "data": {
      "text/plain": [
       "KstestResult(statistic=1.0, pvalue=0.0)"
      ]
     },
     "execution_count": 45,
     "metadata": {},
     "output_type": "execute_result"
    }
   ],
   "source": [
    "stats.kstest(df['vl_remuneracao_total_bruta'], 'norm')"
   ]
  },
  {
   "cell_type": "code",
   "execution_count": 25,
   "id": "c4519c91-bddc-4e61-a657-3a6acb641df4",
   "metadata": {},
   "outputs": [
    {
     "data": {
      "text/plain": [
       "<AxesSubplot:ylabel='Frequency'>"
      ]
     },
     "execution_count": 25,
     "metadata": {},
     "output_type": "execute_result"
    },
    {
     "data": {
      "image/png": "[encoded data removed]",
      "text/plain": [
       "<Figure size 432x288 with 1 Axes>"
      ]
     },
     "metadata": {},
     "output_type": "display_data"
    }
   ],
   "source": [
    "df['tempo_exercicio_dias'].plot.hist(bins=100)"
   ]
  },
  {
   "cell_type": "code",
   "execution_count": 57,
   "id": "592833ed-18ef-4836-8eba-82e5a47b2291",
   "metadata": {},
   "outputs": [
    {
     "name": "stderr",
     "output_type": "stream",
     "text": [
      "/home/h-pgy/anaconda3/lib/python3.8/site-packages/seaborn/_decorators.py:36: FutureWarning: Pass the following variable as a keyword arg: x. From version 0.12, the only valid positional argument will be `data`, and passing other arguments without an explicit keyword will result in an error or misinterpretation.\n",
      "  warnings.warn(\n"
     ]
    },
    {
     "data": {
      "text/plain": [
       "<AxesSubplot:xlabel='tempo_exercicio_dias'>"
      ]
     },
     "execution_count": 57,
     "metadata": {},
     "output_type": "execute_result"
    },
    {
     "data": {
      "image/png": "[encoded data removed]",
      "text/plain": [
       "<Figure size 432x288 with 1 Axes>"
      ]
     },
     "metadata": {},
     "output_type": "display_data"
    }
   ],
   "source": [
    "sns.violinplot(df['tempo_exercicio_dias'])"
   ]
  },
  {
   "cell_type": "code",
   "execution_count": 58,
   "id": "ade4ec6d-941c-4a3d-92b9-ff339b115509",
   "metadata": {},
   "outputs": [
    {
     "name": "stderr",
     "output_type": "stream",
     "text": [
      "/home/h-pgy/anaconda3/lib/python3.8/site-packages/seaborn/_decorators.py:36: FutureWarning: Pass the following variable as a keyword arg: x. From version 0.12, the only valid positional argument will be `data`, and passing other arguments without an explicit keyword will result in an error or misinterpretation.\n",
      "  warnings.warn(\n"
     ]
    },
    {
     "data": {
      "text/plain": [
       "<AxesSubplot:xlabel='tempo_exercicio_dias'>"
      ]
     },
     "execution_count": 58,
     "metadata": {},
     "output_type": "execute_result"
    },
    {
     "data": {
      "image/png": "[encoded data removed]",
      "text/plain": [
       "<Figure size 432x288 with 1 Axes>"
      ]
     },
     "metadata": {},
     "output_type": "display_data"
    }
   ],
   "source": [
    "sns.boxplot(df['tempo_exercicio_dias'])"
   ]
  },
  {
   "cell_type": "code",
   "execution_count": 27,
   "id": "f0c2034e-bf87-4c1a-bf68-c0d17de077c8",
   "metadata": {},
   "outputs": [
    {
     "data": {
      "text/html": [
       "<div>\n",
       "<style scoped>\n",
       "    .dataframe tbody tr th:only-of-type {\n",
       "        vertical-align: middle;\n",
       "    }\n",
       "\n",
       "    .dataframe tbody tr th {\n",
       "        vertical-align: top;\n",
       "    }\n",
       "\n",
       "    .dataframe thead th {\n",
       "        text-align: right;\n",
       "    }\n",
       "</style>\n",
       "<table border=\"1\" class=\"dataframe\">\n",
       "  <thead>\n",
       "    <tr style=\"text-align: right;\">\n",
       "      <th></th>\n",
       "      <th>registro_funcional</th>\n",
       "      <th>num_vinculo</th>\n",
       "      <th>dc_cargo_base</th>\n",
       "      <th>grupo_cargo_base</th>\n",
       "      <th>nivel_cargo_base</th>\n",
       "      <th>segmento_cargo_base</th>\n",
       "      <th>referencia_cargo_comissao</th>\n",
       "      <th>relacao_juridica</th>\n",
       "      <th>qt_hora_jornada_semanal</th>\n",
       "      <th>dc_orgao</th>\n",
       "      <th>...</th>\n",
       "      <th>raca</th>\n",
       "      <th>pessoa_com_deficiencia</th>\n",
       "      <th>vl_remuneracao_base_mensal</th>\n",
       "      <th>vl_outro_elemento_remuneracao</th>\n",
       "      <th>vl_remuneracao_total_bruta</th>\n",
       "      <th>cedido</th>\n",
       "      <th>tempo_exercicio_dias</th>\n",
       "      <th>tempo_exercicio_dias_padro</th>\n",
       "      <th>vl_remuneracao_total_bruta_padro</th>\n",
       "      <th>k_means4</th>\n",
       "    </tr>\n",
       "  </thead>\n",
       "  <tbody>\n",
       "  </tbody>\n",
       "</table>\n",
       "<p>0 rows × 23 columns</p>\n",
       "</div>"
      ],
      "text/plain": [
       "Empty DataFrame\n",
       "Columns: [registro_funcional, num_vinculo, dc_cargo_base, grupo_cargo_base, nivel_cargo_base, segmento_cargo_base, referencia_cargo_comissao, relacao_juridica, qt_hora_jornada_semanal, dc_orgao, qtd_servidores_orgao, ano_nascimento, sexo, raca, pessoa_com_deficiencia, vl_remuneracao_base_mensal, vl_outro_elemento_remuneracao, vl_remuneracao_total_bruta, cedido, tempo_exercicio_dias, tempo_exercicio_dias_padro, vl_remuneracao_total_bruta_padro, k_means4]\n",
       "Index: []\n",
       "\n",
       "[0 rows x 23 columns]"
      ]
     },
     "execution_count": 27,
     "metadata": {},
     "output_type": "execute_result"
    }
   ],
   "source": [
    "df[df['tempo_exercicio_dias']==0]"
   ]
  },
  {
   "cell_type": "code",
   "execution_count": 59,
   "id": "0ca48c1e-2148-400e-8da1-9bdf46464d26",
   "metadata": {},
   "outputs": [],
   "source": [
    "from scipy.stats import pearsonr"
   ]
  },
  {
   "cell_type": "code",
   "execution_count": 60,
   "id": "42372f32-7704-4b3d-afd0-15d17b03f643",
   "metadata": {},
   "outputs": [
    {
     "name": "stderr",
     "output_type": "stream",
     "text": [
      "/home/h-pgy/anaconda3/lib/python3.8/site-packages/seaborn/_decorators.py:36: FutureWarning: Pass the following variables as keyword args: x, y. From version 0.12, the only valid positional argument will be `data`, and passing other arguments without an explicit keyword will result in an error or misinterpretation.\n",
      "  warnings.warn(\n"
     ]
    },
    {
     "data": {
      "text/plain": [
       "<AxesSubplot:xlabel='tempo_exercicio_dias', ylabel='vl_remuneracao_total_bruta'>"
      ]
     },
     "execution_count": 60,
     "metadata": {},
     "output_type": "execute_result"
    },
    {
     "data": {
      "image/png": "[encoded data removed]",
      "text/plain": [
       "<Figure size 432x288 with 1 Axes>"
      ]
     },
     "metadata": {},
     "output_type": "display_data"
    }
   ],
   "source": [
    "sns.scatterplot(df['tempo_exercicio_dias'], df['vl_remuneracao_total_bruta'])"
   ]
  },
  {
   "cell_type": "code",
   "execution_count": 61,
   "id": "6e7107df-9eaa-4edc-afb4-54f3fca2438e",
   "metadata": {},
   "outputs": [
    {
     "data": {
      "text/plain": [
       "(0.7331866970578186, 0.0)"
      ]
     },
     "execution_count": 61,
     "metadata": {},
     "output_type": "execute_result"
    }
   ],
   "source": [
    "pearsonr(df['tempo_exercicio_dias'], df['vl_remuneracao_total_bruta'])"
   ]
  },
  {
   "cell_type": "code",
   "execution_count": 52,
   "id": "e85f6ee9-d016-4435-bb18-de77845b1999",
   "metadata": {},
   "outputs": [],
   "source": [
    "reg_simples = sm.OLS(df['vl_remuneracao_total_bruta'], df['tempo_exercicio_dias']).fit()"
   ]
  },
  {
   "cell_type": "code",
   "execution_count": 56,
   "id": "0c72be50-e259-4d09-87a3-3043479cce63",
   "metadata": {},
   "outputs": [
    {
     "data": {
      "text/html": [
       "<table class=\"simpletable\">\n",
       "<caption>OLS Regression Results</caption>\n",
       "<tr>\n",
       "  <th>Dep. Variable:</th>    <td>vl_remuneracao_total_bruta</td> <th>  R-squared (uncentered):</th>      <td>   0.849</td> \n",
       "</tr>\n",
       "<tr>\n",
       "  <th>Model:</th>                        <td>OLS</td>            <th>  Adj. R-squared (uncentered):</th> <td>   0.849</td> \n",
       "</tr>\n",
       "<tr>\n",
       "  <th>Method:</th>                  <td>Least Squares</td>       <th>  F-statistic:       </th>          <td>1.609e+04</td>\n",
       "</tr>\n",
       "<tr>\n",
       "  <th>Date:</th>                  <td>Fri, 20 Aug 2021</td>      <th>  Prob (F-statistic):</th>           <td>  0.00</td>  \n",
       "</tr>\n",
       "<tr>\n",
       "  <th>Time:</th>                      <td>18:09:42</td>          <th>  Log-Likelihood:    </th>          <td> -28389.</td> \n",
       "</tr>\n",
       "<tr>\n",
       "  <th>No. Observations:</th>           <td>  2868</td>           <th>  AIC:               </th>          <td>5.678e+04</td>\n",
       "</tr>\n",
       "<tr>\n",
       "  <th>Df Residuals:</th>               <td>  2867</td>           <th>  BIC:               </th>          <td>5.679e+04</td>\n",
       "</tr>\n",
       "<tr>\n",
       "  <th>Df Model:</th>                   <td>     1</td>           <th>                     </th>              <td> </td>    \n",
       "</tr>\n",
       "<tr>\n",
       "  <th>Covariance Type:</th>           <td>nonrobust</td>         <th>                     </th>              <td> </td>    \n",
       "</tr>\n",
       "</table>\n",
       "<table class=\"simpletable\">\n",
       "<tr>\n",
       "            <td></td>              <th>coef</th>     <th>std err</th>      <th>t</th>      <th>P>|t|</th>  <th>[0.025</th>    <th>0.975]</th>  \n",
       "</tr>\n",
       "<tr>\n",
       "  <th>tempo_exercicio_dias</th> <td>    1.7335</td> <td>    0.014</td> <td>  126.858</td> <td> 0.000</td> <td>    1.707</td> <td>    1.760</td>\n",
       "</tr>\n",
       "</table>\n",
       "<table class=\"simpletable\">\n",
       "<tr>\n",
       "  <th>Omnibus:</th>       <td>307.030</td> <th>  Durbin-Watson:     </th> <td>   0.751</td>\n",
       "</tr>\n",
       "<tr>\n",
       "  <th>Prob(Omnibus):</th> <td> 0.000</td>  <th>  Jarque-Bera (JB):  </th> <td>1481.985</td>\n",
       "</tr>\n",
       "<tr>\n",
       "  <th>Skew:</th>          <td>-0.403</td>  <th>  Prob(JB):          </th> <td>    0.00</td>\n",
       "</tr>\n",
       "<tr>\n",
       "  <th>Kurtosis:</th>      <td> 6.428</td>  <th>  Cond. No.          </th> <td>    1.00</td>\n",
       "</tr>\n",
       "</table><br/><br/>Notes:<br/>[1] R² is computed without centering (uncentered) since the model does not contain a constant.<br/>[2] Standard Errors assume that the covariance matrix of the errors is correctly specified."
      ],
      "text/plain": [
       "<class 'statsmodels.iolib.summary.Summary'>\n",
       "\"\"\"\n",
       "                                     OLS Regression Results                                    \n",
       "===============================================================================================\n",
       "Dep. Variable:     vl_remuneracao_total_bruta   R-squared (uncentered):                   0.849\n",
       "Model:                                    OLS   Adj. R-squared (uncentered):              0.849\n",
       "Method:                         Least Squares   F-statistic:                          1.609e+04\n",
       "Date:                        Fri, 20 Aug 2021   Prob (F-statistic):                        0.00\n",
       "Time:                                18:09:42   Log-Likelihood:                         -28389.\n",
       "No. Observations:                        2868   AIC:                                  5.678e+04\n",
       "Df Residuals:                            2867   BIC:                                  5.679e+04\n",
       "Df Model:                                   1                                                  \n",
       "Covariance Type:                    nonrobust                                                  \n",
       "========================================================================================\n",
       "                           coef    std err          t      P>|t|      [0.025      0.975]\n",
       "----------------------------------------------------------------------------------------\n",
       "tempo_exercicio_dias     1.7335      0.014    126.858      0.000       1.707       1.760\n",
       "==============================================================================\n",
       "Omnibus:                      307.030   Durbin-Watson:                   0.751\n",
       "Prob(Omnibus):                  0.000   Jarque-Bera (JB):             1481.985\n",
       "Skew:                          -0.403   Prob(JB):                         0.00\n",
       "Kurtosis:                       6.428   Cond. No.                         1.00\n",
       "==============================================================================\n",
       "\n",
       "Notes:\n",
       "[1] R² is computed without centering (uncentered) since the model does not contain a constant.\n",
       "[2] Standard Errors assume that the covariance matrix of the errors is correctly specified.\n",
       "\"\"\""
      ]
     },
     "execution_count": 56,
     "metadata": {},
     "output_type": "execute_result"
    }
   ],
   "source": [
    "reg_simples.summary()"
   ]
  },
  {
   "cell_type": "code",
   "execution_count": null,
   "id": "c1ad4595-ce9b-45cb-934a-1588beac5e40",
   "metadata": {},
   "outputs": [],
   "source": []
  }
 ],
 "metadata": {
  "kernelspec": {
   "display_name": "Python 3",
   "language": "python",
   "name": "python3"
  },
  "language_info": {
   "codemirror_mode": {
    "name": "ipython",
    "version": 3
   },
   "file_extension": ".py",
   "mimetype": "text/x-python",
   "name": "python",
   "nbconvert_exporter": "python",
   "pygments_lexer": "ipython3",
   "version": "3.8.8"
  }
 },
 "nbformat": 4,
 "nbformat_minor": 5
}
