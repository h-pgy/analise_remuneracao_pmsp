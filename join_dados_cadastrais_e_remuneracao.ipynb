{
 "cells": [
  {
   "cell_type": "code",
   "execution_count": 1,
   "id": "a204ad7d-a2cb-41d1-b9c4-0d95b8fcf585",
   "metadata": {},
   "outputs": [],
   "source": [
    "import pandas as pd\n",
    "import numpy as np"
   ]
  },
  {
   "cell_type": "code",
   "execution_count": 2,
   "id": "05a3a340-7a44-4de4-9db1-a48154c36815",
   "metadata": {},
   "outputs": [],
   "source": [
    "path_dados = 'original_data/aggregated/'"
   ]
  },
  {
   "cell_type": "code",
   "execution_count": 3,
   "id": "0287915c-bdb7-463b-9f08-9f4451420e2b",
   "metadata": {},
   "outputs": [],
   "source": [
    "remuneracao_jul = pd.read_csv(path_dados+'remuneracao_transparencia_jul_2021.csv',\n",
    "                             sep=';')"
   ]
  },
  {
   "cell_type": "code",
   "execution_count": 4,
   "id": "ecadb0a2-1654-4a7e-a2be-10aa0c97fdc0",
   "metadata": {},
   "outputs": [
    {
     "data": {
      "text/html": [
       "<div>\n",
       "<style scoped>\n",
       "    .dataframe tbody tr th:only-of-type {\n",
       "        vertical-align: middle;\n",
       "    }\n",
       "\n",
       "    .dataframe tbody tr th {\n",
       "        vertical-align: top;\n",
       "    }\n",
       "\n",
       "    .dataframe thead th {\n",
       "        text-align: right;\n",
       "    }\n",
       "</style>\n",
       "<table border=\"1\" class=\"dataframe\">\n",
       "  <thead>\n",
       "    <tr style=\"text-align: right;\">\n",
       "      <th></th>\n",
       "      <th>qtd_servidores_orgao</th>\n",
       "      <th>cd_registro_funcional</th>\n",
       "      <th>cd_tipo_vinculo</th>\n",
       "      <th>nm_servidor</th>\n",
       "      <th>tp_servidor</th>\n",
       "      <th>dc_secretaria</th>\n",
       "      <th>dc_cargo</th>\n",
       "      <th>dc_cargo_base</th>\n",
       "      <th>dc_cargo_comissionado</th>\n",
       "      <th>vl_remuneracao_mensal</th>\n",
       "      <th>vl_outro_elemento_remuneracao</th>\n",
       "      <th>vl_remuneracao_total_bruta</th>\n",
       "      <th>cd_caso_especial</th>\n",
       "      <th>dc_tipo_logradouro_servidor</th>\n",
       "      <th>nm_logradouro_servidor</th>\n",
       "      <th>nr_logradouro_servidor</th>\n",
       "      <th>tx_complemento_logradouro_servidor</th>\n",
       "      <th>qt_hora_jornada_semanal</th>\n",
       "    </tr>\n",
       "  </thead>\n",
       "  <tbody>\n",
       "    <tr>\n",
       "      <th>111514</th>\n",
       "      <td>236</td>\n",
       "      <td>8810303</td>\n",
       "      <td>1</td>\n",
       "      <td>GIULIANA ALCANTARA BRAGA</td>\n",
       "      <td>ATIVOS</td>\n",
       "      <td>SECRETARIA MUNICIPAL DE INFRAESTRUTURA URBANA ...</td>\n",
       "      <td>ENCARREGADO DE EQUIPE</td>\n",
       "      <td></td>\n",
       "      <td>ENCARREGADO DE EQUIPE</td>\n",
       "      <td>R$ 1.299,46</td>\n",
       "      <td>R$ 1.305,84</td>\n",
       "      <td>R$ 2.605,30</td>\n",
       "      <td>NaN</td>\n",
       "      <td>Avenida</td>\n",
       "      <td>SAO JOAO</td>\n",
       "      <td>473.0</td>\n",
       "      <td>22Âº ANDAR</td>\n",
       "      <td>40 H</td>\n",
       "    </tr>\n",
       "    <tr>\n",
       "      <th>28770</th>\n",
       "      <td>82094</td>\n",
       "      <td>7761473</td>\n",
       "      <td>1</td>\n",
       "      <td>ADILSON FERNANDES DE OLIVEIRA</td>\n",
       "      <td>ATIVOS</td>\n",
       "      <td>SECRETARIA MUNICIPAL DE EDUCACAO</td>\n",
       "      <td>AUXILIAR TECNICO DE EDUCACAO CAT 1</td>\n",
       "      <td>AUXILIAR TECNICO DE EDUCACAO CAT 1</td>\n",
       "      <td>NaN</td>\n",
       "      <td>R$ 2.229,30</td>\n",
       "      <td>R$ 795,87</td>\n",
       "      <td>R$ 3.025,17</td>\n",
       "      <td>NaN</td>\n",
       "      <td>Rua</td>\n",
       "      <td>SESSENTA E TRES</td>\n",
       "      <td>NaN</td>\n",
       "      <td>S/N</td>\n",
       "      <td>40 H</td>\n",
       "    </tr>\n",
       "    <tr>\n",
       "      <th>89743</th>\n",
       "      <td>82094</td>\n",
       "      <td>6400647</td>\n",
       "      <td>3</td>\n",
       "      <td>PAULO APARECIDO BERING</td>\n",
       "      <td>ATIVOS</td>\n",
       "      <td>SECRETARIA MUNICIPAL DE EDUCACAO</td>\n",
       "      <td>PROFESSOR ENSINO FUNDAMENTAL II E MEDIO CAT 3</td>\n",
       "      <td>PROFESSOR ENSINO FUNDAMENTAL II E MEDIO CAT 3</td>\n",
       "      <td>NaN</td>\n",
       "      <td>R$ 10.353,43</td>\n",
       "      <td>R$ 644,66</td>\n",
       "      <td>R$ 10.998,09</td>\n",
       "      <td>4.0</td>\n",
       "      <td>Rua</td>\n",
       "      <td>TAJAL</td>\n",
       "      <td>NaN</td>\n",
       "      <td>S/N</td>\n",
       "      <td>JEI FORMACAO</td>\n",
       "    </tr>\n",
       "  </tbody>\n",
       "</table>\n",
       "</div>"
      ],
      "text/plain": [
       "        qtd_servidores_orgao  cd_registro_funcional  cd_tipo_vinculo  \\\n",
       "111514                   236                8810303                1   \n",
       "28770                  82094                7761473                1   \n",
       "89743                  82094                6400647                3   \n",
       "\n",
       "                          nm_servidor tp_servidor  \\\n",
       "111514       GIULIANA ALCANTARA BRAGA      ATIVOS   \n",
       "28770   ADILSON FERNANDES DE OLIVEIRA      ATIVOS   \n",
       "89743          PAULO APARECIDO BERING      ATIVOS   \n",
       "\n",
       "                                            dc_secretaria  \\\n",
       "111514  SECRETARIA MUNICIPAL DE INFRAESTRUTURA URBANA ...   \n",
       "28770                    SECRETARIA MUNICIPAL DE EDUCACAO   \n",
       "89743                    SECRETARIA MUNICIPAL DE EDUCACAO   \n",
       "\n",
       "                                             dc_cargo  \\\n",
       "111514                          ENCARREGADO DE EQUIPE   \n",
       "28770              AUXILIAR TECNICO DE EDUCACAO CAT 1   \n",
       "89743   PROFESSOR ENSINO FUNDAMENTAL II E MEDIO CAT 3   \n",
       "\n",
       "                                        dc_cargo_base  dc_cargo_comissionado  \\\n",
       "111514                                                 ENCARREGADO DE EQUIPE   \n",
       "28770              AUXILIAR TECNICO DE EDUCACAO CAT 1                    NaN   \n",
       "89743   PROFESSOR ENSINO FUNDAMENTAL II E MEDIO CAT 3                    NaN   \n",
       "\n",
       "       vl_remuneracao_mensal vl_outro_elemento_remuneracao  \\\n",
       "111514           R$ 1.299,46                   R$ 1.305,84   \n",
       "28770            R$ 2.229,30                     R$ 795,87   \n",
       "89743           R$ 10.353,43                     R$ 644,66   \n",
       "\n",
       "       vl_remuneracao_total_bruta  cd_caso_especial  \\\n",
       "111514                R$ 2.605,30               NaN   \n",
       "28770                 R$ 3.025,17               NaN   \n",
       "89743                R$ 10.998,09               4.0   \n",
       "\n",
       "       dc_tipo_logradouro_servidor nm_logradouro_servidor  \\\n",
       "111514                     Avenida               SAO JOAO   \n",
       "28770                          Rua        SESSENTA E TRES   \n",
       "89743                          Rua                  TAJAL   \n",
       "\n",
       "        nr_logradouro_servidor tx_complemento_logradouro_servidor  \\\n",
       "111514                   473.0                         22Âº ANDAR   \n",
       "28770                      NaN                                S/N   \n",
       "89743                      NaN                                S/N   \n",
       "\n",
       "       qt_hora_jornada_semanal  \n",
       "111514                    40 H  \n",
       "28770                     40 H  \n",
       "89743             JEI FORMACAO  "
      ]
     },
     "execution_count": 4,
     "metadata": {},
     "output_type": "execute_result"
    }
   ],
   "source": [
    "remuneracao_jul.sample(3)"
   ]
  },
  {
   "cell_type": "code",
   "execution_count": 5,
   "id": "6c66d9b2-ce65-4975-9afe-447f59d475a9",
   "metadata": {},
   "outputs": [
    {
     "data": {
      "text/plain": [
       "qtd_servidores_orgao                    int64\n",
       "cd_registro_funcional                   int64\n",
       "cd_tipo_vinculo                         int64\n",
       "nm_servidor                            object\n",
       "tp_servidor                            object\n",
       "dc_secretaria                          object\n",
       "dc_cargo                               object\n",
       "dc_cargo_base                          object\n",
       "dc_cargo_comissionado                  object\n",
       "vl_remuneracao_mensal                  object\n",
       "vl_outro_elemento_remuneracao          object\n",
       "vl_remuneracao_total_bruta             object\n",
       "cd_caso_especial                      float64\n",
       "dc_tipo_logradouro_servidor            object\n",
       "nm_logradouro_servidor                 object\n",
       "nr_logradouro_servidor                float64\n",
       "tx_complemento_logradouro_servidor     object\n",
       "qt_hora_jornada_semanal                object\n",
       "dtype: object"
      ]
     },
     "execution_count": 5,
     "metadata": {},
     "output_type": "execute_result"
    }
   ],
   "source": [
    "remuneracao_jul.dtypes"
   ]
  },
  {
   "cell_type": "code",
   "execution_count": 6,
   "id": "d091d35a-a52b-4c4e-9efc-346621ea821b",
   "metadata": {},
   "outputs": [],
   "source": [
    "quadros_tecnicos = pd.read_csv('project_data/quadros_tecnicos_pmsp.csv', sep=';')"
   ]
  },
  {
   "cell_type": "code",
   "execution_count": 7,
   "id": "71d678de-5a52-4d2c-a87f-0884f99d1d23",
   "metadata": {},
   "outputs": [
    {
     "data": {
      "text/html": [
       "<div>\n",
       "<style scoped>\n",
       "    .dataframe tbody tr th:only-of-type {\n",
       "        vertical-align: middle;\n",
       "    }\n",
       "\n",
       "    .dataframe tbody tr th {\n",
       "        vertical-align: top;\n",
       "    }\n",
       "\n",
       "    .dataframe thead th {\n",
       "        text-align: right;\n",
       "    }\n",
       "</style>\n",
       "<table border=\"1\" class=\"dataframe\">\n",
       "  <thead>\n",
       "    <tr style=\"text-align: right;\">\n",
       "      <th></th>\n",
       "      <th>REGISTRO</th>\n",
       "      <th>VINCULO</th>\n",
       "      <th>NOME</th>\n",
       "      <th>CARGO_BASICO</th>\n",
       "      <th>REF_CARGO_BAS</th>\n",
       "      <th>SEGMENTO</th>\n",
       "      <th>GRUPO</th>\n",
       "      <th>SUBGRUPO</th>\n",
       "      <th>ESCOL_CARGO_BASICO</th>\n",
       "      <th>CARGO_COMISSAO</th>\n",
       "      <th>...</th>\n",
       "      <th>REL_JUR_ADM</th>\n",
       "      <th>SECRET_SUBPREF</th>\n",
       "      <th>SETOR</th>\n",
       "      <th>ORGAO_EXT</th>\n",
       "      <th>SEXO</th>\n",
       "      <th>ANO_NASCIMENTO</th>\n",
       "      <th>RACA</th>\n",
       "      <th>DEFICIENTE</th>\n",
       "      <th>nivel_limpo</th>\n",
       "      <th>cargo_limpo</th>\n",
       "    </tr>\n",
       "  </thead>\n",
       "  <tbody>\n",
       "    <tr>\n",
       "      <th>1042</th>\n",
       "      <td>7110103</td>\n",
       "      <td>1</td>\n",
       "      <td>HENRIQUE WILLIAM TURNER</td>\n",
       "      <td>ANALISTA DE INFORMACOES CULTURA E DESPORTO NIV...</td>\n",
       "      <td>Q10</td>\n",
       "      <td>BIBLIOTECONOMIA</td>\n",
       "      <td>QAA</td>\n",
       "      <td>SUPERIOR</td>\n",
       "      <td>SUPERIOR COMPLETO</td>\n",
       "      <td>NaN</td>\n",
       "      <td>...</td>\n",
       "      <td>EFETIVO</td>\n",
       "      <td>SECRETARIA MUNICIPAL DE CULTURA</td>\n",
       "      <td>BIBLIOTECA PUBLICA MUNICIPAL MONTEIRO LOBATO</td>\n",
       "      <td>NaN</td>\n",
       "      <td>M</td>\n",
       "      <td>1961</td>\n",
       "      <td>BRANCA</td>\n",
       "      <td>NAO</td>\n",
       "      <td>II</td>\n",
       "      <td>ANALISTA DE INFORMACOES CULTURA E DESPORTO</td>\n",
       "    </tr>\n",
       "    <tr>\n",
       "      <th>23</th>\n",
       "      <td>3064778</td>\n",
       "      <td>4</td>\n",
       "      <td>JOSUE MAGLIARELLI</td>\n",
       "      <td>ESP DESENVOLVIMENTO URBANO NÍVEL II</td>\n",
       "      <td>S8</td>\n",
       "      <td>ARQUITETURA</td>\n",
       "      <td>PCCS</td>\n",
       "      <td>SUPERIOR</td>\n",
       "      <td>SUPERIOR COMPLETO</td>\n",
       "      <td>CHEFE DE SECAO TECNICA</td>\n",
       "      <td>...</td>\n",
       "      <td>EFETIVO</td>\n",
       "      <td>PROCURADORIA GERAL DO MUNICIPIO</td>\n",
       "      <td>SEGUNDO AGRUPAMENTO DE INFORMACOES E REGISTROS</td>\n",
       "      <td>NaN</td>\n",
       "      <td>M</td>\n",
       "      <td>1949</td>\n",
       "      <td>NAO INFORMADO</td>\n",
       "      <td>NAO</td>\n",
       "      <td>II</td>\n",
       "      <td>ESP DESENVOLVIMENTO URBANO</td>\n",
       "    </tr>\n",
       "    <tr>\n",
       "      <th>1446</th>\n",
       "      <td>7559330</td>\n",
       "      <td>1</td>\n",
       "      <td>GILBERTO KOJI ISHII</td>\n",
       "      <td>AUDITOR FISCAL TRIBUTARIO MUNICIPAL NII</td>\n",
       "      <td>QPAT-6</td>\n",
       "      <td>NaN</td>\n",
       "      <td>QPAT</td>\n",
       "      <td>SUPERIOR</td>\n",
       "      <td>SUPERIOR COMPLETO</td>\n",
       "      <td>ASSESSOR TECNICO I</td>\n",
       "      <td>...</td>\n",
       "      <td>EFETIVO</td>\n",
       "      <td>SECRETARIA MUNICIPAL DA FAZENDA</td>\n",
       "      <td>SUBSECRETARIA DA RECEITA MUNICIPAL</td>\n",
       "      <td>NaN</td>\n",
       "      <td>M</td>\n",
       "      <td>1968</td>\n",
       "      <td>AMARELA</td>\n",
       "      <td>NAO</td>\n",
       "      <td>II</td>\n",
       "      <td>AUDITOR FISCAL TRIBUTARIO MUNICIPAL</td>\n",
       "    </tr>\n",
       "  </tbody>\n",
       "</table>\n",
       "<p>3 rows × 23 columns</p>\n",
       "</div>"
      ],
      "text/plain": [
       "      REGISTRO  VINCULO                     NOME  \\\n",
       "1042   7110103        1  HENRIQUE WILLIAM TURNER   \n",
       "23     3064778        4        JOSUE MAGLIARELLI   \n",
       "1446   7559330        1      GILBERTO KOJI ISHII   \n",
       "\n",
       "                                           CARGO_BASICO REF_CARGO_BAS  \\\n",
       "1042  ANALISTA DE INFORMACOES CULTURA E DESPORTO NIV...           Q10   \n",
       "23                  ESP DESENVOLVIMENTO URBANO NÍVEL II            S8   \n",
       "1446            AUDITOR FISCAL TRIBUTARIO MUNICIPAL NII        QPAT-6   \n",
       "\n",
       "             SEGMENTO GRUPO  SUBGRUPO ESCOL_CARGO_BASICO  \\\n",
       "1042  BIBLIOTECONOMIA   QAA  SUPERIOR  SUPERIOR COMPLETO   \n",
       "23        ARQUITETURA  PCCS  SUPERIOR  SUPERIOR COMPLETO   \n",
       "1446              NaN  QPAT  SUPERIOR  SUPERIOR COMPLETO   \n",
       "\n",
       "              CARGO_COMISSAO  ... REL_JUR_ADM  \\\n",
       "1042                     NaN  ...     EFETIVO   \n",
       "23    CHEFE DE SECAO TECNICA  ...     EFETIVO   \n",
       "1446      ASSESSOR TECNICO I  ...     EFETIVO   \n",
       "\n",
       "                       SECRET_SUBPREF  \\\n",
       "1042  SECRETARIA MUNICIPAL DE CULTURA   \n",
       "23    PROCURADORIA GERAL DO MUNICIPIO   \n",
       "1446  SECRETARIA MUNICIPAL DA FAZENDA   \n",
       "\n",
       "                                               SETOR ORGAO_EXT SEXO  \\\n",
       "1042    BIBLIOTECA PUBLICA MUNICIPAL MONTEIRO LOBATO       NaN    M   \n",
       "23    SEGUNDO AGRUPAMENTO DE INFORMACOES E REGISTROS       NaN    M   \n",
       "1446              SUBSECRETARIA DA RECEITA MUNICIPAL       NaN    M   \n",
       "\n",
       "     ANO_NASCIMENTO           RACA DEFICIENTE  nivel_limpo  \\\n",
       "1042           1961         BRANCA        NAO           II   \n",
       "23             1949  NAO INFORMADO        NAO           II   \n",
       "1446           1968        AMARELA        NAO           II   \n",
       "\n",
       "                                     cargo_limpo  \n",
       "1042  ANALISTA DE INFORMACOES CULTURA E DESPORTO  \n",
       "23                    ESP DESENVOLVIMENTO URBANO  \n",
       "1446         AUDITOR FISCAL TRIBUTARIO MUNICIPAL  \n",
       "\n",
       "[3 rows x 23 columns]"
      ]
     },
     "execution_count": 7,
     "metadata": {},
     "output_type": "execute_result"
    }
   ],
   "source": [
    "quadros_tecnicos.sample(3)"
   ]
  },
  {
   "cell_type": "code",
   "execution_count": 8,
   "id": "404c3c38-9461-4c6f-81e4-abe8ca1e650b",
   "metadata": {},
   "outputs": [
    {
     "data": {
      "text/plain": [
       "REGISTRO                 int64\n",
       "VINCULO                  int64\n",
       "NOME                    object\n",
       "CARGO_BASICO            object\n",
       "REF_CARGO_BAS           object\n",
       "SEGMENTO                object\n",
       "GRUPO                   object\n",
       "SUBGRUPO                object\n",
       "ESCOL_CARGO_BASICO      object\n",
       "CARGO_COMISSAO          object\n",
       "REF_CARGO_COM           object\n",
       "ESCOL_CARGO_COMISSAO    object\n",
       "DATA_INICIO_EXERC       object\n",
       "REL_JUR_ADM             object\n",
       "SECRET_SUBPREF          object\n",
       "SETOR                   object\n",
       "ORGAO_EXT               object\n",
       "SEXO                    object\n",
       "ANO_NASCIMENTO           int64\n",
       "RACA                    object\n",
       "DEFICIENTE              object\n",
       "nivel_limpo             object\n",
       "cargo_limpo             object\n",
       "dtype: object"
      ]
     },
     "execution_count": 8,
     "metadata": {},
     "output_type": "execute_result"
    }
   ],
   "source": [
    "quadros_tecnicos.dtypes"
   ]
  },
  {
   "cell_type": "code",
   "execution_count": 9,
   "id": "93d2e58f-df57-42df-b5b4-d00ab8a754c3",
   "metadata": {},
   "outputs": [],
   "source": [
    "quadros_tecnicos['REGISTRO'] = quadros_tecnicos['REGISTRO'].apply(lambda x: str(int(x)))\n",
    "remuneracao_jul['cd_registro_funcional'] = remuneracao_jul['cd_registro_funcional'].apply(lambda x: str(int(x)))"
   ]
  },
  {
   "cell_type": "code",
   "execution_count": 10,
   "id": "08fcc3cc-c3e0-41a0-8dfe-2c8903deffde",
   "metadata": {},
   "outputs": [
    {
     "data": {
      "text/plain": [
       "2"
      ]
     },
     "execution_count": 10,
     "metadata": {},
     "output_type": "execute_result"
    }
   ],
   "source": [
    "quadros_tecnicos['REGISTRO'].duplicated().sum()"
   ]
  },
  {
   "cell_type": "code",
   "execution_count": 11,
   "id": "9f9117c6-dca5-4089-9c77-b7293c5036ff",
   "metadata": {},
   "outputs": [
    {
     "data": {
      "text/html": [
       "<div>\n",
       "<style scoped>\n",
       "    .dataframe tbody tr th:only-of-type {\n",
       "        vertical-align: middle;\n",
       "    }\n",
       "\n",
       "    .dataframe tbody tr th {\n",
       "        vertical-align: top;\n",
       "    }\n",
       "\n",
       "    .dataframe thead th {\n",
       "        text-align: right;\n",
       "    }\n",
       "</style>\n",
       "<table border=\"1\" class=\"dataframe\">\n",
       "  <thead>\n",
       "    <tr style=\"text-align: right;\">\n",
       "      <th></th>\n",
       "      <th>REGISTRO</th>\n",
       "      <th>VINCULO</th>\n",
       "      <th>NOME</th>\n",
       "      <th>CARGO_BASICO</th>\n",
       "      <th>REF_CARGO_BAS</th>\n",
       "      <th>SEGMENTO</th>\n",
       "      <th>GRUPO</th>\n",
       "      <th>SUBGRUPO</th>\n",
       "      <th>ESCOL_CARGO_BASICO</th>\n",
       "      <th>CARGO_COMISSAO</th>\n",
       "      <th>...</th>\n",
       "      <th>REL_JUR_ADM</th>\n",
       "      <th>SECRET_SUBPREF</th>\n",
       "      <th>SETOR</th>\n",
       "      <th>ORGAO_EXT</th>\n",
       "      <th>SEXO</th>\n",
       "      <th>ANO_NASCIMENTO</th>\n",
       "      <th>RACA</th>\n",
       "      <th>DEFICIENTE</th>\n",
       "      <th>nivel_limpo</th>\n",
       "      <th>cargo_limpo</th>\n",
       "    </tr>\n",
       "  </thead>\n",
       "  <tbody>\n",
       "    <tr>\n",
       "      <th>2961</th>\n",
       "      <td>8235511</td>\n",
       "      <td>1</td>\n",
       "      <td>KELLY MARGARETH SANTOS DA CUNHA</td>\n",
       "      <td>ANALISTA ASSISTENCIA DESENVOLVIMENTO SOCIAL NI...</td>\n",
       "      <td>Q3</td>\n",
       "      <td>SERVICO SOCIAL</td>\n",
       "      <td>QAA</td>\n",
       "      <td>SUPERIOR</td>\n",
       "      <td>SUPERIOR COMPLETO</td>\n",
       "      <td>NaN</td>\n",
       "      <td>...</td>\n",
       "      <td>EFETIVO</td>\n",
       "      <td>SECRETARIA MUNICIPAL DE ASSIST E DESENV SOCIAL</td>\n",
       "      <td>CENTRO POP MOOCA</td>\n",
       "      <td>NaN</td>\n",
       "      <td>F</td>\n",
       "      <td>1982</td>\n",
       "      <td>PARDA</td>\n",
       "      <td>NAO</td>\n",
       "      <td>I</td>\n",
       "      <td>ANALISTA ASSISTENCIA DESENVOLVIMENTO SOCIAL</td>\n",
       "    </tr>\n",
       "    <tr>\n",
       "      <th>2962</th>\n",
       "      <td>8235511</td>\n",
       "      <td>3</td>\n",
       "      <td>KELLY MARGARETH SANTOS DA CUNHA</td>\n",
       "      <td>ANALISTA ASSISTENCIA DESENVOLVIMENTO SOCIAL NI...</td>\n",
       "      <td>Q4</td>\n",
       "      <td>SERVICO SOCIAL</td>\n",
       "      <td>QAA</td>\n",
       "      <td>SUPERIOR</td>\n",
       "      <td>SUPERIOR COMPLETO</td>\n",
       "      <td>NaN</td>\n",
       "      <td>...</td>\n",
       "      <td>EFETIVO</td>\n",
       "      <td>SECRETARIA MUNICIPAL DA SAUDE</td>\n",
       "      <td>HM DR. ALEXANDRE ZAIO</td>\n",
       "      <td>NaN</td>\n",
       "      <td>F</td>\n",
       "      <td>1982</td>\n",
       "      <td>PARDA</td>\n",
       "      <td>NAO</td>\n",
       "      <td>I</td>\n",
       "      <td>ANALISTA ASSISTENCIA DESENVOLVIMENTO SOCIAL</td>\n",
       "    </tr>\n",
       "    <tr>\n",
       "      <th>3105</th>\n",
       "      <td>8303959</td>\n",
       "      <td>2</td>\n",
       "      <td>DENISE HARFUCH NAVARRO DIOGO TAVARES</td>\n",
       "      <td>ANALISTA ASSISTENCIA DESENVOLVIMENTO SOCIAL NI...</td>\n",
       "      <td>Q1</td>\n",
       "      <td>SERVICO SOCIAL</td>\n",
       "      <td>QAA</td>\n",
       "      <td>SUPERIOR</td>\n",
       "      <td>SUPERIOR COMPLETO</td>\n",
       "      <td>NaN</td>\n",
       "      <td>...</td>\n",
       "      <td>EFETIVO</td>\n",
       "      <td>SECRETARIA MUNICIPAL DE ASSIST E DESENV SOCIAL</td>\n",
       "      <td>CRAS JARDIM ANGELA</td>\n",
       "      <td>NaN</td>\n",
       "      <td>F</td>\n",
       "      <td>1962</td>\n",
       "      <td>BRANCA</td>\n",
       "      <td>NAO</td>\n",
       "      <td>I</td>\n",
       "      <td>ANALISTA ASSISTENCIA DESENVOLVIMENTO SOCIAL</td>\n",
       "    </tr>\n",
       "    <tr>\n",
       "      <th>3106</th>\n",
       "      <td>8303959</td>\n",
       "      <td>3</td>\n",
       "      <td>DENISE HARFUCH NAVARRO DIOGO TAVARES</td>\n",
       "      <td>ANALISTA ASSISTENCIA DESENVOLVIMENTO SOCIAL NI...</td>\n",
       "      <td>Q4</td>\n",
       "      <td>SERVICO SOCIAL</td>\n",
       "      <td>QAA</td>\n",
       "      <td>SUPERIOR</td>\n",
       "      <td>SUPERIOR COMPLETO</td>\n",
       "      <td>NaN</td>\n",
       "      <td>...</td>\n",
       "      <td>EFETIVO</td>\n",
       "      <td>SECRETARIA MUNICIPAL DA SAUDE</td>\n",
       "      <td>HM DR. ARTHUR RIBEIRO DE SABOYA</td>\n",
       "      <td>NaN</td>\n",
       "      <td>F</td>\n",
       "      <td>1962</td>\n",
       "      <td>BRANCA</td>\n",
       "      <td>NAO</td>\n",
       "      <td>I</td>\n",
       "      <td>ANALISTA ASSISTENCIA DESENVOLVIMENTO SOCIAL</td>\n",
       "    </tr>\n",
       "  </tbody>\n",
       "</table>\n",
       "<p>4 rows × 23 columns</p>\n",
       "</div>"
      ],
      "text/plain": [
       "     REGISTRO  VINCULO                                  NOME  \\\n",
       "2961  8235511        1       KELLY MARGARETH SANTOS DA CUNHA   \n",
       "2962  8235511        3       KELLY MARGARETH SANTOS DA CUNHA   \n",
       "3105  8303959        2  DENISE HARFUCH NAVARRO DIOGO TAVARES   \n",
       "3106  8303959        3  DENISE HARFUCH NAVARRO DIOGO TAVARES   \n",
       "\n",
       "                                           CARGO_BASICO REF_CARGO_BAS  \\\n",
       "2961  ANALISTA ASSISTENCIA DESENVOLVIMENTO SOCIAL NI...            Q3   \n",
       "2962  ANALISTA ASSISTENCIA DESENVOLVIMENTO SOCIAL NI...            Q4   \n",
       "3105  ANALISTA ASSISTENCIA DESENVOLVIMENTO SOCIAL NI...            Q1   \n",
       "3106  ANALISTA ASSISTENCIA DESENVOLVIMENTO SOCIAL NI...            Q4   \n",
       "\n",
       "            SEGMENTO GRUPO  SUBGRUPO ESCOL_CARGO_BASICO CARGO_COMISSAO  ...  \\\n",
       "2961  SERVICO SOCIAL   QAA  SUPERIOR  SUPERIOR COMPLETO            NaN  ...   \n",
       "2962  SERVICO SOCIAL   QAA  SUPERIOR  SUPERIOR COMPLETO            NaN  ...   \n",
       "3105  SERVICO SOCIAL   QAA  SUPERIOR  SUPERIOR COMPLETO            NaN  ...   \n",
       "3106  SERVICO SOCIAL   QAA  SUPERIOR  SUPERIOR COMPLETO            NaN  ...   \n",
       "\n",
       "     REL_JUR_ADM                                  SECRET_SUBPREF  \\\n",
       "2961     EFETIVO  SECRETARIA MUNICIPAL DE ASSIST E DESENV SOCIAL   \n",
       "2962     EFETIVO                   SECRETARIA MUNICIPAL DA SAUDE   \n",
       "3105     EFETIVO  SECRETARIA MUNICIPAL DE ASSIST E DESENV SOCIAL   \n",
       "3106     EFETIVO                   SECRETARIA MUNICIPAL DA SAUDE   \n",
       "\n",
       "                                SETOR ORGAO_EXT SEXO ANO_NASCIMENTO    RACA  \\\n",
       "2961                 CENTRO POP MOOCA       NaN    F           1982   PARDA   \n",
       "2962            HM DR. ALEXANDRE ZAIO       NaN    F           1982   PARDA   \n",
       "3105               CRAS JARDIM ANGELA       NaN    F           1962  BRANCA   \n",
       "3106  HM DR. ARTHUR RIBEIRO DE SABOYA       NaN    F           1962  BRANCA   \n",
       "\n",
       "     DEFICIENTE  nivel_limpo                                  cargo_limpo  \n",
       "2961        NAO            I  ANALISTA ASSISTENCIA DESENVOLVIMENTO SOCIAL  \n",
       "2962        NAO            I  ANALISTA ASSISTENCIA DESENVOLVIMENTO SOCIAL  \n",
       "3105        NAO            I  ANALISTA ASSISTENCIA DESENVOLVIMENTO SOCIAL  \n",
       "3106        NAO            I  ANALISTA ASSISTENCIA DESENVOLVIMENTO SOCIAL  \n",
       "\n",
       "[4 rows x 23 columns]"
      ]
     },
     "execution_count": 11,
     "metadata": {},
     "output_type": "execute_result"
    }
   ],
   "source": [
    "quadros_tecnicos[quadros_tecnicos['REGISTRO'].duplicated(keep=False)]"
   ]
  },
  {
   "cell_type": "code",
   "execution_count": 12,
   "id": "745c1374-9f44-49fb-9c42-0588ac3bb779",
   "metadata": {},
   "outputs": [],
   "source": [
    "dropar_primeiros_vinculos =  quadros_tecnicos['REGISTRO'].duplicated(keep='last')\n",
    "quadros_tecnicos = quadros_tecnicos[~dropar_primeiros_vinculos].reset_index(drop=True).copy()"
   ]
  },
  {
   "cell_type": "code",
   "execution_count": 13,
   "id": "faecdd7c-42b5-4a95-93a4-a2a50e163e2c",
   "metadata": {},
   "outputs": [],
   "source": [
    "df_joined = pd.merge(quadros_tecnicos, remuneracao_jul, how='left', \n",
    "         left_on='REGISTRO', right_on='cd_registro_funcional')"
   ]
  },
  {
   "cell_type": "code",
   "execution_count": 14,
   "id": "060ddf66-9dfd-417f-9829-3d9546fc2e86",
   "metadata": {},
   "outputs": [],
   "source": [
    "ficaram_de_fora = set(rf for rf in quadros_tecnicos['REGISTRO'].unique() if rf not in df_joined['REGISTRO'].unique())"
   ]
  },
  {
   "cell_type": "code",
   "execution_count": 15,
   "id": "44cbccb1-1ce1-4c63-ba95-13631c1befae",
   "metadata": {},
   "outputs": [],
   "source": [
    "assert len(ficaram_de_fora) == 0"
   ]
  },
  {
   "cell_type": "code",
   "execution_count": 16,
   "id": "f02073f8-de0a-46b3-b937-6098331babdd",
   "metadata": {},
   "outputs": [
    {
     "data": {
      "text/plain": [
       "False"
      ]
     },
     "execution_count": 16,
     "metadata": {},
     "output_type": "execute_result"
    }
   ],
   "source": [
    "len(df_joined)==len(quadros_tecnicos)"
   ]
  },
  {
   "cell_type": "code",
   "execution_count": 17,
   "id": "933490b6-0e1f-43cf-b1f8-43569433f622",
   "metadata": {},
   "outputs": [
    {
     "data": {
      "text/plain": [
       "98"
      ]
     },
     "execution_count": 17,
     "metadata": {},
     "output_type": "execute_result"
    }
   ],
   "source": [
    "df_joined['cd_registro_funcional'].isnull().sum()"
   ]
  },
  {
   "cell_type": "code",
   "execution_count": 18,
   "id": "6bd40937-2f10-46cf-bf47-907525054aaf",
   "metadata": {},
   "outputs": [],
   "source": [
    "r = df_joined[df_joined['cd_registro_funcional'].isnull()]['REGISTRO'].unique()"
   ]
  },
  {
   "cell_type": "code",
   "execution_count": 19,
   "id": "53fd1ca9-a9f0-436b-9140-54e7fca84b54",
   "metadata": {},
   "outputs": [
    {
     "data": {
      "text/plain": [
       "0"
      ]
     },
     "execution_count": 19,
     "metadata": {},
     "output_type": "execute_result"
    }
   ],
   "source": [
    "remuneracao_jul['cd_registro_funcional'].isin(r).sum()"
   ]
  },
  {
   "cell_type": "code",
   "execution_count": 20,
   "id": "9baa86d8-69a6-4e65-8905-127e206620e2",
   "metadata": {},
   "outputs": [],
   "source": [
    "sem_remuneracao_jul = df_joined[df_joined['cd_registro_funcional'].isnull()].index"
   ]
  },
  {
   "cell_type": "code",
   "execution_count": 21,
   "id": "7430e1e3-70af-484b-b55c-39847cf80952",
   "metadata": {},
   "outputs": [
    {
     "data": {
      "text/plain": [
       "0.02759009009009009"
      ]
     },
     "execution_count": 21,
     "metadata": {},
     "output_type": "execute_result"
    }
   ],
   "source": [
    "len(sem_remuneracao_jul)/len(quadros_tecnicos)"
   ]
  },
  {
   "cell_type": "markdown",
   "id": "2fa58f48-afd5-4763-b5d8-39fe40571ace",
   "metadata": {},
   "source": [
    "Menos de 3% dos registros não receberam em julho. Isso é possível devido a Licenças para Tratar de Interesses Particulares, ou outras formas de afastamento sem remuneração. Vamos removê-los."
   ]
  },
  {
   "cell_type": "code",
   "execution_count": 22,
   "id": "c56f9ee0-a304-4b2a-9361-336471c5401d",
   "metadata": {},
   "outputs": [],
   "source": [
    "df_joined.drop(sem_remuneracao_jul, inplace=True)"
   ]
  },
  {
   "cell_type": "code",
   "execution_count": 23,
   "id": "5e4a388d-4844-4b20-9c7f-76047a34a9d9",
   "metadata": {},
   "outputs": [],
   "source": [
    "mais_de_um_lancamento = df_joined[df_joined['REGISTRO'].duplicated(keep=False)].sort_values(by='REGISTRO')"
   ]
  },
  {
   "cell_type": "code",
   "execution_count": 24,
   "id": "feac32e8-05c8-429c-a347-7e175aee812d",
   "metadata": {},
   "outputs": [
    {
     "data": {
      "text/html": [
       "<div>\n",
       "<style scoped>\n",
       "    .dataframe tbody tr th:only-of-type {\n",
       "        vertical-align: middle;\n",
       "    }\n",
       "\n",
       "    .dataframe tbody tr th {\n",
       "        vertical-align: top;\n",
       "    }\n",
       "\n",
       "    .dataframe thead th {\n",
       "        text-align: right;\n",
       "    }\n",
       "</style>\n",
       "<table border=\"1\" class=\"dataframe\">\n",
       "  <thead>\n",
       "    <tr style=\"text-align: right;\">\n",
       "      <th></th>\n",
       "      <th>REGISTRO</th>\n",
       "      <th>VINCULO</th>\n",
       "      <th>NOME</th>\n",
       "      <th>CARGO_BASICO</th>\n",
       "      <th>REF_CARGO_BAS</th>\n",
       "      <th>SEGMENTO</th>\n",
       "      <th>GRUPO</th>\n",
       "      <th>SUBGRUPO</th>\n",
       "      <th>ESCOL_CARGO_BASICO</th>\n",
       "      <th>CARGO_COMISSAO</th>\n",
       "      <th>...</th>\n",
       "      <th>dc_cargo_comissionado</th>\n",
       "      <th>vl_remuneracao_mensal</th>\n",
       "      <th>vl_outro_elemento_remuneracao</th>\n",
       "      <th>vl_remuneracao_total_bruta</th>\n",
       "      <th>cd_caso_especial</th>\n",
       "      <th>dc_tipo_logradouro_servidor</th>\n",
       "      <th>nm_logradouro_servidor</th>\n",
       "      <th>nr_logradouro_servidor</th>\n",
       "      <th>tx_complemento_logradouro_servidor</th>\n",
       "      <th>qt_hora_jornada_semanal</th>\n",
       "    </tr>\n",
       "  </thead>\n",
       "  <tbody>\n",
       "    <tr>\n",
       "      <th>17</th>\n",
       "      <td>3033201</td>\n",
       "      <td>4</td>\n",
       "      <td>TOKIKO AKAMINE</td>\n",
       "      <td>ANALISTA DE ORDENAMENTO TERRITORIAL NIVEL IV</td>\n",
       "      <td>Q17</td>\n",
       "      <td>SOCIOLOGIA</td>\n",
       "      <td>QAA</td>\n",
       "      <td>SUPERIOR</td>\n",
       "      <td>SUPERIOR COMPLETO</td>\n",
       "      <td>NaN</td>\n",
       "      <td>...</td>\n",
       "      <td>NaN</td>\n",
       "      <td>R$ 16.609,81</td>\n",
       "      <td>R$ 2.325,37</td>\n",
       "      <td>R$ 18.935,18</td>\n",
       "      <td>NaN</td>\n",
       "      <td>Rua</td>\n",
       "      <td>ZILDA</td>\n",
       "      <td>193.0</td>\n",
       "      <td>NaN</td>\n",
       "      <td>JB DOCENTE</td>\n",
       "    </tr>\n",
       "    <tr>\n",
       "      <th>18</th>\n",
       "      <td>3033201</td>\n",
       "      <td>4</td>\n",
       "      <td>TOKIKO AKAMINE</td>\n",
       "      <td>ANALISTA DE ORDENAMENTO TERRITORIAL NIVEL IV</td>\n",
       "      <td>Q17</td>\n",
       "      <td>SOCIOLOGIA</td>\n",
       "      <td>QAA</td>\n",
       "      <td>SUPERIOR</td>\n",
       "      <td>SUPERIOR COMPLETO</td>\n",
       "      <td>NaN</td>\n",
       "      <td>...</td>\n",
       "      <td>NaN</td>\n",
       "      <td>R$ 16.043,35</td>\n",
       "      <td>R$ 5.929,03</td>\n",
       "      <td>R$ 21.972,38</td>\n",
       "      <td>NaN</td>\n",
       "      <td>Rua</td>\n",
       "      <td>DO PARAISO</td>\n",
       "      <td>387.0</td>\n",
       "      <td>NaN</td>\n",
       "      <td>40 H</td>\n",
       "    </tr>\n",
       "    <tr>\n",
       "      <th>441</th>\n",
       "      <td>6013651</td>\n",
       "      <td>2</td>\n",
       "      <td>MARCIA BATISTA NOGUEIRA SHIMODA</td>\n",
       "      <td>ANALISTA PLANEJAMENTO DESENV ORGANIZACIONAL NI...</td>\n",
       "      <td>Q10</td>\n",
       "      <td>CIENCIAS CONTABEIS</td>\n",
       "      <td>QAA</td>\n",
       "      <td>SUPERIOR</td>\n",
       "      <td>SUPERIOR COMPLETO</td>\n",
       "      <td>ASSESSOR II</td>\n",
       "      <td>...</td>\n",
       "      <td>ASSESSOR II</td>\n",
       "      <td>R$ 9.283,14</td>\n",
       "      <td>R$ 1.711,86</td>\n",
       "      <td>R$ 10.995,00</td>\n",
       "      <td>NaN</td>\n",
       "      <td>Rua</td>\n",
       "      <td>AUGUSTA</td>\n",
       "      <td>435.0</td>\n",
       "      <td>7Âº ANDAR</td>\n",
       "      <td>40 H</td>\n",
       "    </tr>\n",
       "    <tr>\n",
       "      <th>442</th>\n",
       "      <td>6013651</td>\n",
       "      <td>2</td>\n",
       "      <td>MARCIA BATISTA NOGUEIRA SHIMODA</td>\n",
       "      <td>ANALISTA PLANEJAMENTO DESENV ORGANIZACIONAL NI...</td>\n",
       "      <td>Q10</td>\n",
       "      <td>CIENCIAS CONTABEIS</td>\n",
       "      <td>QAA</td>\n",
       "      <td>SUPERIOR</td>\n",
       "      <td>SUPERIOR COMPLETO</td>\n",
       "      <td>ASSESSOR II</td>\n",
       "      <td>...</td>\n",
       "      <td>ASSESSOR II</td>\n",
       "      <td>R$ 9.283,14</td>\n",
       "      <td>R$ 1.711,86</td>\n",
       "      <td>R$ 10.995,00</td>\n",
       "      <td>NaN</td>\n",
       "      <td>Rua</td>\n",
       "      <td>AUGUSTA</td>\n",
       "      <td>435.0</td>\n",
       "      <td>7Âº ANDAR</td>\n",
       "      <td>40 H</td>\n",
       "    </tr>\n",
       "    <tr>\n",
       "      <th>706</th>\n",
       "      <td>6375677</td>\n",
       "      <td>3</td>\n",
       "      <td>ELAINE DE ALMEIDA SOUSA</td>\n",
       "      <td>ANALISTA ASSISTENCIA DESENVOLVIMENTO SOCIAL NI...</td>\n",
       "      <td>Q1</td>\n",
       "      <td>SERVICO SOCIAL</td>\n",
       "      <td>QAA</td>\n",
       "      <td>SUPERIOR</td>\n",
       "      <td>SUPERIOR COMPLETO</td>\n",
       "      <td>NaN</td>\n",
       "      <td>...</td>\n",
       "      <td>NaN</td>\n",
       "      <td>R$ 3.729,56</td>\n",
       "      <td>R$ 815,50</td>\n",
       "      <td>R$ 4.545,06</td>\n",
       "      <td>NaN</td>\n",
       "      <td>Rua</td>\n",
       "      <td>AMERICO SALVADOR NOVELLI</td>\n",
       "      <td>154.0</td>\n",
       "      <td>1Âº ANDAR</td>\n",
       "      <td>30 H</td>\n",
       "    </tr>\n",
       "    <tr>\n",
       "      <th>707</th>\n",
       "      <td>6375677</td>\n",
       "      <td>3</td>\n",
       "      <td>ELAINE DE ALMEIDA SOUSA</td>\n",
       "      <td>ANALISTA ASSISTENCIA DESENVOLVIMENTO SOCIAL NI...</td>\n",
       "      <td>Q1</td>\n",
       "      <td>SERVICO SOCIAL</td>\n",
       "      <td>QAA</td>\n",
       "      <td>SUPERIOR</td>\n",
       "      <td>SUPERIOR COMPLETO</td>\n",
       "      <td>NaN</td>\n",
       "      <td>...</td>\n",
       "      <td>NaN</td>\n",
       "      <td>R$ 6.108,77</td>\n",
       "      <td>R$ 1.018,13</td>\n",
       "      <td>R$ 7.126,90</td>\n",
       "      <td>NaN</td>\n",
       "      <td>Rua</td>\n",
       "      <td>SIRIA</td>\n",
       "      <td>300.0</td>\n",
       "      <td>NaN</td>\n",
       "      <td>30 H ESP ASST SOC</td>\n",
       "    </tr>\n",
       "  </tbody>\n",
       "</table>\n",
       "<p>6 rows × 41 columns</p>\n",
       "</div>"
      ],
      "text/plain": [
       "    REGISTRO  VINCULO                             NOME  \\\n",
       "17   3033201        4                   TOKIKO AKAMINE   \n",
       "18   3033201        4                   TOKIKO AKAMINE   \n",
       "441  6013651        2  MARCIA BATISTA NOGUEIRA SHIMODA   \n",
       "442  6013651        2  MARCIA BATISTA NOGUEIRA SHIMODA   \n",
       "706  6375677        3          ELAINE DE ALMEIDA SOUSA   \n",
       "707  6375677        3          ELAINE DE ALMEIDA SOUSA   \n",
       "\n",
       "                                          CARGO_BASICO REF_CARGO_BAS  \\\n",
       "17        ANALISTA DE ORDENAMENTO TERRITORIAL NIVEL IV           Q17   \n",
       "18        ANALISTA DE ORDENAMENTO TERRITORIAL NIVEL IV           Q17   \n",
       "441  ANALISTA PLANEJAMENTO DESENV ORGANIZACIONAL NI...           Q10   \n",
       "442  ANALISTA PLANEJAMENTO DESENV ORGANIZACIONAL NI...           Q10   \n",
       "706  ANALISTA ASSISTENCIA DESENVOLVIMENTO SOCIAL NI...            Q1   \n",
       "707  ANALISTA ASSISTENCIA DESENVOLVIMENTO SOCIAL NI...            Q1   \n",
       "\n",
       "               SEGMENTO GRUPO  SUBGRUPO ESCOL_CARGO_BASICO CARGO_COMISSAO  \\\n",
       "17           SOCIOLOGIA   QAA  SUPERIOR  SUPERIOR COMPLETO            NaN   \n",
       "18           SOCIOLOGIA   QAA  SUPERIOR  SUPERIOR COMPLETO            NaN   \n",
       "441  CIENCIAS CONTABEIS   QAA  SUPERIOR  SUPERIOR COMPLETO    ASSESSOR II   \n",
       "442  CIENCIAS CONTABEIS   QAA  SUPERIOR  SUPERIOR COMPLETO    ASSESSOR II   \n",
       "706      SERVICO SOCIAL   QAA  SUPERIOR  SUPERIOR COMPLETO            NaN   \n",
       "707      SERVICO SOCIAL   QAA  SUPERIOR  SUPERIOR COMPLETO            NaN   \n",
       "\n",
       "     ... dc_cargo_comissionado vl_remuneracao_mensal  \\\n",
       "17   ...                   NaN          R$ 16.609,81   \n",
       "18   ...                   NaN          R$ 16.043,35   \n",
       "441  ...           ASSESSOR II           R$ 9.283,14   \n",
       "442  ...           ASSESSOR II           R$ 9.283,14   \n",
       "706  ...                   NaN           R$ 3.729,56   \n",
       "707  ...                   NaN           R$ 6.108,77   \n",
       "\n",
       "    vl_outro_elemento_remuneracao vl_remuneracao_total_bruta cd_caso_especial  \\\n",
       "17                    R$ 2.325,37               R$ 18.935,18              NaN   \n",
       "18                    R$ 5.929,03               R$ 21.972,38              NaN   \n",
       "441                   R$ 1.711,86               R$ 10.995,00              NaN   \n",
       "442                   R$ 1.711,86               R$ 10.995,00              NaN   \n",
       "706                     R$ 815,50                R$ 4.545,06              NaN   \n",
       "707                   R$ 1.018,13                R$ 7.126,90              NaN   \n",
       "\n",
       "    dc_tipo_logradouro_servidor    nm_logradouro_servidor  \\\n",
       "17                          Rua                     ZILDA   \n",
       "18                          Rua                DO PARAISO   \n",
       "441                         Rua                   AUGUSTA   \n",
       "442                         Rua                   AUGUSTA   \n",
       "706                         Rua  AMERICO SALVADOR NOVELLI   \n",
       "707                         Rua                     SIRIA   \n",
       "\n",
       "    nr_logradouro_servidor  tx_complemento_logradouro_servidor  \\\n",
       "17                   193.0                                 NaN   \n",
       "18                   387.0                                 NaN   \n",
       "441                  435.0                           7Âº ANDAR   \n",
       "442                  435.0                           7Âº ANDAR   \n",
       "706                  154.0                           1Âº ANDAR   \n",
       "707                  300.0                                 NaN   \n",
       "\n",
       "    qt_hora_jornada_semanal  \n",
       "17               JB DOCENTE  \n",
       "18                     40 H  \n",
       "441                    40 H  \n",
       "442                    40 H  \n",
       "706                    30 H  \n",
       "707       30 H ESP ASST SOC  \n",
       "\n",
       "[6 rows x 41 columns]"
      ]
     },
     "execution_count": 24,
     "metadata": {},
     "output_type": "execute_result"
    }
   ],
   "source": [
    "mais_de_um_lancamento.head(6)"
   ]
  },
  {
   "cell_type": "code",
   "execution_count": 25,
   "id": "22757616-65ff-44b5-b216-6a497322ca12",
   "metadata": {},
   "outputs": [
    {
     "data": {
      "text/plain": [
       "0.028253424657534245"
      ]
     },
     "execution_count": 25,
     "metadata": {},
     "output_type": "execute_result"
    }
   ],
   "source": [
    "len(mais_de_um_lancamento)/len(df_joined)"
   ]
  },
  {
   "cell_type": "markdown",
   "id": "9f19200e-37c7-4a4b-8bc2-46647075c8ab",
   "metadata": {},
   "source": [
    "Menos de 3% possuem mais de um lançamento. Nestes casos, tudo indica que a pessoa possui mais de um vínculo na Prefeitura. Por exemplo, ao pesquisar manualmente alguns nomes no portal da transparência, vimos casos em que a mesma pessoa é um quadro técnico e também atua como professor, o que é permitido.\n",
    "\n",
    "Vamos remover os que vínculos relacionados aos cargos de professor."
   ]
  },
  {
   "cell_type": "code",
   "execution_count": 26,
   "id": "6dcc4945-137f-4b23-b981-86fb221c091c",
   "metadata": {},
   "outputs": [
    {
     "data": {
      "text/plain": [
       "array(['PROFESSOR ENSINO FUNDAMENTAL II E MEDIO CAT 3',\n",
       "       'ANALISTA DE ORDENAMENTO TERRITORIAL NIVEL IV',\n",
       "       'ANALISTA PLANEJAMENTO DESENV ORGANIZACIONAL NIVEL II',\n",
       "       'ASSISTENTE DE SAUDE  NIVEL II',\n",
       "       'ANALISTA ASSISTENCIA DESENVOLVIMENTO SOCIAL NIVEL I',\n",
       "       'ESP INFORM TECN CULTURAIS E DESPORTIVAS NÃ\\x8dVEL II',\n",
       "       'ANALISTA DE INFORMACOES CULTURA E DESPORTO NIVEL II',\n",
       "       'PROFESSOR ED INFANTIL E ENS FUNDAMENTAL CAT 3',\n",
       "       'ANALISTA DE INFORMACOES CULTURA E DESPORTO NIVEL I',\n",
       "       'PROFISSIONAL ENG, ARQ, AGRONOMIA,GEOLOGIA NIVEL I'], dtype=object)"
      ]
     },
     "execution_count": 26,
     "metadata": {},
     "output_type": "execute_result"
    }
   ],
   "source": [
    "mais_de_um_lancamento['dc_cargo_base'].unique()"
   ]
  },
  {
   "cell_type": "code",
   "execution_count": 27,
   "id": "cb2a1d02-bf5b-4b5e-8476-0b8cfac40d30",
   "metadata": {},
   "outputs": [],
   "source": [
    "cargos_professor = [\n",
    "    'PROFESSOR ENSINO FUNDAMENTAL II E MEDIO CAT 3',\n",
    "    'PROFESSOR ED INFANTIL E ENS FUNDAMENTAL CAT 3'\n",
    "]"
   ]
  },
  {
   "cell_type": "code",
   "execution_count": 28,
   "id": "6447a9cf-21dc-4e7c-8083-f70a348dadd3",
   "metadata": {},
   "outputs": [],
   "source": [
    "index_professores = mais_de_um_lancamento['dc_cargo_base'].isin(cargos_professor).index"
   ]
  },
  {
   "cell_type": "code",
   "execution_count": 29,
   "id": "56066339-b910-4ef7-8f28-bd10cf1afd79",
   "metadata": {},
   "outputs": [],
   "source": [
    "df_joined.drop(index_professores, inplace=True)"
   ]
  },
  {
   "cell_type": "code",
   "execution_count": 30,
   "id": "cfd51075-6519-44ac-80e5-2c4615714205",
   "metadata": {},
   "outputs": [
    {
     "data": {
      "text/plain": [
       "0"
      ]
     },
     "execution_count": 30,
     "metadata": {},
     "output_type": "execute_result"
    }
   ],
   "source": [
    "df_joined['REGISTRO'].duplicated(keep=False).sum()"
   ]
  },
  {
   "cell_type": "markdown",
   "id": "642c3fdb-4250-49e9-8d9f-e32385bd0cc1",
   "metadata": {},
   "source": [
    "Pronto, removemos as duplicadas!"
   ]
  },
  {
   "cell_type": "code",
   "execution_count": 31,
   "id": "ec24d7e7-dc1d-44b2-ac5c-f88f5f6a9274",
   "metadata": {},
   "outputs": [],
   "source": [
    "df_joined.to_csv('project_data/remuneracao_quadros_tecnicos_raw.csv', sep=';', encoding='utf-8')"
   ]
  }
 ],
 "metadata": {
  "kernelspec": {
   "display_name": "Python 3",
   "language": "python",
   "name": "python3"
  },
  "language_info": {
   "codemirror_mode": {
    "name": "ipython",
    "version": 3
   },
   "file_extension": ".py",
   "mimetype": "text/x-python",
   "name": "python",
   "nbconvert_exporter": "python",
   "pygments_lexer": "ipython3",
   "version": "3.8.8"
  }
 },
 "nbformat": 4,
 "nbformat_minor": 5
}
