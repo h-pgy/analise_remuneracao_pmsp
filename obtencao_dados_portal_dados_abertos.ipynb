{
 "cells": [
  {
   "cell_type": "code",
   "execution_count": 1,
   "id": "5ee16b48-8fbd-4a97-b117-5d2d26c4a026",
   "metadata": {},
   "outputs": [],
   "source": [
    "import requests\n",
    "from bs4 import BeautifulSoup\n",
    "import os\n",
    "import pandas as pd"
   ]
  },
  {
   "cell_type": "code",
   "execution_count": 2,
   "id": "ed1f94e9-df15-4e13-addd-ddaca0987264",
   "metadata": {},
   "outputs": [],
   "source": [
    "PATH_DADOS = 'original_data/dados_portal_dados_abertos/'"
   ]
  },
  {
   "cell_type": "code",
   "execution_count": 3,
   "id": "1cb6ce84-4605-451b-91fe-ef8562063056",
   "metadata": {},
   "outputs": [],
   "source": [
    "def gerar_sopa():\n",
    "    \n",
    "    #teoricamente se trocar essa url funciona para outros conjuntos de dados\n",
    "    url_conjunto = ('http://dados.prefeitura.sp.gov.br/dataset/'\n",
    "                'remuneracao-servidores-prefeitura-de-sao-paulo')\n",
    "    print('Fazendo primeira requisição')\n",
    "    with requests.get(url_conjunto) as r:\n",
    "        sopa = BeautifulSoup(r.text)\n",
    "        \n",
    "    return sopa"
   ]
  },
  {
   "cell_type": "code",
   "execution_count": 4,
   "id": "c63a8574-0487-43c4-be89-893ae023a366",
   "metadata": {},
   "outputs": [],
   "source": [
    "def pegar_itens(sopa):\n",
    "    \n",
    "    itens = sopa.find_all('li', {'class' : 'resource-item'})\n",
    "    \n",
    "    return itens"
   ]
  },
  {
   "cell_type": "code",
   "execution_count": 5,
   "id": "4ea7dfa8-f24a-4739-83af-72169764a493",
   "metadata": {},
   "outputs": [],
   "source": [
    "def get_descricao(item):\n",
    "    \n",
    "    desc=item.find('p', {'class' : 'description'}).text\n",
    "    \n",
    "    return desc.strip()"
   ]
  },
  {
   "cell_type": "code",
   "execution_count": 6,
   "id": "9f55b724-24ec-4544-b6a8-23c02e07e362",
   "metadata": {},
   "outputs": [],
   "source": [
    "def get_download_link(item):\n",
    "    \n",
    "    menu = item.find('ul', {'class' : 'dropdown-menu'})\n",
    "    link = menu.find('a', {'class' : \"resource-url-analytics\"})\n",
    "    \n",
    "    return link['href']"
   ]
  },
  {
   "cell_type": "code",
   "execution_count": 7,
   "id": "f4624efd-cc3b-4b89-bee3-c07c14e69371",
   "metadata": {},
   "outputs": [],
   "source": [
    "def download_data(link):\n",
    "    \n",
    "    with requests.get(link) as r:\n",
    "        dados = r.text\n",
    "    \n",
    "    return dados"
   ]
  },
  {
   "cell_type": "code",
   "execution_count": 8,
   "id": "7bb69d3a-4456-44a4-a5fb-65371bbdfe5f",
   "metadata": {},
   "outputs": [],
   "source": [
    "def gen_fname(desc, path_dados=PATH_DADOS):\n",
    "    \n",
    "    mes = desc.split(':')[-1]\n",
    "    fname = mes.replace(' ', '_') + '.csv'\n",
    "    \n",
    "    return os.path.join(path_dados, fname)"
   ]
  },
  {
   "cell_type": "code",
   "execution_count": 9,
   "id": "908fceb5-80be-46cf-a5e3-ed7b4235051f",
   "metadata": {},
   "outputs": [],
   "source": [
    "def save_file(fname, dados):\n",
    "    \n",
    "    with open(fname, 'w') as f:\n",
    "        f.write(dados)"
   ]
  },
  {
   "cell_type": "code",
   "execution_count": 10,
   "id": "8b5d1d45-901a-414c-81d7-3c578574e99e",
   "metadata": {},
   "outputs": [],
   "source": [
    "def check_if_already_saved(desc):\n",
    "    \n",
    "    fname = gen_fname(desc)\n",
    "    \n",
    "    return os.path.exists(fname)"
   ]
  },
  {
   "cell_type": "code",
   "execution_count": 11,
   "id": "5f95cc93-b1ab-404d-a529-24cfa431a308",
   "metadata": {},
   "outputs": [],
   "source": [
    "def download_one_item(item, link):\n",
    "    \n",
    "    desc = get_descricao(item)\n",
    "    \n",
    "    if check_if_already_saved(desc):\n",
    "        print(f'Dados para {desc} já salvos')\n",
    "        return\n",
    "    else:\n",
    "        print(f'Baixando dados para: {desc}')\n",
    "        dados = download_data(link)\n",
    "        fname = gen_fname(desc)\n",
    "        save_file(fname, dados)\n",
    "        print(f'Dados salvos para {desc} baixados')\n",
    "    "
   ]
  },
  {
   "cell_type": "code",
   "execution_count": 12,
   "id": "13729ee3-acc6-4377-b9bc-818779b4e279",
   "metadata": {},
   "outputs": [],
   "source": [
    "def download_all_itens(itens=None):\n",
    "    \n",
    "    for item in itens:\n",
    "        link = get_download_link(item)\n",
    "\n",
    "        if link.endswith('.csv'):\n",
    "            download_one_item(item, link)\n",
    "    "
   ]
  },
  {
   "cell_type": "code",
   "execution_count": 13,
   "id": "91566528-51c8-4f40-9db7-a1d54c0cc376",
   "metadata": {},
   "outputs": [],
   "source": [
    "def get_all_csv():\n",
    "    \n",
    "    sopa = gerar_sopa()\n",
    "    itens = pegar_itens(sopa)\n",
    "    download_all_itens(itens)"
   ]
  },
  {
   "cell_type": "code",
   "execution_count": 14,
   "id": "a5592fec-7e70-4aeb-a35b-9b017a7056d4",
   "metadata": {},
   "outputs": [
    {
     "name": "stdout",
     "output_type": "stream",
     "text": [
      "Fazendo primeira requisição\n",
      "Dados para Mês de referência: julho de 2021 já salvos\n",
      "Dados para Mês de referência: junho de 2021 já salvos\n",
      "Dados para Mês de referência: maio de 2021 já salvos\n",
      "Dados para Mês de referência: abril de 2021 já salvos\n",
      "Dados para Mês de referência: março de 2021 já salvos\n",
      "Dados para Mês de referência: fevereiro de 2021 já salvos\n",
      "Dados para Mês de referência: janeiro de 2021 já salvos\n",
      "Dados para Mês de referência: dezembro de 2020 já salvos\n",
      "Dados para Mês de referência: novembro de 2020 já salvos\n",
      "Dados para Mês de referência: outubro de 2020 já salvos\n",
      "Dados para Mês de referência: setembro de 2020 já salvos\n",
      "Dados para Mês de referência: agosto de 2020 já salvos\n",
      "Dados para Mês de referência: julho de 2020 já salvos\n",
      "Dados para Mês de referência: junho de 2020 já salvos\n",
      "Dados para Mês de referência: maio de 2020 já salvos\n",
      "Dados para Mês de referência: abril de 2020 já salvos\n",
      "Dados para Mês de referência: março de 2020 já salvos\n",
      "Dados para Mês de referência: fevereiro de 2020 já salvos\n",
      "Dados para Mês de referência: janeiro de 2020 já salvos\n",
      "Dados para Mês de referência: dezembro de 2019 já salvos\n",
      "Dados para Mês de referência: novembro de 2019 já salvos\n",
      "Dados para Mês de referência: outubro de 2019 já salvos\n",
      "Dados para Mês de referência: setembro de 2019 já salvos\n",
      "Dados para Mês de referência: agosto de 2019 já salvos\n",
      "Dados para Mês de referência: julho de 2019 já salvos\n",
      "Dados para Mês de referência: junho de 2019 já salvos\n",
      "Dados para Mês de referência: maio de 2019 já salvos\n",
      "Dados para Mês de referência: abril de 2019 já salvos\n",
      "Dados para Mês de referência: março de 2019 já salvos\n",
      "Dados para Mês de referência: fevereiro de 2019 já salvos\n",
      "Dados para Mês de referência: janeiro de 2019 já salvos\n",
      "Dados para Mês de referência: dezembro de 2018 já salvos\n",
      "Dados para Mês de referência: novembro de 2018 já salvos\n",
      "Dados para Mês de referência: outubro de 2018 já salvos\n",
      "Dados para Mês de referência: setembro de 2018 já salvos\n",
      "Dados para Mês de referência: agosto de 2018 já salvos\n",
      "Dados para Mês de referência: julho de 2018 já salvos\n",
      "Dados para Mês de referência: junho de 2018 já salvos\n",
      "Dados para Mês de referência: maio de 2018 já salvos\n",
      "Dados para Mês de referência: abril de 2018 já salvos\n",
      "Dados para Mês de referência: março de 2018 já salvos\n",
      "Dados para Mês de referência: fevereiro de 2018 já salvos\n",
      "Dados para Mês de referência: janeiro de 2018 já salvos\n",
      "Dados para Mês de referência: dezembro de 2017 já salvos\n",
      "Dados para Mês de referência: novembro de 2017 já salvos\n",
      "Dados para Mês de referência: outubro de 2017 já salvos\n",
      "Dados para Mês de referência: setembro de 2017 já salvos\n",
      "Dados para Mês de referência: agosto de 2017 já salvos\n",
      "Dados para Mês de referência: julho de 2017 já salvos\n",
      "Dados para Mês de referência: junho de 2017 já salvos\n",
      "Dados para Mês de Referência: maio de 2017. já salvos\n",
      "Dados para Mês de Referência: abril de 2017. já salvos\n",
      "Dados para Mês de Referência: março de 2017. já salvos\n",
      "Dados para Mês de referência: fevereiro de 2017 já salvos\n",
      "Dados para Mês de referência: janeiro de 2017 já salvos\n"
     ]
    }
   ],
   "source": [
    "get_all_csv()"
   ]
  },
  {
   "cell_type": "code",
   "execution_count": 15,
   "id": "32d95e8b-072a-4560-ad72-69a07824ea95",
   "metadata": {},
   "outputs": [],
   "source": [
    "def open_all_historic_salary_data(save=True, path_dados=PATH_DADOS):\n",
    "    \n",
    "    files = [os.path.join(path_dados, file) for \n",
    "            file in os.listdir(path_dados) if file.endswith('.csv')]\n",
    "    dfs=[]\n",
    "    for file in files:\n",
    "        df = pd.read_csv(file, sep=';', encoding='utf-8')\n",
    "        df['filename'] = file\n",
    "        dfs.append(df)\n",
    "    \n",
    "    df_final = pd.concat(dfs)\n",
    "    \n",
    "    if save:\n",
    "        df_final.to_csv(os.path.join('original_data/aggregated/',\n",
    "                        'historico_remuneracao_jan_2017_jul_2021.csv'),\n",
    "                       sep=';', encoding='utf-8')\n",
    "    \n",
    "    return df_final"
   ]
  },
  {
   "cell_type": "code",
   "execution_count": 16,
   "id": "36ed0aba-7855-46e8-af82-5b1a97a05629",
   "metadata": {},
   "outputs": [],
   "source": [
    "df = open_all_historic_salary_data()"
   ]
  },
  {
   "cell_type": "code",
   "execution_count": 17,
   "id": "c7dc2df4-f017-4ce7-ae89-5f1e2b83af91",
   "metadata": {},
   "outputs": [
    {
     "data": {
      "text/html": [
       "<div>\n",
       "<style scoped>\n",
       "    .dataframe tbody tr th:only-of-type {\n",
       "        vertical-align: middle;\n",
       "    }\n",
       "\n",
       "    .dataframe tbody tr th {\n",
       "        vertical-align: top;\n",
       "    }\n",
       "\n",
       "    .dataframe thead th {\n",
       "        text-align: right;\n",
       "    }\n",
       "</style>\n",
       "<table border=\"1\" class=\"dataframe\">\n",
       "  <thead>\n",
       "    <tr style=\"text-align: right;\">\n",
       "      <th></th>\n",
       "      <th>Exceção</th>\n",
       "      <th>Nome completo</th>\n",
       "      <th>Cargo Base</th>\n",
       "      <th>Cargo em Comissão</th>\n",
       "      <th>Remuneração do Mês</th>\n",
       "      <th>Demais Elementos da Remuneração</th>\n",
       "      <th>Remuneração Bruta</th>\n",
       "      <th>Unidade</th>\n",
       "      <th>Tp. Log</th>\n",
       "      <th>Logadrouro</th>\n",
       "      <th>Número</th>\n",
       "      <th>Complemento</th>\n",
       "      <th>Jornada</th>\n",
       "      <th>filename</th>\n",
       "      <th>Unnamed: 0</th>\n",
       "    </tr>\n",
       "  </thead>\n",
       "  <tbody>\n",
       "    <tr>\n",
       "      <th>0</th>\n",
       "      <td>NaN</td>\n",
       "      <td>ADENIZE CONRADO DOS SANTOS</td>\n",
       "      <td></td>\n",
       "      <td>ASSESSOR I</td>\n",
       "      <td>2.546,86</td>\n",
       "      <td>1.004,92</td>\n",
       "      <td>3.551,78</td>\n",
       "      <td>GABINETE DO PREFEITO</td>\n",
       "      <td>Viaduto</td>\n",
       "      <td>DO CHA</td>\n",
       "      <td>15</td>\n",
       "      <td>5º ANDAR</td>\n",
       "      <td>40 H</td>\n",
       "      <td>original_data/dados_portal_dados_abertos/_feve...</td>\n",
       "      <td>NaN</td>\n",
       "    </tr>\n",
       "    <tr>\n",
       "      <th>1</th>\n",
       "      <td>NaN</td>\n",
       "      <td>ADLA RIBEIRO DOS SANTOS</td>\n",
       "      <td></td>\n",
       "      <td>ASSESSOR TECNICO II</td>\n",
       "      <td>3.385,57</td>\n",
       "      <td>1.200,94</td>\n",
       "      <td>4.586,51</td>\n",
       "      <td>GABINETE DO PREFEITO</td>\n",
       "      <td>Viaduto</td>\n",
       "      <td>DO CHA</td>\n",
       "      <td>15</td>\n",
       "      <td>5º ANDAR</td>\n",
       "      <td>40 H</td>\n",
       "      <td>original_data/dados_portal_dados_abertos/_feve...</td>\n",
       "      <td>NaN</td>\n",
       "    </tr>\n",
       "    <tr>\n",
       "      <th>2</th>\n",
       "      <td>NaN</td>\n",
       "      <td>ADRIANA APARECIDA FERNANDES BIFULCO</td>\n",
       "      <td></td>\n",
       "      <td>ASSESSOR TECNICO I</td>\n",
       "      <td>3.077,73</td>\n",
       "      <td>1.032,72</td>\n",
       "      <td>4.110,45</td>\n",
       "      <td>COORDENACAO DE IMPRENSA</td>\n",
       "      <td>Viaduto</td>\n",
       "      <td>DO CHA</td>\n",
       "      <td>15</td>\n",
       "      <td>6º ANDAR</td>\n",
       "      <td>40 H</td>\n",
       "      <td>original_data/dados_portal_dados_abertos/_feve...</td>\n",
       "      <td>NaN</td>\n",
       "    </tr>\n",
       "    <tr>\n",
       "      <th>3</th>\n",
       "      <td>NaN</td>\n",
       "      <td>ADRIANA PETRILLI LEME DE CAMPOS</td>\n",
       "      <td>PROCURADOR DO MUNICIPIO II</td>\n",
       "      <td>ASSESSOR JURIDICO III</td>\n",
       "      <td>32.181,49</td>\n",
       "      <td>719,98</td>\n",
       "      <td>32.901,47</td>\n",
       "      <td>ASSESSORIA JURIDICA</td>\n",
       "      <td>Viaduto</td>\n",
       "      <td>DO CHA</td>\n",
       "      <td>15</td>\n",
       "      <td>9º ANDAR</td>\n",
       "      <td>40 H</td>\n",
       "      <td>original_data/dados_portal_dados_abertos/_feve...</td>\n",
       "      <td>NaN</td>\n",
       "    </tr>\n",
       "    <tr>\n",
       "      <th>4</th>\n",
       "      <td>NaN</td>\n",
       "      <td>ALBERTINA FLORENTINO DE SOUZA</td>\n",
       "      <td>AGENTE DE APOIO  NIVEL I</td>\n",
       "      <td>ASSESSOR TECNICO I</td>\n",
       "      <td>2.232,93</td>\n",
       "      <td>869,32</td>\n",
       "      <td>3.102,25</td>\n",
       "      <td>ASSESSORIA TECNICO-LEGISLATIVA</td>\n",
       "      <td>Viaduto</td>\n",
       "      <td>DO CHA</td>\n",
       "      <td>15</td>\n",
       "      <td>6º ANDAR</td>\n",
       "      <td>40 H</td>\n",
       "      <td>original_data/dados_portal_dados_abertos/_feve...</td>\n",
       "      <td>NaN</td>\n",
       "    </tr>\n",
       "  </tbody>\n",
       "</table>\n",
       "</div>"
      ],
      "text/plain": [
       "   Exceção                        Nome completo                  Cargo Base  \\\n",
       "0      NaN           ADENIZE CONRADO DOS SANTOS                               \n",
       "1      NaN              ADLA RIBEIRO DOS SANTOS                               \n",
       "2      NaN  ADRIANA APARECIDA FERNANDES BIFULCO                               \n",
       "3      NaN      ADRIANA PETRILLI LEME DE CAMPOS  PROCURADOR DO MUNICIPIO II   \n",
       "4      NaN        ALBERTINA FLORENTINO DE SOUZA    AGENTE DE APOIO  NIVEL I   \n",
       "\n",
       "       Cargo em Comissão Remuneração do Mês Demais Elementos da Remuneração  \\\n",
       "0             ASSESSOR I           2.546,86                        1.004,92   \n",
       "1    ASSESSOR TECNICO II           3.385,57                        1.200,94   \n",
       "2     ASSESSOR TECNICO I           3.077,73                        1.032,72   \n",
       "3  ASSESSOR JURIDICO III          32.181,49                          719,98   \n",
       "4     ASSESSOR TECNICO I           2.232,93                          869,32   \n",
       "\n",
       "  Remuneração Bruta                         Unidade  Tp. Log Logadrouro  \\\n",
       "0          3.551,78            GABINETE DO PREFEITO  Viaduto     DO CHA   \n",
       "1          4.586,51            GABINETE DO PREFEITO  Viaduto     DO CHA   \n",
       "2          4.110,45         COORDENACAO DE IMPRENSA  Viaduto     DO CHA   \n",
       "3         32.901,47             ASSESSORIA JURIDICA  Viaduto     DO CHA   \n",
       "4          3.102,25  ASSESSORIA TECNICO-LEGISLATIVA  Viaduto     DO CHA   \n",
       "\n",
       "  Número Complemento Jornada  \\\n",
       "0     15    5º ANDAR    40 H   \n",
       "1     15    5º ANDAR    40 H   \n",
       "2     15    6º ANDAR    40 H   \n",
       "3     15    9º ANDAR    40 H   \n",
       "4     15    6º ANDAR    40 H   \n",
       "\n",
       "                                            filename  Unnamed: 0  \n",
       "0  original_data/dados_portal_dados_abertos/_feve...         NaN  \n",
       "1  original_data/dados_portal_dados_abertos/_feve...         NaN  \n",
       "2  original_data/dados_portal_dados_abertos/_feve...         NaN  \n",
       "3  original_data/dados_portal_dados_abertos/_feve...         NaN  \n",
       "4  original_data/dados_portal_dados_abertos/_feve...         NaN  "
      ]
     },
     "execution_count": 17,
     "metadata": {},
     "output_type": "execute_result"
    }
   ],
   "source": [
    "df.head()"
   ]
  },
  {
   "cell_type": "code",
   "execution_count": 18,
   "id": "ebcee998-2b34-4ec6-b312-d5b4b9d21311",
   "metadata": {},
   "outputs": [],
   "source": [
    "link_dados_cadastrais = 'http://dados.prefeitura.sp.gov.br/dataset/bf5df0f4-4fb0-4a5e-b013-07d098cc7b1c/resource/17ef6f66-f1b2-4455-9b92-fb66992571a7/download/verificadoativos02-08-2021jul-2021.csv'"
   ]
  },
  {
   "cell_type": "code",
   "execution_count": 19,
   "id": "d1057b9b-0e60-4f9f-b1cf-b64ab024cb88",
   "metadata": {},
   "outputs": [],
   "source": [
    "def download_dados_cadastrais(link = link_dados_cadastrais):\n",
    "    \n",
    "    dados = download_data(link)\n",
    "    \n",
    "    fname = 'original_data/aggregated/cadastro_servidores_ativos_jul_2021.csv'\n",
    "    save_file(fname, dados)"
   ]
  },
  {
   "cell_type": "code",
   "execution_count": 20,
   "id": "a1b7461b-0bc6-4687-b80d-56ef570e8006",
   "metadata": {},
   "outputs": [],
   "source": [
    "download_dados_cadastrais()"
   ]
  },
  {
   "cell_type": "code",
   "execution_count": null,
   "id": "aa676a78-1e11-4e16-b046-e439567d2505",
   "metadata": {},
   "outputs": [],
   "source": []
  }
 ],
 "metadata": {
  "kernelspec": {
   "display_name": "Python 3",
   "language": "python",
   "name": "python3"
  },
  "language_info": {
   "codemirror_mode": {
    "name": "ipython",
    "version": 3
   },
   "file_extension": ".py",
   "mimetype": "text/x-python",
   "name": "python",
   "nbconvert_exporter": "python",
   "pygments_lexer": "ipython3",
   "version": "3.8.8"
  }
 },
 "nbformat": 4,
 "nbformat_minor": 5
}
