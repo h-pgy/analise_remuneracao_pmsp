{
 "cells": [
  {
   "cell_type": "code",
   "execution_count": 1,
   "id": "3a5f0081-9138-4acf-a8f6-436ea0eca3e3",
   "metadata": {},
   "outputs": [],
   "source": [
    "import requests\n",
    "from bs4 import BeautifulSoup\n",
    "import json\n",
    "import os\n",
    "import pandas as pd"
   ]
  },
  {
   "cell_type": "code",
   "execution_count": 2,
   "id": "47e587cf-e49e-43f5-81ef-3e0fbdf2af58",
   "metadata": {},
   "outputs": [],
   "source": [
    "PATH_DADOS = 'original_data/dados_transparencia/'"
   ]
  },
  {
   "cell_type": "code",
   "execution_count": 3,
   "id": "06391804-7447-4387-831d-702b67522e9e",
   "metadata": {},
   "outputs": [],
   "source": [
    "def pegar_dados(codigo_orgao, page_num = 0):\n",
    "    \n",
    "    data = {\n",
    "    'tipoPesquisa' : 'direta',\n",
    "    'nm_servidor' : '',\n",
    "    'cd_secretaria' : str(codigo_orgao),\n",
    "    'tp_servidor' : 'ATIVOS',\n",
    "    'cd_cargo' : \"0\",\n",
    "    'cd_tipo' : \"1\",\n",
    "    'Valor' : \"0\",\n",
    "    'rowsPerPage' : '500',\n",
    "    'pageNum' : str(page_num),\n",
    "    'orderType' : \"0\",\n",
    "    'colNum' : \"0\"\n",
    "    }\n",
    "    \n",
    "    with requests.post('http://transparencia.prefeitura.sp.gov.br/phpconsultainterna',\n",
    "                  data = data) as r:\n",
    "        dados = r.json()\n",
    "    \n",
    "    return dados"
   ]
  },
  {
   "cell_type": "code",
   "execution_count": 4,
   "id": "ac27bb8d-cbda-4bb4-bccb-dbb6674091bb",
   "metadata": {},
   "outputs": [],
   "source": [
    "def get_all_data_orgao(codigo_orgao):\n",
    "    \n",
    "    page_num = 0\n",
    "    todos_dados=[]\n",
    "    while True:\n",
    "        dados = pegar_dados(codigo_orgao, page_num)\n",
    "        if dados is None:\n",
    "            print(f'Orgao {codigo_orgao} sem dados')\n",
    "            break\n",
    "        page_num+=1\n",
    "        todos_dados.extend(dados)\n",
    "        total = int(dados[0]['total'])\n",
    "        total_linhas=len(todos_dados)\n",
    "        if total_linhas>=total:\n",
    "            break\n",
    "    return todos_dados"
   ]
  },
  {
   "cell_type": "code",
   "execution_count": 5,
   "id": "a13119b5-24c1-4c44-8b2b-86b272b0df9a",
   "metadata": {},
   "outputs": [],
   "source": [
    "def pegar_ids_orgaos():\n",
    "    \n",
    "    with requests.get('http://transparencia.prefeitura.sp.gov.br/funcionalismo/') as r:\n",
    "        sopa = BeautifulSoup(r.text)\n",
    "        \n",
    "    vals = sopa.find('select', {'id' : 'orgao'}).find_all('option')[1:]\n",
    "    \n",
    "    return {val['value'] : val.text for val in vals}"
   ]
  },
  {
   "cell_type": "code",
   "execution_count": 6,
   "id": "aa5adb5c-8bea-4522-ad04-ac671472d975",
   "metadata": {},
   "outputs": [],
   "source": [
    "def gen_file_name(orgao_name):\n",
    "    \n",
    "    if '/' in orgao_name:\n",
    "        orgao_name = orgao_name.replace('/', '-')\n",
    "    return os.path.join(PATH_DADOS, f'{orgao_name}.json')"
   ]
  },
  {
   "cell_type": "code",
   "execution_count": 7,
   "id": "b12797a8-dca4-4bd3-bd47-29661d4ba3e7",
   "metadata": {},
   "outputs": [],
   "source": [
    "def save_as_json(orgao_data, orgao_name):\n",
    "    \n",
    "    f_name = gen_file_name(orgao_name)\n",
    "    with open(f_name, 'w') as f:\n",
    "        json.dump(orgao_data, f)"
   ]
  },
  {
   "cell_type": "code",
   "execution_count": 8,
   "id": "a28d660d-2d9e-4dbc-941c-acded804ea1a",
   "metadata": {},
   "outputs": [],
   "source": [
    "def find_json(orgao_name):\n",
    "    \n",
    "    f_name = gen_file_name(orgao_name)\n",
    "    for file in os.listdir(PATH_DADOS):\n",
    "        if os.path.join(PATH_DADOS,file)==f_name:\n",
    "            with open(os.path.join(PATH_DADOS, file), 'r') as f:\n",
    "                return json.load(f)\n",
    "    return None"
   ]
  },
  {
   "cell_type": "code",
   "execution_count": 9,
   "id": "4e185043-2e71-44c1-9bd7-17564ad1b9d4",
   "metadata": {},
   "outputs": [],
   "source": [
    "def pull_cache(orgao_name, all_data):\n",
    "    \n",
    "    cached = find_json(orgao_name)\n",
    "    if cached:\n",
    "        print(f'{orgao_name} - cached')\n",
    "        all_data[orgao_name] = cached\n",
    "        return True\n",
    "    else:\n",
    "        return False"
   ]
  },
  {
   "cell_type": "code",
   "execution_count": 10,
   "id": "9c0b6277-7c34-46ee-a4ca-52662032f8a8",
   "metadata": {},
   "outputs": [],
   "source": [
    "def download_data(id_orgao, orgao_name, all_data, save_json=True):\n",
    "    \n",
    "    orgao_data = get_all_data_orgao(id_orgao)\n",
    "    print(f'{orgao_name} data downloaded')\n",
    "    if save_json:\n",
    "        save_as_json(orgao_data, orgao_name)\n",
    "    all_data[orgao_name] = orgao_data"
   ]
  },
  {
   "cell_type": "code",
   "execution_count": 11,
   "id": "7c561006-7a5a-469a-a606-f50bf555918c",
   "metadata": {},
   "outputs": [],
   "source": [
    "def get_all_data_por_orgao(save_json=True, cache=True):\n",
    "    \n",
    "    orgaos = pegar_ids_orgaos()\n",
    "    \n",
    "    all_data = {}\n",
    "    for id_orgao, orgao_name in orgaos.items():\n",
    "        if cache:\n",
    "            cached = pull_cache(orgao_name, all_data)\n",
    "            if not cached:\n",
    "                download_data(id_orgao, orgao_name, all_data, save_json)\n",
    "        else:\n",
    "            download_data(id_orgao, orgao_name, all_data, save_json)  \n",
    "    \n",
    "    return all_data"
   ]
  },
  {
   "cell_type": "code",
   "execution_count": 12,
   "id": "9fe17c94-eb4b-46bb-a055-7558d01c679d",
   "metadata": {},
   "outputs": [
    {
     "name": "stdout",
     "output_type": "stream",
     "text": [
      "CONTROLADORIA GERAL DO MUNICIPIO - cached\n",
      "GABINETE DO PREFEITO - cached\n",
      "Orgao 00 sem dados\n",
      "PREFEITURA DO MUNICIPIO DE SAO PAULO data downloaded\n",
      "PROCURADORIA GERAL DO MUNICIPIO - cached\n",
      "SECRETARIA MUNICIPAL DA FAZENDA - cached\n",
      "SECRETARIA MUNICIPAL DA PESSOA COM DEFICIENCIA - cached\n",
      "SECRETARIA MUNICIPAL DA SAUDE - cached\n",
      "SECRETARIA MUNICIPAL DAS SUBPREFEITURAS - cached\n",
      "SECRETARIA MUNICIPAL DE ASSIST E DESENV SOCIAL - cached\n",
      "SECRETARIA MUNICIPAL DE CULTURA - cached\n",
      "SECRETARIA MUNICIPAL DE DESENVOLVIMENTO ECONOMICO - cached\n",
      "SECRETARIA MUNICIPAL DE DIREITOS HUMANOS E CIDADAN - cached\n",
      "SECRETARIA MUNICIPAL DE EDUCACAO - cached\n",
      "SECRETARIA MUNICIPAL DE ESPORTES E LAZER - cached\n",
      "SECRETARIA MUNICIPAL DE HABITACAO - cached\n",
      "SECRETARIA MUNICIPAL DE INFRAESTRUTURA URBANA E OB - cached\n",
      "SECRETARIA MUNICIPAL DE INOVACAO E TECNOLOGIA - cached\n",
      "SECRETARIA MUNICIPAL DE JUSTICA - cached\n",
      "SECRETARIA MUNICIPAL DE MOBILIDADE E TRANSPORTES - cached\n",
      "SECRETARIA MUNICIPAL DE RELACOES INTERNACIONAIS - cached\n",
      "SECRETARIA MUNICIPAL DE SEGURANCA URBANA - cached\n",
      "SECRETARIA MUNICIPAL DE URBANISMO E LICENCIAMENTO - cached\n",
      "SECRETARIA MUNICIPAL DO VERDE E DO MEIO AMBIENTE - cached\n",
      "SUBPREFEITURA ARICANDUVA/FORMOSA/CARRAO - cached\n",
      "SUBPREFEITURA BUTANTA - cached\n",
      "SUBPREFEITURA CAMPO LIMPO - cached\n",
      "SUBPREFEITURA CAPELA DO SOCORRO - cached\n",
      "SUBPREFEITURA CASA VERDE/CACHOEIRINHA - cached\n",
      "SUBPREFEITURA CIDADE ADEMAR - cached\n",
      "SUBPREFEITURA CIDADE TIRADENTES - cached\n",
      "SUBPREFEITURA ERMELINO MATARAZZO - cached\n",
      "SUBPREFEITURA FREGUESIA DO O/BRASILANDIA - cached\n",
      "SUBPREFEITURA GUAIANASES - cached\n",
      "SUBPREFEITURA IPIRANGA - cached\n",
      "SUBPREFEITURA ITAIM PAULISTA - cached\n",
      "SUBPREFEITURA ITAQUERA - cached\n",
      "SUBPREFEITURA JABAQUARA - cached\n",
      "SUBPREFEITURA JACANA/TREMEMBE - cached\n",
      "SUBPREFEITURA LAPA - cached\n",
      "SUBPREFEITURA M'BOI MIRIM - cached\n",
      "SUBPREFEITURA MOOCA - cached\n",
      "SUBPREFEITURA PARELHEIROS - cached\n",
      "SUBPREFEITURA PENHA - cached\n",
      "SUBPREFEITURA PERUS/ANHANGUERA - cached\n",
      "SUBPREFEITURA PINHEIROS - cached\n",
      "SUBPREFEITURA PIRITUBA - cached\n",
      "SUBPREFEITURA SANTANA/TUCURUVI - cached\n",
      "SUBPREFEITURA SANTO AMARO - cached\n",
      "SUBPREFEITURA SAO MATEUS - cached\n",
      "SUBPREFEITURA SAO MIGUEL - cached\n",
      "SUBPREFEITURA SAPOPEMBA - cached\n",
      "SUBPREFEITURA SE - cached\n",
      "SUBPREFEITURA VILA MARIA/VILA GUILHERME - cached\n",
      "SUBPREFEITURA VILA MARIANA - cached\n",
      "SUBPREFEITURA VILA PRUDENTE - cached\n"
     ]
    }
   ],
   "source": [
    "data = get_all_data_por_orgao()"
   ]
  },
  {
   "cell_type": "code",
   "execution_count": 13,
   "id": "00848eb6-42c6-4e8a-8af2-e59ecbea3ce7",
   "metadata": {},
   "outputs": [],
   "source": [
    "with open(os.path.join(PATH_DADOS,'TODOS_ORGAOS.json'), 'w') as f:\n",
    "    json.dump(data, f)"
   ]
  },
  {
   "cell_type": "code",
   "execution_count": 14,
   "id": "6fb4fc52-cbc0-476f-badc-1b97ad5982b2",
   "metadata": {},
   "outputs": [],
   "source": [
    "def open_all_salary_data():\n",
    "    \n",
    "    with open(os.path.join(PATH_DADOS,'TODOS_ORGAOS.json'), 'r') as f:\n",
    "        data = json.load(f)\n",
    "    \n",
    "    dfs = []\n",
    "    \n",
    "    for orgao in data:\n",
    "        df = pd.DataFrame(data[orgao])\n",
    "        dfs.append(df)\n",
    "    \n",
    "    df_final = pd.concat(dfs)\n",
    "    df_final.rename({'total' : 'qtd_servidores_orgao'}, axis=1, inplace=True)\n",
    "    \n",
    "    return df_final"
   ]
  },
  {
   "cell_type": "code",
   "execution_count": 15,
   "id": "17bc33c2-c549-4439-8ce4-3239b36b6f11",
   "metadata": {},
   "outputs": [],
   "source": [
    "df_remuneracao = open_all_salary_data()"
   ]
  },
  {
   "cell_type": "code",
   "execution_count": 16,
   "id": "0f6b67ec-16cb-4fa8-b994-fdb4deb1d619",
   "metadata": {},
   "outputs": [],
   "source": [
    "df_remuneracao.to_csv(os.path.join('original_data/aggregated', 'remuneracao_transparencia_jul_2021.csv')\n",
    "                      ,index=False,sep=';')"
   ]
  },
  {
   "cell_type": "code",
   "execution_count": null,
   "id": "b1deb3ae-6363-4c31-907e-4a7e2b6f7492",
   "metadata": {},
   "outputs": [],
   "source": []
  }
 ],
 "metadata": {
  "kernelspec": {
   "display_name": "Python 3",
   "language": "python",
   "name": "python3"
  },
  "language_info": {
   "codemirror_mode": {
    "name": "ipython",
    "version": 3
   },
   "file_extension": ".py",
   "mimetype": "text/x-python",
   "name": "python",
   "nbconvert_exporter": "python",
   "pygments_lexer": "ipython3",
   "version": "3.8.8"
  }
 },
 "nbformat": 4,
 "nbformat_minor": 5
}
